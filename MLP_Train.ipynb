{
 "cells": [
  {
   "cell_type": "markdown",
   "metadata": {},
   "source": [
    "# MLP Train"
   ]
  },
  {
   "cell_type": "markdown",
   "metadata": {
    "vscode": {
     "languageId": "plaintext"
    }
   },
   "source": [
    "### 1.package"
   ]
  },
  {
   "cell_type": "code",
   "execution_count": 1,
   "metadata": {},
   "outputs": [],
   "source": [
    "import torch\n",
    "import h5py\n",
    "import numpy as np\n",
    "from obspy import read\n",
    "import os\n",
    "from torch.utils.data import Dataset, DataLoader\n",
    "import matplotlib.pyplot as plt"
   ]
  },
  {
   "cell_type": "markdown",
   "metadata": {},
   "source": [
    "### 2.load data"
   ]
  },
  {
   "cell_type": "markdown",
   "metadata": {},
   "source": [
    "#### lst to hdf5"
   ]
  },
  {
   "cell_type": "code",
   "execution_count": 12,
   "metadata": {},
   "outputs": [],
   "source": [
    "# 获取时间窗（P波和S波到达时间）\n",
    "def get_window_times(Z_hdr):\n",
    "    before_sec = 0.25\n",
    "    after_sec = 1.85\n",
    "    a = Z_hdr.get('a', None)\n",
    "    t0 = Z_hdr.get('t0', None)\n",
    "    \n",
    "    if a is not None and t0 is not None:\n",
    "        t_p = a  # P波到达时间\n",
    "        t_s = t0  # S波到达时间\n",
    "    elif Z_hdr.t3 > 0 and Z_hdr.t4 > 0:\n",
    "        t_p = Z_hdr.t3  # P波到达时间\n",
    "        t_s = Z_hdr.t4  # S波到达时间\n",
    "    elif a is not None and Z_hdr.t4 > 0:\n",
    "        t_p = a  # P波到达时间\n",
    "        t_s = Z_hdr.t4  # S波到达时间\n",
    "    elif Z_hdr.t3 > 0 and t0 is not None:\n",
    "        t_p = Z_hdr.t3  # P波到达时间\n",
    "        t_s = t0  # S波到达时间\n",
    "    else:\n",
    "        raise ValueError(\"没有找到有效的P波或S波到达时间。\")\n",
    "    \n",
    "    # 根据P波或S波确定时间窗\n",
    "    if Z_hdr.kcmpnm == 'HHZ':  # Z分量\n",
    "        start_time = int((t_p - before_sec) / Z_hdr.delta)\n",
    "        end_time = int((t_p + after_sec) / Z_hdr.delta)\n",
    "    else:  # T分量\n",
    "        start_time = int((t_s - before_sec) / Z_hdr.delta)\n",
    "        end_time = int((t_s + after_sec) / Z_hdr.delta)\n",
    "\n",
    "    return start_time, end_time\n",
    "\n",
    "# 震级转换为M0\n",
    "def compute_M0(magnitude):\n",
    "    Mw = 0.754 * magnitude + 0.88  # Mw ML转换\n",
    "    return 10 ** (1.5 * Mw + 9.105)\n",
    "\n",
    "# 函数：读取.lst文件中的每一行，返回对应的文件路径\n",
    "def read_lst_file(lst_filename):\n",
    "    \"\"\"读取.lst文件中的每行路径，返回每行的文件路径（Target waveform, EGF, ASTF）\"\"\"\n",
    "    with open(lst_filename, 'r') as f:\n",
    "        # 每一行是 \"Target_waveform_path EGF_path ASTF_path\"\n",
    "        return [line.strip().split() for line in f.readlines()]\n",
    "\n",
    "# 函数：加载SAC文件并返回波形数据\n",
    "def load_sac_file(sac_file):\n",
    "    \"\"\"读取SAC文件，返回波形数据\"\"\"\n",
    "    waveform = read(sac_file)[0]\n",
    "    return waveform\n",
    "\n",
    "# 函数：补零到最大长度\n",
    "def pad_to_max_length(waveform_data, max_length):\n",
    "    \"\"\"将波形数据补零到最大长度\"\"\"\n",
    "    if len(waveform_data) < max_length:\n",
    "        padded_data = np.pad(waveform_data, (0, max_length - len(waveform_data)), mode='constant')\n",
    "    else:\n",
    "        padded_data = waveform_data\n",
    "    return padded_data\n",
    "\n",
    "def normalize_waveform(waveform):\n",
    "    \"\"\"对波形进行归一化\"\"\"\n",
    "    # 确保waveform是numpy.ndarray类型\n",
    "    if isinstance(waveform, np.ndarray):\n",
    "        # 计算波形的最大值和最小值\n",
    "        max_value = np.max(waveform)\n",
    "        min_value = np.min(waveform)\n",
    "        \n",
    "        # 计算最大幅度，取最大值和最小值的绝对值\n",
    "        normalization_coefficient = max(abs(max_value), abs(min_value))\n",
    "        \n",
    "        # 归一化\n",
    "        norm_waveform = waveform / normalization_coefficient\n",
    "        return normalization_coefficient, norm_waveform\n",
    "    else:\n",
    "        raise TypeError(\"Input waveform should be a numpy ndarray\")\n",
    "\n",
    "# 数据加载函数：返回Target Waveform、EGF和ASTF的张量对\n",
    "def load_data_pair(target_waveform_path, egf_path, astf_path):\n",
    "    \"\"\"加载一对数据，返回Target、EGF、ASTF张量\"\"\"\n",
    "    \n",
    "    # 加载EGF和Target Waveform\n",
    "    target_waveform = load_sac_file(target_waveform_path)\n",
    "    egf = load_sac_file(egf_path)\n",
    "    M0 = compute_M0(egf.stats.sac.mag)\n",
    "    \n",
    "    # 获取时间窗（P波和S波到达时间）\n",
    "    start_time, end_time = get_window_times(egf.stats.sac)\n",
    "    \n",
    "    # 截取数据\n",
    "    target_waveform_data = target_waveform.data\n",
    "    egf_data = egf.data[start_time:end_time]\n",
    "    \n",
    "    # 获取较长的长度\n",
    "    max_length = max(len(target_waveform_data), len(egf_data))\n",
    "    \n",
    "    # 补零\n",
    "    # target_waveform_data = pad_to_max_length(target_waveform_data, max_length)\n",
    "    egf_data = pad_to_max_length(egf_data, max_length)\n",
    "    \n",
    "    # 加载ASTF\n",
    "    astf_data = load_sac_file(astf_path).data  # 直接加载ASTF数据\n",
    "    astf_data /= M0\n",
    "    \n",
    "    # 转换为PyTorch张量\n",
    "    target_waveform_tensor = torch.tensor(target_waveform_data, dtype=torch.float32)\n",
    "    egf_tensor = torch.tensor(egf_data, dtype=torch.float32)\n",
    "    astf_tensor = torch.tensor(astf_data, dtype=torch.float32)\n",
    "    \n",
    "    return target_waveform_tensor, egf_tensor, astf_tensor\n",
    "\n",
    "def save_data_to_hdf5(lst_file, hdf5_filename, batch_size=10000, compress=True):\n",
    "    \"\"\"从.lst文件中读取数据路径，加载并保存数据为HDF5格式，优化为批量写入\"\"\"\n",
    "\n",
    "    # 打开 HDF5 文件，并创建数据集\n",
    "    with h5py.File(hdf5_filename, 'w') as hf:\n",
    "        # 设置压缩选项\n",
    "        compression_opts = 'gzip' if compress else None\n",
    "        \n",
    "        # 创建数据集的结构\n",
    "        target_waveforms_ds = hf.create_dataset(\n",
    "            'target_waveforms', \n",
    "            shape=(0, 510), \n",
    "            maxshape=(None, 510), \n",
    "            dtype='float32', \n",
    "            chunks=(batch_size, 510), \n",
    "            compression=compression_opts\n",
    "        )\n",
    "        egfs_ds = hf.create_dataset(\n",
    "            'egfs', \n",
    "            shape=(0, 510), \n",
    "            maxshape=(None, 510), \n",
    "            dtype='float32', \n",
    "            chunks=(batch_size, 510), \n",
    "            compression=compression_opts\n",
    "        )\n",
    "        astfs_ds = hf.create_dataset(\n",
    "            'astfs', \n",
    "            shape=(0, 301), \n",
    "            maxshape=(None, 301), \n",
    "            dtype='float32', \n",
    "            chunks=(batch_size, 301), \n",
    "            compression=compression_opts\n",
    "        )\n",
    "\n",
    "        # 读取.lst文件中的路径\n",
    "        data_pairs = read_lst_file(lst_file)\n",
    "\n",
    "        # 缓存数据\n",
    "        target_waveforms_batch = []\n",
    "        egfs_batch = []\n",
    "        astfs_batch = []\n",
    "\n",
    "        for idx, (target_waveform_path, egf_path, astf_path) in enumerate(data_pairs):\n",
    "            # 加载数据对\n",
    "            target_waveform_tensor, egf_tensor, astf_tensor = load_data_pair(target_waveform_path, egf_path, astf_path)\n",
    "            \n",
    "            # 将数据转换为NumPy数组并加入批次\n",
    "            target_waveforms_batch.append(target_waveform_tensor.numpy())\n",
    "            egfs_batch.append(egf_tensor.numpy())\n",
    "            astfs_batch.append(astf_tensor.numpy())\n",
    "            \n",
    "            # 如果当前批次达到指定的大小，就写入 HDF5 文件\n",
    "            if len(target_waveforms_batch) >= batch_size:\n",
    "                target_waveforms_ds.resize(target_waveforms_ds.shape[0] + len(target_waveforms_batch), axis=0)\n",
    "                egfs_ds.resize(egfs_ds.shape[0] + len(egfs_batch), axis=0)\n",
    "                astfs_ds.resize(astfs_ds.shape[0] + len(astfs_batch), axis=0)\n",
    "\n",
    "                target_waveforms_ds[-len(target_waveforms_batch):] = np.array(target_waveforms_batch)\n",
    "                egfs_ds[-len(egfs_batch):] = np.array(egfs_batch)\n",
    "                astfs_ds[-len(astfs_batch):] = np.array(astfs_batch)\n",
    "\n",
    "                # 清空批次缓存\n",
    "                target_waveforms_batch = []\n",
    "                egfs_batch = []\n",
    "                astfs_batch = []\n",
    "\n",
    "            # 每5000个样本输出一次进度\n",
    "            if (idx + 1) % 50000 == 0:\n",
    "                print(f\"已处理 {idx + 1}/{len(data_pairs)} 数据对\")\n",
    "\n",
    "        # 如果还有剩余数据（小于一个批次），写入到 HDF5 文件\n",
    "        if target_waveforms_batch:\n",
    "            target_waveforms_ds.resize(target_waveforms_ds.shape[0] + len(target_waveforms_batch), axis=0)\n",
    "            egfs_ds.resize(egfs_ds.shape[0] + len(egfs_batch), axis=0)\n",
    "            astfs_ds.resize(astfs_ds.shape[0] + len(astfs_batch), axis=0)\n",
    "\n",
    "            target_waveforms_ds[-len(target_waveforms_batch):] = np.array(target_waveforms_batch)\n",
    "            egfs_ds[-len(egfs_batch):] = np.array(egfs_batch)\n",
    "            astfs_ds[-len(astfs_batch):] = np.array(astfs_batch)\n",
    "\n",
    "        print(f\"数据已保存到 HDF5 文件：{hdf5_filename}\")\n"
   ]
  },
  {
   "cell_type": "code",
   "execution_count": 13,
   "metadata": {},
   "outputs": [
    {
     "name": "stdout",
     "output_type": "stream",
     "text": [
      "已处理 50000/14160698 数据对\n",
      "已处理 100000/14160698 数据对\n",
      "已处理 150000/14160698 数据对\n",
      "已处理 200000/14160698 数据对\n",
      "已处理 250000/14160698 数据对\n",
      "已处理 300000/14160698 数据对\n",
      "已处理 350000/14160698 数据对\n",
      "已处理 400000/14160698 数据对\n",
      "已处理 450000/14160698 数据对\n",
      "已处理 500000/14160698 数据对\n",
      "已处理 550000/14160698 数据对\n",
      "已处理 600000/14160698 数据对\n",
      "已处理 650000/14160698 数据对\n",
      "已处理 700000/14160698 数据对\n",
      "已处理 750000/14160698 数据对\n",
      "已处理 800000/14160698 数据对\n",
      "已处理 850000/14160698 数据对\n",
      "已处理 900000/14160698 数据对\n",
      "已处理 950000/14160698 数据对\n",
      "已处理 1000000/14160698 数据对\n",
      "已处理 1050000/14160698 数据对\n",
      "已处理 1100000/14160698 数据对\n",
      "已处理 1150000/14160698 数据对\n",
      "已处理 1200000/14160698 数据对\n",
      "已处理 1250000/14160698 数据对\n",
      "已处理 1300000/14160698 数据对\n",
      "已处理 1350000/14160698 数据对\n",
      "已处理 1400000/14160698 数据对\n",
      "已处理 1450000/14160698 数据对\n",
      "已处理 1500000/14160698 数据对\n",
      "已处理 1550000/14160698 数据对\n",
      "已处理 1600000/14160698 数据对\n",
      "已处理 1650000/14160698 数据对\n",
      "已处理 1700000/14160698 数据对\n",
      "已处理 1750000/14160698 数据对\n",
      "已处理 1800000/14160698 数据对\n",
      "已处理 1850000/14160698 数据对\n",
      "已处理 1900000/14160698 数据对\n",
      "已处理 1950000/14160698 数据对\n",
      "已处理 2000000/14160698 数据对\n",
      "已处理 2050000/14160698 数据对\n",
      "已处理 2100000/14160698 数据对\n",
      "已处理 2150000/14160698 数据对\n",
      "已处理 2200000/14160698 数据对\n",
      "已处理 2250000/14160698 数据对\n",
      "已处理 2300000/14160698 数据对\n",
      "已处理 2350000/14160698 数据对\n",
      "已处理 2400000/14160698 数据对\n",
      "已处理 2450000/14160698 数据对\n",
      "已处理 2500000/14160698 数据对\n",
      "已处理 2550000/14160698 数据对\n",
      "已处理 2600000/14160698 数据对\n",
      "已处理 2650000/14160698 数据对\n",
      "已处理 2700000/14160698 数据对\n",
      "已处理 2750000/14160698 数据对\n",
      "已处理 2800000/14160698 数据对\n",
      "已处理 2850000/14160698 数据对\n",
      "已处理 2900000/14160698 数据对\n",
      "已处理 2950000/14160698 数据对\n",
      "已处理 3000000/14160698 数据对\n",
      "已处理 3050000/14160698 数据对\n",
      "已处理 3100000/14160698 数据对\n",
      "已处理 3150000/14160698 数据对\n",
      "已处理 3200000/14160698 数据对\n",
      "已处理 3250000/14160698 数据对\n",
      "已处理 3300000/14160698 数据对\n",
      "已处理 3350000/14160698 数据对\n",
      "已处理 3400000/14160698 数据对\n",
      "已处理 3450000/14160698 数据对\n",
      "已处理 3500000/14160698 数据对\n",
      "已处理 3550000/14160698 数据对\n",
      "已处理 3600000/14160698 数据对\n",
      "已处理 3650000/14160698 数据对\n",
      "已处理 3700000/14160698 数据对\n",
      "已处理 3750000/14160698 数据对\n",
      "已处理 3800000/14160698 数据对\n",
      "已处理 3850000/14160698 数据对\n",
      "已处理 3900000/14160698 数据对\n",
      "已处理 3950000/14160698 数据对\n",
      "已处理 4000000/14160698 数据对\n",
      "已处理 4050000/14160698 数据对\n",
      "已处理 4100000/14160698 数据对\n",
      "已处理 4150000/14160698 数据对\n",
      "已处理 4200000/14160698 数据对\n",
      "已处理 4250000/14160698 数据对\n",
      "已处理 4300000/14160698 数据对\n",
      "已处理 4350000/14160698 数据对\n",
      "已处理 4400000/14160698 数据对\n",
      "已处理 4450000/14160698 数据对\n",
      "已处理 4500000/14160698 数据对\n",
      "已处理 4550000/14160698 数据对\n",
      "已处理 4600000/14160698 数据对\n",
      "已处理 4650000/14160698 数据对\n",
      "已处理 4700000/14160698 数据对\n",
      "已处理 4750000/14160698 数据对\n",
      "已处理 4800000/14160698 数据对\n",
      "已处理 4850000/14160698 数据对\n",
      "已处理 4900000/14160698 数据对\n",
      "已处理 4950000/14160698 数据对\n",
      "已处理 5000000/14160698 数据对\n",
      "已处理 5050000/14160698 数据对\n",
      "已处理 5100000/14160698 数据对\n",
      "已处理 5150000/14160698 数据对\n",
      "已处理 5200000/14160698 数据对\n",
      "已处理 5250000/14160698 数据对\n",
      "已处理 5300000/14160698 数据对\n",
      "已处理 5350000/14160698 数据对\n",
      "已处理 5400000/14160698 数据对\n",
      "已处理 5450000/14160698 数据对\n",
      "已处理 5500000/14160698 数据对\n",
      "已处理 5550000/14160698 数据对\n",
      "已处理 5600000/14160698 数据对\n",
      "已处理 5650000/14160698 数据对\n",
      "已处理 5700000/14160698 数据对\n",
      "已处理 5750000/14160698 数据对\n",
      "已处理 5800000/14160698 数据对\n",
      "已处理 5850000/14160698 数据对\n",
      "已处理 5900000/14160698 数据对\n",
      "已处理 5950000/14160698 数据对\n",
      "已处理 6000000/14160698 数据对\n",
      "已处理 6050000/14160698 数据对\n",
      "已处理 6100000/14160698 数据对\n",
      "已处理 6150000/14160698 数据对\n",
      "已处理 6200000/14160698 数据对\n",
      "已处理 6250000/14160698 数据对\n",
      "已处理 6300000/14160698 数据对\n",
      "已处理 6350000/14160698 数据对\n",
      "已处理 6400000/14160698 数据对\n",
      "已处理 6450000/14160698 数据对\n",
      "已处理 6500000/14160698 数据对\n",
      "已处理 6550000/14160698 数据对\n",
      "已处理 6600000/14160698 数据对\n",
      "已处理 6650000/14160698 数据对\n",
      "已处理 6700000/14160698 数据对\n",
      "已处理 6750000/14160698 数据对\n",
      "已处理 6800000/14160698 数据对\n",
      "已处理 6850000/14160698 数据对\n",
      "已处理 6900000/14160698 数据对\n",
      "已处理 6950000/14160698 数据对\n",
      "已处理 7000000/14160698 数据对\n",
      "已处理 7050000/14160698 数据对\n",
      "已处理 7100000/14160698 数据对\n",
      "已处理 7150000/14160698 数据对\n",
      "已处理 7200000/14160698 数据对\n",
      "已处理 7250000/14160698 数据对\n",
      "已处理 7300000/14160698 数据对\n",
      "已处理 7350000/14160698 数据对\n",
      "已处理 7400000/14160698 数据对\n",
      "已处理 7450000/14160698 数据对\n",
      "已处理 7500000/14160698 数据对\n",
      "已处理 7550000/14160698 数据对\n",
      "已处理 7600000/14160698 数据对\n",
      "已处理 7650000/14160698 数据对\n",
      "已处理 7700000/14160698 数据对\n",
      "已处理 7750000/14160698 数据对\n",
      "已处理 7800000/14160698 数据对\n",
      "已处理 7850000/14160698 数据对\n",
      "已处理 7900000/14160698 数据对\n",
      "已处理 7950000/14160698 数据对\n",
      "已处理 8000000/14160698 数据对\n",
      "已处理 8050000/14160698 数据对\n",
      "已处理 8100000/14160698 数据对\n",
      "已处理 8150000/14160698 数据对\n",
      "已处理 8200000/14160698 数据对\n",
      "已处理 8250000/14160698 数据对\n",
      "已处理 8300000/14160698 数据对\n",
      "已处理 8350000/14160698 数据对\n",
      "已处理 8400000/14160698 数据对\n",
      "已处理 8450000/14160698 数据对\n",
      "已处理 8500000/14160698 数据对\n",
      "已处理 8550000/14160698 数据对\n",
      "已处理 8600000/14160698 数据对\n",
      "已处理 8650000/14160698 数据对\n",
      "已处理 8700000/14160698 数据对\n",
      "已处理 8750000/14160698 数据对\n",
      "已处理 8800000/14160698 数据对\n",
      "已处理 8850000/14160698 数据对\n",
      "已处理 8900000/14160698 数据对\n",
      "已处理 8950000/14160698 数据对\n",
      "已处理 9000000/14160698 数据对\n",
      "已处理 9050000/14160698 数据对\n",
      "已处理 9100000/14160698 数据对\n",
      "已处理 9150000/14160698 数据对\n",
      "已处理 9200000/14160698 数据对\n",
      "已处理 9250000/14160698 数据对\n",
      "已处理 9300000/14160698 数据对\n",
      "已处理 9350000/14160698 数据对\n",
      "已处理 9400000/14160698 数据对\n",
      "已处理 9450000/14160698 数据对\n",
      "已处理 9500000/14160698 数据对\n",
      "已处理 9550000/14160698 数据对\n",
      "已处理 9600000/14160698 数据对\n",
      "已处理 9650000/14160698 数据对\n",
      "已处理 9700000/14160698 数据对\n",
      "已处理 9750000/14160698 数据对\n",
      "已处理 9800000/14160698 数据对\n",
      "已处理 9850000/14160698 数据对\n",
      "已处理 9900000/14160698 数据对\n",
      "已处理 9950000/14160698 数据对\n",
      "已处理 10000000/14160698 数据对\n",
      "已处理 10050000/14160698 数据对\n",
      "已处理 10100000/14160698 数据对\n",
      "已处理 10150000/14160698 数据对\n",
      "已处理 10200000/14160698 数据对\n",
      "已处理 10250000/14160698 数据对\n",
      "已处理 10300000/14160698 数据对\n",
      "已处理 10350000/14160698 数据对\n",
      "已处理 10400000/14160698 数据对\n",
      "已处理 10450000/14160698 数据对\n",
      "已处理 10500000/14160698 数据对\n",
      "已处理 10550000/14160698 数据对\n",
      "已处理 10600000/14160698 数据对\n",
      "已处理 10650000/14160698 数据对\n",
      "已处理 10700000/14160698 数据对\n",
      "已处理 10750000/14160698 数据对\n",
      "已处理 10800000/14160698 数据对\n",
      "已处理 10850000/14160698 数据对\n",
      "已处理 10900000/14160698 数据对\n",
      "已处理 10950000/14160698 数据对\n",
      "已处理 11000000/14160698 数据对\n",
      "已处理 11050000/14160698 数据对\n",
      "已处理 11100000/14160698 数据对\n",
      "已处理 11150000/14160698 数据对\n",
      "已处理 11200000/14160698 数据对\n",
      "已处理 11250000/14160698 数据对\n",
      "已处理 11300000/14160698 数据对\n",
      "已处理 11350000/14160698 数据对\n",
      "已处理 11400000/14160698 数据对\n",
      "已处理 11450000/14160698 数据对\n",
      "已处理 11500000/14160698 数据对\n",
      "已处理 11550000/14160698 数据对\n",
      "已处理 11600000/14160698 数据对\n",
      "已处理 11650000/14160698 数据对\n",
      "已处理 11700000/14160698 数据对\n",
      "已处理 11750000/14160698 数据对\n",
      "已处理 11800000/14160698 数据对\n",
      "已处理 11850000/14160698 数据对\n",
      "已处理 11900000/14160698 数据对\n",
      "已处理 11950000/14160698 数据对\n",
      "已处理 12000000/14160698 数据对\n",
      "已处理 12050000/14160698 数据对\n",
      "已处理 12100000/14160698 数据对\n",
      "已处理 12150000/14160698 数据对\n",
      "已处理 12200000/14160698 数据对\n",
      "已处理 12250000/14160698 数据对\n",
      "已处理 12300000/14160698 数据对\n",
      "已处理 12350000/14160698 数据对\n",
      "已处理 12400000/14160698 数据对\n",
      "已处理 12450000/14160698 数据对\n",
      "已处理 12500000/14160698 数据对\n",
      "已处理 12550000/14160698 数据对\n",
      "已处理 12600000/14160698 数据对\n",
      "已处理 12650000/14160698 数据对\n",
      "已处理 12700000/14160698 数据对\n",
      "已处理 12750000/14160698 数据对\n",
      "已处理 12800000/14160698 数据对\n",
      "已处理 12850000/14160698 数据对\n",
      "已处理 12900000/14160698 数据对\n",
      "已处理 12950000/14160698 数据对\n",
      "已处理 13000000/14160698 数据对\n",
      "已处理 13050000/14160698 数据对\n",
      "已处理 13100000/14160698 数据对\n",
      "已处理 13150000/14160698 数据对\n",
      "已处理 13200000/14160698 数据对\n",
      "已处理 13250000/14160698 数据对\n",
      "已处理 13300000/14160698 数据对\n",
      "已处理 13350000/14160698 数据对\n",
      "已处理 13400000/14160698 数据对\n",
      "已处理 13450000/14160698 数据对\n",
      "已处理 13500000/14160698 数据对\n",
      "已处理 13550000/14160698 数据对\n",
      "已处理 13600000/14160698 数据对\n",
      "已处理 13650000/14160698 数据对\n",
      "已处理 13700000/14160698 数据对\n",
      "已处理 13750000/14160698 数据对\n",
      "已处理 13800000/14160698 数据对\n",
      "已处理 13850000/14160698 数据对\n",
      "已处理 13900000/14160698 数据对\n",
      "已处理 13950000/14160698 数据对\n",
      "已处理 14000000/14160698 数据对\n",
      "已处理 14050000/14160698 数据对\n",
      "已处理 14100000/14160698 数据对\n",
      "已处理 14150000/14160698 数据对\n",
      "数据已保存到 HDF5 文件：/group/data/dataset_ASTF-net/Target_waveforms/Train_pairs.h5\n",
      "已处理 50000/1110330 数据对\n",
      "已处理 100000/1110330 数据对\n",
      "已处理 150000/1110330 数据对\n",
      "已处理 200000/1110330 数据对\n",
      "已处理 250000/1110330 数据对\n",
      "已处理 300000/1110330 数据对\n",
      "已处理 350000/1110330 数据对\n",
      "已处理 400000/1110330 数据对\n",
      "已处理 450000/1110330 数据对\n",
      "已处理 500000/1110330 数据对\n",
      "已处理 550000/1110330 数据对\n",
      "已处理 600000/1110330 数据对\n",
      "已处理 650000/1110330 数据对\n",
      "已处理 700000/1110330 数据对\n",
      "已处理 750000/1110330 数据对\n",
      "已处理 800000/1110330 数据对\n",
      "已处理 850000/1110330 数据对\n",
      "已处理 900000/1110330 数据对\n",
      "已处理 950000/1110330 数据对\n",
      "已处理 1000000/1110330 数据对\n",
      "已处理 1050000/1110330 数据对\n",
      "已处理 1100000/1110330 数据对\n",
      "数据已保存到 HDF5 文件：/group/data/dataset_ASTF-net/Target_waveforms/Validation_pairs.h5\n"
     ]
    }
   ],
   "source": [
    "# 路径\n",
    "train_lst = \"/group/data/dataset_ASTF-net/Target_waveforms/EGFs_train_pairs.lst\"\n",
    "valid_lst = \"/group/data/dataset_ASTF-net/Target_waveforms/EGFs_validation_pairs.lst\"\n",
    "test_level1_lst = \"/group/data/dataset_ASTF-net/Target_waveforms/EGFs_test_level1_pairs.lst\"\n",
    "\n",
    "# 示例：将数据保存为 HDF5 文件\n",
    "save_data_to_hdf5(train_lst, '/group/data/dataset_ASTF-net/Target_waveforms/Train_pairs.h5')\n",
    "save_data_to_hdf5(valid_lst, '/group/data/dataset_ASTF-net/Target_waveforms/Validation_pairs.h5')\n",
    "# save_data_to_hdf5(test_level1_lst, '/group/data/dataset_ASTF-net/Target_waveforms/Test_level1_pairs.h5')"
   ]
  },
  {
   "cell_type": "markdown",
   "metadata": {},
   "source": [
    "#### load hdf5"
   ]
  },
  {
   "cell_type": "code",
   "execution_count": 2,
   "metadata": {},
   "outputs": [],
   "source": [
    "\n",
    "class SeismicDatasetHDF5(Dataset):\n",
    "    def __init__(self, hdf5_file):\n",
    "        \"\"\"初始化并加载HDF5文件中的数据\"\"\"\n",
    "        self.hdf5_file = hdf5_file\n",
    "        with h5py.File(self.hdf5_file, 'r') as hf:\n",
    "            self.target_waveforms = hf['target_waveforms'][:]\n",
    "            self.egfs = hf['egfs'][:]\n",
    "            self.astfs = hf['astfs'][:]\n",
    "        \n",
    "    def __len__(self):\n",
    "        \"\"\"返回数据集大小\"\"\"\n",
    "        return len(self.target_waveforms)\n",
    "    \n",
    "    def __getitem__(self, idx):\n",
    "        \"\"\"返回对应的目标、EGF和ASTF张量\"\"\"\n",
    "        target_waveform = torch.tensor(self.target_waveforms[idx], dtype=torch.float32)\n",
    "        egf = torch.tensor(self.egfs[idx], dtype=torch.float32)\n",
    "        astf = torch.tensor(self.astfs[idx], dtype=torch.float32)\n",
    "        \n",
    "        return target_waveform, egf, astf\n",
    "\n",
    "# 使用 DataLoader 加载数据\n",
    "def get_dataloader_from_hdf5(hdf5_file, batch_size):\n",
    "    \"\"\"返回从HDF5文件加载的Dataloader\"\"\"\n",
    "    dataset = SeismicDatasetHDF5(hdf5_file)\n",
    "    dataloader = DataLoader(dataset, batch_size=batch_size, shuffle=True, num_workers=8, pin_memory=True)\n",
    "    return dataloader"
   ]
  },
  {
   "cell_type": "code",
   "execution_count": null,
   "metadata": {},
   "outputs": [],
   "source": [
    "train_h5 = \"/group/data/dataset_ASTF-net/Target_waveforms/Train_pairs.h5\"\n",
    "valid_h5 = \"/group/data/dataset_ASTF-net/Target_waveforms/Validation_pairs.h5\"\n",
    "test_level1_h5 = \"/group/data/dataset_ASTF-net/Target_waveforms/Test_level1_pairs.h5\"\n",
    "\n",
    "batch_size = 1024 * 8 * 8\n",
    "\n",
    "# 加载HDF5数据并创建DataLoader\n",
    "train_loader = get_dataloader_from_hdf5(train_h5, batch_size)\n",
    "valid_loader = get_dataloader_from_hdf5(valid_h5, batch_size)\n",
    "test_level1_loader = get_dataloader_from_hdf5(test_level1_h5, batch_size)\n",
    "\n",
    "# 查看DataLoader数据\n",
    "for target_waveforms, egfs, astfs in train_loader:\n",
    "    print(target_waveforms.shape, egfs.shape, astfs.shape)\n",
    "    break  # 打印第一批数据的形状"
   ]
  },
  {
   "cell_type": "markdown",
   "metadata": {},
   "source": [
    "## MLP model"
   ]
  },
  {
   "cell_type": "code",
   "execution_count": 4,
   "metadata": {},
   "outputs": [],
   "source": [
    "import torch\n",
    "import torch.nn as nn\n",
    "import torch.nn.functional as F\n",
    "\n",
    "class SeismicMLP(nn.Module):\n",
    "    def __init__(self, input_dim=510, output_dim=301, hidden_dims=[512, 256, 128]):\n",
    "        \"\"\"\n",
    "        初始化MLP网络\n",
    "        Args:\n",
    "            input_dim (int): 输入维度（Target和EGF的每个波形的长度）\n",
    "            output_dim (int): 输出维度（ASTF的每个波形的长度）\n",
    "            hidden_dims (list): 隐藏层的维度\n",
    "        \"\"\"\n",
    "        super(SeismicMLP, self).__init__()\n",
    "        \n",
    "        # 输入层：拼接Target和EGF，因此输入维度为2 * input_dim\n",
    "        self.input_layer = nn.Linear(2 * input_dim, hidden_dims[0])\n",
    "        \n",
    "        # 隐藏层\n",
    "        self.hidden_layers = nn.ModuleList()\n",
    "        for i in range(len(hidden_dims) - 1):\n",
    "            self.hidden_layers.append(nn.Linear(hidden_dims[i], hidden_dims[i + 1]))\n",
    "        \n",
    "        # 输出层\n",
    "        self.output_layer = nn.Linear(hidden_dims[-1], output_dim)\n",
    "\n",
    "    def forward(self, target_waveform, egf):\n",
    "        \"\"\"\n",
    "        前向传播\n",
    "        Args:\n",
    "            target_waveform (Tensor): Target Waveform张量，形状为 (batch_size, 510)\n",
    "            egf (Tensor): EGF张量，形状为 (batch_size, 510)\n",
    "        Returns:\n",
    "            astf (Tensor): ASTF张量，形状为 (batch_size, 301)\n",
    "        \"\"\"\n",
    "        # 拼接Target Waveform和EGF作为输入\n",
    "        x = torch.cat([target_waveform, egf], dim=1)  # 拼接后形状为 (batch_size, 2 * 510)\n",
    "        \n",
    "        # 输入层\n",
    "        x = F.relu(self.input_layer(x))\n",
    "        \n",
    "        # 隐藏层\n",
    "        for layer in self.hidden_layers:\n",
    "            x = F.relu(layer(x))\n",
    "        \n",
    "        # 输出层\n",
    "        astf = self.output_layer(x)  # 输出形状为 (batch_size, 301)\n",
    "        \n",
    "        return astf\n"
   ]
  },
  {
   "cell_type": "markdown",
   "metadata": {},
   "source": [
    "## Loss Function"
   ]
  },
  {
   "cell_type": "markdown",
   "metadata": {},
   "source": [
    "#### MAPE（平均绝对百分比误差）"
   ]
  },
  {
   "cell_type": "code",
   "execution_count": 5,
   "metadata": {},
   "outputs": [],
   "source": [
    "def MAPE_loss(y_pred, y_true):\n",
    "    \"\"\"\n",
    "    计算每个样本的平均绝对百分比误差（MAPE）。\n",
    "    \n",
    "    Args:\n",
    "    y_pred (torch.Tensor): 模型的预测值，形状为 [batch_size, 301]\n",
    "    y_true (torch.Tensor): 真实值，形状为 [batch_size, 301]\n",
    "    \n",
    "    Returns:\n",
    "    torch.Tensor: 平均 MAPE 损失\n",
    "    \"\"\"\n",
    "    # 计算每个点的绝对百分比误差\n",
    "    mape = torch.abs((y_pred - y_true) / (y_true + 1e-8))\n",
    "    \n",
    "    # 对每个样本计算平均 MAPE\n",
    "    mean_mape = torch.mean(mape, dim=1)  # [batch_size, 301] -> [batch_size]\n",
    "    \n",
    "    # 计算整个批次的平均 MAPE\n",
    "    loss = torch.mean(mean_mape)  # [batch_size] -> scalar\n",
    "    \n",
    "    return loss\n"
   ]
  },
  {
   "cell_type": "markdown",
   "metadata": {},
   "source": [
    "#### 加权 MSE"
   ]
  },
  {
   "cell_type": "code",
   "execution_count": 5,
   "metadata": {},
   "outputs": [],
   "source": [
    "class AmplitudeWeightedMSELoss(nn.Module):\n",
    "    def __init__(self, epsilon, a):\n",
    "        super(AmplitudeWeightedMSELoss, self).__init__()\n",
    "        self.epsilon = epsilon\n",
    "        self.a = a\n",
    "\n",
    "    def forward(self, y_pred, y_true):\n",
    "        # 计算每组数据的振幅范围\n",
    "        amplitude = torch.max(torch.abs(y_true), dim=1, keepdim=True)[0] + self.epsilon\n",
    "        \n",
    "        # 使用振幅范围归一化\n",
    "        normalized_error = (y_pred - y_true) / amplitude**self.a\n",
    "        # 计算加权 MSE 损失\n",
    "        return torch.mean(normalized_error ** 2)\n"
   ]
  },
  {
   "cell_type": "markdown",
   "metadata": {},
   "source": [
    "## Train model"
   ]
  },
  {
   "cell_type": "code",
   "execution_count": 6,
   "metadata": {},
   "outputs": [],
   "source": [
    "import torch\n",
    "import torch.nn as nn\n",
    "import torch.optim as optim\n",
    "from tqdm import tqdm\n",
    "\n",
    "# 模型训练函数\n",
    "def train_model(model, train_loader, val_loader, num_epochs, criterion, optimizer, device, scheduler=None):\n",
    "    \"\"\"\n",
    "    模型训练并可视化\n",
    "    Args:\n",
    "        model (nn.Module): 待训练的模型\n",
    "        train_loader (DataLoader): 训练数据加载器\n",
    "        val_loader (DataLoader): 验证数据加载器\n",
    "        num_epochs (int): 训练轮数\n",
    "        criterion (nn.Module): 损失函数\n",
    "        optimizer (torch.optim.Optimizer): 优化器\n",
    "        device (torch.device): 计算设备 (cpu or cuda)\n",
    "        scheduler (torch.optim.lr_scheduler): 学习率调度器 (可选)\n",
    "    \"\"\"\n",
    "    print(f\"Training on device: {device}\")\n",
    "    model = nn.DataParallel(model).to(device)\n",
    "    best_val_loss = float(\"inf\")\n",
    "    \n",
    "    # 用于存储训练和验证损失\n",
    "    train_losses = []\n",
    "    val_losses = []\n",
    "\n",
    "    for epoch in range(num_epochs):\n",
    "        # 训练阶段\n",
    "        model.train()\n",
    "        train_loss = 0.0\n",
    "        for target_waveform, egf, astf in tqdm(train_loader, desc=f\"Epoch {epoch + 1}/{num_epochs} - Training\"):\n",
    "            target_waveform, egf, astf = target_waveform.to(device), egf.to(device), astf.to(device)\n",
    "            \n",
    "            # 前向传播\n",
    "            optimizer.zero_grad()\n",
    "            predicted_astf = model(target_waveform, egf)\n",
    "            \n",
    "            # 计算损失\n",
    "            loss = criterion(predicted_astf, astf)\n",
    "            train_loss += loss.item()\n",
    "            \n",
    "            # 反向传播和优化\n",
    "            loss.backward()\n",
    "            optimizer.step()\n",
    "        \n",
    "        train_loss /= len(train_loader)\n",
    "        train_losses.append(train_loss)\n",
    "        print(f\"Epoch {epoch + 1} - Training Loss: {train_loss:.4f}\")\n",
    "        \n",
    "        # 验证阶段\n",
    "        model.eval()\n",
    "        val_loss = 0.0\n",
    "        with torch.no_grad():\n",
    "            for target_waveform, egf, astf in tqdm(val_loader, desc=f\"Epoch {epoch + 1}/{num_epochs} - Validation\"):\n",
    "                target_waveform, egf, astf = target_waveform.to(device), egf.to(device), astf.to(device)\n",
    "                predicted_astf = model(target_waveform, egf)\n",
    "                loss = criterion(predicted_astf, astf)\n",
    "                val_loss += loss.item()\n",
    "        \n",
    "        val_loss /= len(val_loader)\n",
    "        val_losses.append(val_loss)\n",
    "        print(f\"Epoch {epoch + 1} - Validation Loss: {val_loss:.4f}\")\n",
    "        \n",
    "        # 调用学习率调度器\n",
    "        if scheduler:\n",
    "            scheduler.step(val_loss)  # 使用验证集损失来调整学习率\n",
    "        \n",
    "        # 打印当前学习率\n",
    "        current_lr = optimizer.param_groups[0]['lr']\n",
    "        print(f\"Epoch {epoch + 1} - Current Learning Rate: {current_lr:.6f}\")\n",
    "        \n",
    "        # 保存最优模型\n",
    "        if val_loss < best_val_loss:\n",
    "            best_val_loss = val_loss\n",
    "            torch.save(model.state_dict(), \"best_seismic_model_AmpWeiMSE_300_scheduler.pth\")\n",
    "            print(\"Model saved with Validation Loss:\", best_val_loss)\n",
    "\n",
    "    return train_losses, val_losses\n",
    "    \n",
    "\n",
    "def visualize_loss(train_losses, val_losses):\n",
    "    \"\"\"\n",
    "    可视化训练和验证损失\n",
    "    Args:\n",
    "        train_losses (list): 每个epoch的训练损失\n",
    "        val_losses (list): 每个epoch的验证损失\n",
    "    \"\"\"\n",
    "    plt.figure(figsize=(10, 6))\n",
    "    plt.plot(train_losses, label=\"Training Loss\", marker='o')\n",
    "    plt.plot(val_losses, label=\"Validation Loss\", marker='x')\n",
    "    plt.title(\"Training and Validation Loss\")\n",
    "    plt.xlabel(\"Epoch\")\n",
    "    plt.ylabel(\"Loss\")\n",
    "    plt.legend()\n",
    "    plt.grid(True)\n",
    "    plt.show()\n",
    "\n",
    "\n"
   ]
  },
  {
   "cell_type": "code",
   "execution_count": 7,
   "metadata": {},
   "outputs": [
    {
     "name": "stderr",
     "output_type": "stream",
     "text": [
      "/group/prc/anaconda3/envs/deeplearning/lib/python3.10/site-packages/torch/optim/lr_scheduler.py:62: UserWarning: The verbose parameter is deprecated. Please use get_last_lr() to access the learning rate.\n",
      "  warnings.warn(\n"
     ]
    },
    {
     "name": "stdout",
     "output_type": "stream",
     "text": [
      "Training on device: cuda\n"
     ]
    },
    {
     "name": "stderr",
     "output_type": "stream",
     "text": [
      "Epoch 1/300 - Training: 100%|██████████| 217/217 [01:08<00:00,  3.18it/s]\n"
     ]
    },
    {
     "name": "stdout",
     "output_type": "stream",
     "text": [
      "Epoch 1 - Training Loss: 0.7747\n"
     ]
    },
    {
     "name": "stderr",
     "output_type": "stream",
     "text": [
      "Epoch 1/300 - Validation: 100%|██████████| 17/17 [00:13<00:00,  1.24it/s]\n"
     ]
    },
    {
     "name": "stdout",
     "output_type": "stream",
     "text": [
      "Epoch 1 - Validation Loss: 0.7605\n",
      "Epoch 1 - Current Learning Rate: 0.001000\n",
      "Model saved with Validation Loss: 0.7604503000483793\n"
     ]
    },
    {
     "name": "stderr",
     "output_type": "stream",
     "text": [
      "Epoch 2/300 - Training: 100%|██████████| 217/217 [01:06<00:00,  3.26it/s]\n"
     ]
    },
    {
     "name": "stdout",
     "output_type": "stream",
     "text": [
      "Epoch 2 - Training Loss: 0.7501\n"
     ]
    },
    {
     "name": "stderr",
     "output_type": "stream",
     "text": [
      "Epoch 2/300 - Validation: 100%|██████████| 17/17 [00:14<00:00,  1.18it/s]\n"
     ]
    },
    {
     "name": "stdout",
     "output_type": "stream",
     "text": [
      "Epoch 2 - Validation Loss: 0.7594\n",
      "Epoch 2 - Current Learning Rate: 0.001000\n",
      "Model saved with Validation Loss: 0.7593804212177501\n"
     ]
    },
    {
     "name": "stderr",
     "output_type": "stream",
     "text": [
      "Epoch 3/300 - Training: 100%|██████████| 217/217 [01:06<00:00,  3.27it/s]\n"
     ]
    },
    {
     "name": "stdout",
     "output_type": "stream",
     "text": [
      "Epoch 3 - Training Loss: 0.7337\n"
     ]
    },
    {
     "name": "stderr",
     "output_type": "stream",
     "text": [
      "Epoch 3/300 - Validation: 100%|██████████| 17/17 [00:14<00:00,  1.18it/s]\n"
     ]
    },
    {
     "name": "stdout",
     "output_type": "stream",
     "text": [
      "Epoch 3 - Validation Loss: 0.7014\n",
      "Epoch 3 - Current Learning Rate: 0.001000\n",
      "Model saved with Validation Loss: 0.7013918126330656\n"
     ]
    },
    {
     "name": "stderr",
     "output_type": "stream",
     "text": [
      "Epoch 4/300 - Training: 100%|██████████| 217/217 [01:06<00:00,  3.28it/s]\n"
     ]
    },
    {
     "name": "stdout",
     "output_type": "stream",
     "text": [
      "Epoch 4 - Training Loss: 0.6230\n"
     ]
    },
    {
     "name": "stderr",
     "output_type": "stream",
     "text": [
      "Epoch 4/300 - Validation: 100%|██████████| 17/17 [00:14<00:00,  1.18it/s]\n"
     ]
    },
    {
     "name": "stdout",
     "output_type": "stream",
     "text": [
      "Epoch 4 - Validation Loss: 0.6130\n",
      "Epoch 4 - Current Learning Rate: 0.001000\n",
      "Model saved with Validation Loss: 0.6129682309487287\n"
     ]
    },
    {
     "name": "stderr",
     "output_type": "stream",
     "text": [
      "Epoch 5/300 - Training: 100%|██████████| 217/217 [01:08<00:00,  3.19it/s]\n"
     ]
    },
    {
     "name": "stdout",
     "output_type": "stream",
     "text": [
      "Epoch 5 - Training Loss: 0.5351\n"
     ]
    },
    {
     "name": "stderr",
     "output_type": "stream",
     "text": [
      "Epoch 5/300 - Validation: 100%|██████████| 17/17 [00:17<00:00,  1.00s/it]\n"
     ]
    },
    {
     "name": "stdout",
     "output_type": "stream",
     "text": [
      "Epoch 5 - Validation Loss: 0.5438\n",
      "Epoch 5 - Current Learning Rate: 0.001000\n",
      "Model saved with Validation Loss: 0.5438059077543371\n"
     ]
    },
    {
     "name": "stderr",
     "output_type": "stream",
     "text": [
      "Epoch 6/300 - Training: 100%|██████████| 217/217 [01:10<00:00,  3.07it/s]\n"
     ]
    },
    {
     "name": "stdout",
     "output_type": "stream",
     "text": [
      "Epoch 6 - Training Loss: 0.4878\n"
     ]
    },
    {
     "name": "stderr",
     "output_type": "stream",
     "text": [
      "Epoch 6/300 - Validation: 100%|██████████| 17/17 [00:13<00:00,  1.22it/s]\n"
     ]
    },
    {
     "name": "stdout",
     "output_type": "stream",
     "text": [
      "Epoch 6 - Validation Loss: 0.5051\n",
      "Epoch 6 - Current Learning Rate: 0.001000\n",
      "Model saved with Validation Loss: 0.5051333711427801\n"
     ]
    },
    {
     "name": "stderr",
     "output_type": "stream",
     "text": [
      "Epoch 7/300 - Training: 100%|██████████| 217/217 [01:09<00:00,  3.12it/s]\n"
     ]
    },
    {
     "name": "stdout",
     "output_type": "stream",
     "text": [
      "Epoch 7 - Training Loss: 0.4590\n"
     ]
    },
    {
     "name": "stderr",
     "output_type": "stream",
     "text": [
      "Epoch 7/300 - Validation: 100%|██████████| 17/17 [00:13<00:00,  1.23it/s]\n"
     ]
    },
    {
     "name": "stdout",
     "output_type": "stream",
     "text": [
      "Epoch 7 - Validation Loss: 0.4756\n",
      "Epoch 7 - Current Learning Rate: 0.001000\n",
      "Model saved with Validation Loss: 0.4755966891260708\n"
     ]
    },
    {
     "name": "stderr",
     "output_type": "stream",
     "text": [
      "Epoch 8/300 - Training: 100%|██████████| 217/217 [01:06<00:00,  3.26it/s]\n"
     ]
    },
    {
     "name": "stdout",
     "output_type": "stream",
     "text": [
      "Epoch 8 - Training Loss: 0.4330\n"
     ]
    },
    {
     "name": "stderr",
     "output_type": "stream",
     "text": [
      "Epoch 8/300 - Validation: 100%|██████████| 17/17 [00:13<00:00,  1.26it/s]\n"
     ]
    },
    {
     "name": "stdout",
     "output_type": "stream",
     "text": [
      "Epoch 8 - Validation Loss: 0.4539\n",
      "Epoch 8 - Current Learning Rate: 0.001000\n",
      "Model saved with Validation Loss: 0.4539131925386541\n"
     ]
    },
    {
     "name": "stderr",
     "output_type": "stream",
     "text": [
      "Epoch 9/300 - Training: 100%|██████████| 217/217 [01:07<00:00,  3.20it/s]\n"
     ]
    },
    {
     "name": "stdout",
     "output_type": "stream",
     "text": [
      "Epoch 9 - Training Loss: 0.4180\n"
     ]
    },
    {
     "name": "stderr",
     "output_type": "stream",
     "text": [
      "Epoch 9/300 - Validation: 100%|██████████| 17/17 [00:16<00:00,  1.05it/s]\n"
     ]
    },
    {
     "name": "stdout",
     "output_type": "stream",
     "text": [
      "Epoch 9 - Validation Loss: 0.4377\n",
      "Epoch 9 - Current Learning Rate: 0.001000\n",
      "Model saved with Validation Loss: 0.43766166883356433\n"
     ]
    },
    {
     "name": "stderr",
     "output_type": "stream",
     "text": [
      "Epoch 10/300 - Training: 100%|██████████| 217/217 [01:07<00:00,  3.20it/s]\n"
     ]
    },
    {
     "name": "stdout",
     "output_type": "stream",
     "text": [
      "Epoch 10 - Training Loss: 0.4000\n"
     ]
    },
    {
     "name": "stderr",
     "output_type": "stream",
     "text": [
      "Epoch 10/300 - Validation: 100%|██████████| 17/17 [00:17<00:00,  1.01s/it]\n"
     ]
    },
    {
     "name": "stdout",
     "output_type": "stream",
     "text": [
      "Epoch 10 - Validation Loss: 0.4415\n",
      "Epoch 10 - Current Learning Rate: 0.001000\n"
     ]
    },
    {
     "name": "stderr",
     "output_type": "stream",
     "text": [
      "Epoch 11/300 - Training: 100%|██████████| 217/217 [01:11<00:00,  3.04it/s]\n"
     ]
    },
    {
     "name": "stdout",
     "output_type": "stream",
     "text": [
      "Epoch 11 - Training Loss: 0.3956\n"
     ]
    },
    {
     "name": "stderr",
     "output_type": "stream",
     "text": [
      "Epoch 11/300 - Validation: 100%|██████████| 17/17 [00:16<00:00,  1.05it/s]\n"
     ]
    },
    {
     "name": "stdout",
     "output_type": "stream",
     "text": [
      "Epoch 11 - Validation Loss: 0.4207\n",
      "Epoch 11 - Current Learning Rate: 0.001000\n",
      "Model saved with Validation Loss: 0.4206559903481427\n"
     ]
    },
    {
     "name": "stderr",
     "output_type": "stream",
     "text": [
      "Epoch 12/300 - Training: 100%|██████████| 217/217 [01:08<00:00,  3.16it/s]\n"
     ]
    },
    {
     "name": "stdout",
     "output_type": "stream",
     "text": [
      "Epoch 12 - Training Loss: 0.3838\n"
     ]
    },
    {
     "name": "stderr",
     "output_type": "stream",
     "text": [
      "Epoch 12/300 - Validation: 100%|██████████| 17/17 [00:15<00:00,  1.07it/s]\n"
     ]
    },
    {
     "name": "stdout",
     "output_type": "stream",
     "text": [
      "Epoch 12 - Validation Loss: 0.4141\n",
      "Epoch 12 - Current Learning Rate: 0.001000\n",
      "Model saved with Validation Loss: 0.41406837456366596\n"
     ]
    },
    {
     "name": "stderr",
     "output_type": "stream",
     "text": [
      "Epoch 13/300 - Training: 100%|██████████| 217/217 [01:10<00:00,  3.08it/s]\n"
     ]
    },
    {
     "name": "stdout",
     "output_type": "stream",
     "text": [
      "Epoch 13 - Training Loss: 0.3780\n"
     ]
    },
    {
     "name": "stderr",
     "output_type": "stream",
     "text": [
      "Epoch 13/300 - Validation: 100%|██████████| 17/17 [00:16<00:00,  1.05it/s]\n"
     ]
    },
    {
     "name": "stdout",
     "output_type": "stream",
     "text": [
      "Epoch 13 - Validation Loss: 0.4120\n",
      "Epoch 13 - Current Learning Rate: 0.001000\n",
      "Model saved with Validation Loss: 0.41196013373487134\n"
     ]
    },
    {
     "name": "stderr",
     "output_type": "stream",
     "text": [
      "Epoch 14/300 - Training: 100%|██████████| 217/217 [01:11<00:00,  3.02it/s]\n"
     ]
    },
    {
     "name": "stdout",
     "output_type": "stream",
     "text": [
      "Epoch 14 - Training Loss: 0.3725\n"
     ]
    },
    {
     "name": "stderr",
     "output_type": "stream",
     "text": [
      "Epoch 14/300 - Validation: 100%|██████████| 17/17 [00:14<00:00,  1.19it/s]\n"
     ]
    },
    {
     "name": "stdout",
     "output_type": "stream",
     "text": [
      "Epoch 14 - Validation Loss: 0.4059\n",
      "Epoch 14 - Current Learning Rate: 0.001000\n",
      "Model saved with Validation Loss: 0.405941342606264\n"
     ]
    },
    {
     "name": "stderr",
     "output_type": "stream",
     "text": [
      "Epoch 15/300 - Training: 100%|██████████| 217/217 [01:05<00:00,  3.32it/s]\n"
     ]
    },
    {
     "name": "stdout",
     "output_type": "stream",
     "text": [
      "Epoch 15 - Training Loss: 0.3616\n"
     ]
    },
    {
     "name": "stderr",
     "output_type": "stream",
     "text": [
      "Epoch 15/300 - Validation: 100%|██████████| 17/17 [00:14<00:00,  1.16it/s]\n"
     ]
    },
    {
     "name": "stdout",
     "output_type": "stream",
     "text": [
      "Epoch 15 - Validation Loss: 0.4161\n",
      "Epoch 15 - Current Learning Rate: 0.001000\n"
     ]
    },
    {
     "name": "stderr",
     "output_type": "stream",
     "text": [
      "Epoch 16/300 - Training: 100%|██████████| 217/217 [01:09<00:00,  3.14it/s]\n"
     ]
    },
    {
     "name": "stdout",
     "output_type": "stream",
     "text": [
      "Epoch 16 - Training Loss: 0.3563\n"
     ]
    },
    {
     "name": "stderr",
     "output_type": "stream",
     "text": [
      "Epoch 16/300 - Validation: 100%|██████████| 17/17 [00:14<00:00,  1.18it/s]\n"
     ]
    },
    {
     "name": "stdout",
     "output_type": "stream",
     "text": [
      "Epoch 16 - Validation Loss: 0.4197\n",
      "Epoch 16 - Current Learning Rate: 0.001000\n"
     ]
    },
    {
     "name": "stderr",
     "output_type": "stream",
     "text": [
      "Epoch 17/300 - Training: 100%|██████████| 217/217 [01:11<00:00,  3.02it/s]\n"
     ]
    },
    {
     "name": "stdout",
     "output_type": "stream",
     "text": [
      "Epoch 17 - Training Loss: 0.3501\n"
     ]
    },
    {
     "name": "stderr",
     "output_type": "stream",
     "text": [
      "Epoch 17/300 - Validation: 100%|██████████| 17/17 [00:13<00:00,  1.23it/s]\n"
     ]
    },
    {
     "name": "stdout",
     "output_type": "stream",
     "text": [
      "Epoch 17 - Validation Loss: 0.4079\n",
      "Epoch 17 - Current Learning Rate: 0.001000\n"
     ]
    },
    {
     "name": "stderr",
     "output_type": "stream",
     "text": [
      "Epoch 18/300 - Training: 100%|██████████| 217/217 [01:05<00:00,  3.31it/s]\n"
     ]
    },
    {
     "name": "stdout",
     "output_type": "stream",
     "text": [
      "Epoch 18 - Training Loss: 0.3451\n"
     ]
    },
    {
     "name": "stderr",
     "output_type": "stream",
     "text": [
      "Epoch 18/300 - Validation: 100%|██████████| 17/17 [00:14<00:00,  1.19it/s]\n"
     ]
    },
    {
     "name": "stdout",
     "output_type": "stream",
     "text": [
      "Epoch 18 - Validation Loss: 0.3967\n",
      "Epoch 18 - Current Learning Rate: 0.001000\n",
      "Model saved with Validation Loss: 0.3967101223328534\n"
     ]
    },
    {
     "name": "stderr",
     "output_type": "stream",
     "text": [
      "Epoch 19/300 - Training: 100%|██████████| 217/217 [01:06<00:00,  3.27it/s]\n"
     ]
    },
    {
     "name": "stdout",
     "output_type": "stream",
     "text": [
      "Epoch 19 - Training Loss: 0.3401\n"
     ]
    },
    {
     "name": "stderr",
     "output_type": "stream",
     "text": [
      "Epoch 19/300 - Validation: 100%|██████████| 17/17 [00:16<00:00,  1.05it/s]\n"
     ]
    },
    {
     "name": "stdout",
     "output_type": "stream",
     "text": [
      "Epoch 19 - Validation Loss: 0.4154\n",
      "Epoch 19 - Current Learning Rate: 0.001000\n"
     ]
    },
    {
     "name": "stderr",
     "output_type": "stream",
     "text": [
      "Epoch 20/300 - Training: 100%|██████████| 217/217 [01:10<00:00,  3.10it/s]\n"
     ]
    },
    {
     "name": "stdout",
     "output_type": "stream",
     "text": [
      "Epoch 20 - Training Loss: 0.3360\n"
     ]
    },
    {
     "name": "stderr",
     "output_type": "stream",
     "text": [
      "Epoch 20/300 - Validation: 100%|██████████| 17/17 [00:15<00:00,  1.07it/s]\n"
     ]
    },
    {
     "name": "stdout",
     "output_type": "stream",
     "text": [
      "Epoch 20 - Validation Loss: 0.3913\n",
      "Epoch 20 - Current Learning Rate: 0.001000\n",
      "Model saved with Validation Loss: 0.3913133039193995\n"
     ]
    },
    {
     "name": "stderr",
     "output_type": "stream",
     "text": [
      "Epoch 21/300 - Training: 100%|██████████| 217/217 [01:07<00:00,  3.20it/s]\n"
     ]
    },
    {
     "name": "stdout",
     "output_type": "stream",
     "text": [
      "Epoch 21 - Training Loss: 0.3314\n"
     ]
    },
    {
     "name": "stderr",
     "output_type": "stream",
     "text": [
      "Epoch 21/300 - Validation: 100%|██████████| 17/17 [00:14<00:00,  1.20it/s]\n"
     ]
    },
    {
     "name": "stdout",
     "output_type": "stream",
     "text": [
      "Epoch 21 - Validation Loss: 0.3923\n",
      "Epoch 21 - Current Learning Rate: 0.001000\n"
     ]
    },
    {
     "name": "stderr",
     "output_type": "stream",
     "text": [
      "Epoch 22/300 - Training: 100%|██████████| 217/217 [01:07<00:00,  3.20it/s]\n"
     ]
    },
    {
     "name": "stdout",
     "output_type": "stream",
     "text": [
      "Epoch 22 - Training Loss: 0.3293\n"
     ]
    },
    {
     "name": "stderr",
     "output_type": "stream",
     "text": [
      "Epoch 22/300 - Validation: 100%|██████████| 17/17 [00:16<00:00,  1.05it/s]\n"
     ]
    },
    {
     "name": "stdout",
     "output_type": "stream",
     "text": [
      "Epoch 22 - Validation Loss: 0.3995\n",
      "Epoch 22 - Current Learning Rate: 0.001000\n"
     ]
    },
    {
     "name": "stderr",
     "output_type": "stream",
     "text": [
      "Epoch 23/300 - Training: 100%|██████████| 217/217 [01:10<00:00,  3.07it/s]\n"
     ]
    },
    {
     "name": "stdout",
     "output_type": "stream",
     "text": [
      "Epoch 23 - Training Loss: 0.3255\n"
     ]
    },
    {
     "name": "stderr",
     "output_type": "stream",
     "text": [
      "Epoch 23/300 - Validation: 100%|██████████| 17/17 [00:15<00:00,  1.08it/s]\n"
     ]
    },
    {
     "name": "stdout",
     "output_type": "stream",
     "text": [
      "Epoch 23 - Validation Loss: 0.4025\n",
      "Epoch 23 - Current Learning Rate: 0.001000\n"
     ]
    },
    {
     "name": "stderr",
     "output_type": "stream",
     "text": [
      "Epoch 24/300 - Training: 100%|██████████| 217/217 [01:06<00:00,  3.27it/s]\n"
     ]
    },
    {
     "name": "stdout",
     "output_type": "stream",
     "text": [
      "Epoch 24 - Training Loss: 0.3224\n"
     ]
    },
    {
     "name": "stderr",
     "output_type": "stream",
     "text": [
      "Epoch 24/300 - Validation: 100%|██████████| 17/17 [00:16<00:00,  1.01it/s]\n"
     ]
    },
    {
     "name": "stdout",
     "output_type": "stream",
     "text": [
      "Epoch 24 - Validation Loss: 0.3996\n",
      "Epoch 24 - Current Learning Rate: 0.001000\n"
     ]
    },
    {
     "name": "stderr",
     "output_type": "stream",
     "text": [
      "Epoch 25/300 - Training: 100%|██████████| 217/217 [01:06<00:00,  3.25it/s]\n"
     ]
    },
    {
     "name": "stdout",
     "output_type": "stream",
     "text": [
      "Epoch 25 - Training Loss: 0.3191\n"
     ]
    },
    {
     "name": "stderr",
     "output_type": "stream",
     "text": [
      "Epoch 25/300 - Validation: 100%|██████████| 17/17 [00:16<00:00,  1.04it/s]\n"
     ]
    },
    {
     "name": "stdout",
     "output_type": "stream",
     "text": [
      "Epoch 25 - Validation Loss: 0.3922\n",
      "Epoch 25 - Current Learning Rate: 0.001000\n"
     ]
    },
    {
     "name": "stderr",
     "output_type": "stream",
     "text": [
      "Epoch 26/300 - Training: 100%|██████████| 217/217 [01:08<00:00,  3.16it/s]\n"
     ]
    },
    {
     "name": "stdout",
     "output_type": "stream",
     "text": [
      "Epoch 26 - Training Loss: 0.3187\n"
     ]
    },
    {
     "name": "stderr",
     "output_type": "stream",
     "text": [
      "Epoch 26/300 - Validation: 100%|██████████| 17/17 [00:16<00:00,  1.03it/s]\n"
     ]
    },
    {
     "name": "stdout",
     "output_type": "stream",
     "text": [
      "Epoch 26 - Validation Loss: 0.3913\n",
      "Epoch 26 - Current Learning Rate: 0.001000\n",
      "Model saved with Validation Loss: 0.3912716262480792\n"
     ]
    },
    {
     "name": "stderr",
     "output_type": "stream",
     "text": [
      "Epoch 27/300 - Training: 100%|██████████| 217/217 [01:08<00:00,  3.16it/s]\n"
     ]
    },
    {
     "name": "stdout",
     "output_type": "stream",
     "text": [
      "Epoch 27 - Training Loss: 0.3140\n"
     ]
    },
    {
     "name": "stderr",
     "output_type": "stream",
     "text": [
      "Epoch 27/300 - Validation: 100%|██████████| 17/17 [00:16<00:00,  1.01it/s]\n"
     ]
    },
    {
     "name": "stdout",
     "output_type": "stream",
     "text": [
      "Epoch 27 - Validation Loss: 0.3999\n",
      "Epoch 27 - Current Learning Rate: 0.001000\n"
     ]
    },
    {
     "name": "stderr",
     "output_type": "stream",
     "text": [
      "Epoch 28/300 - Training: 100%|██████████| 217/217 [01:10<00:00,  3.09it/s]\n"
     ]
    },
    {
     "name": "stdout",
     "output_type": "stream",
     "text": [
      "Epoch 28 - Training Loss: 0.3125\n"
     ]
    },
    {
     "name": "stderr",
     "output_type": "stream",
     "text": [
      "Epoch 28/300 - Validation: 100%|██████████| 17/17 [00:16<00:00,  1.05it/s]\n"
     ]
    },
    {
     "name": "stdout",
     "output_type": "stream",
     "text": [
      "Epoch 28 - Validation Loss: 0.3951\n",
      "Epoch 28 - Current Learning Rate: 0.001000\n"
     ]
    },
    {
     "name": "stderr",
     "output_type": "stream",
     "text": [
      "Epoch 29/300 - Training: 100%|██████████| 217/217 [01:09<00:00,  3.10it/s]\n"
     ]
    },
    {
     "name": "stdout",
     "output_type": "stream",
     "text": [
      "Epoch 29 - Training Loss: 0.3087\n"
     ]
    },
    {
     "name": "stderr",
     "output_type": "stream",
     "text": [
      "Epoch 29/300 - Validation: 100%|██████████| 17/17 [00:17<00:00,  1.00s/it]\n"
     ]
    },
    {
     "name": "stdout",
     "output_type": "stream",
     "text": [
      "Epoch 29 - Validation Loss: 0.4086\n",
      "Epoch 29 - Current Learning Rate: 0.001000\n"
     ]
    },
    {
     "name": "stderr",
     "output_type": "stream",
     "text": [
      "Epoch 30/300 - Training: 100%|██████████| 217/217 [01:06<00:00,  3.25it/s]\n"
     ]
    },
    {
     "name": "stdout",
     "output_type": "stream",
     "text": [
      "Epoch 30 - Training Loss: 0.3065\n"
     ]
    },
    {
     "name": "stderr",
     "output_type": "stream",
     "text": [
      "Epoch 30/300 - Validation: 100%|██████████| 17/17 [00:16<00:00,  1.05it/s]\n"
     ]
    },
    {
     "name": "stdout",
     "output_type": "stream",
     "text": [
      "Epoch 30 - Validation Loss: 0.4171\n",
      "Epoch 30 - Current Learning Rate: 0.001000\n"
     ]
    },
    {
     "name": "stderr",
     "output_type": "stream",
     "text": [
      "Epoch 31/300 - Training: 100%|██████████| 217/217 [01:08<00:00,  3.17it/s]\n"
     ]
    },
    {
     "name": "stdout",
     "output_type": "stream",
     "text": [
      "Epoch 31 - Training Loss: 0.3066\n"
     ]
    },
    {
     "name": "stderr",
     "output_type": "stream",
     "text": [
      "Epoch 31/300 - Validation: 100%|██████████| 17/17 [00:15<00:00,  1.07it/s]\n"
     ]
    },
    {
     "name": "stdout",
     "output_type": "stream",
     "text": [
      "Epoch 31 - Validation Loss: 0.3920\n",
      "Epoch 31 - Current Learning Rate: 0.001000\n"
     ]
    },
    {
     "name": "stderr",
     "output_type": "stream",
     "text": [
      "Epoch 32/300 - Training: 100%|██████████| 217/217 [01:07<00:00,  3.23it/s]\n"
     ]
    },
    {
     "name": "stdout",
     "output_type": "stream",
     "text": [
      "Epoch 32 - Training Loss: 0.3019\n"
     ]
    },
    {
     "name": "stderr",
     "output_type": "stream",
     "text": [
      "Epoch 32/300 - Validation: 100%|██████████| 17/17 [00:13<00:00,  1.21it/s]\n"
     ]
    },
    {
     "name": "stdout",
     "output_type": "stream",
     "text": [
      "Epoch 32 - Validation Loss: 0.3892\n",
      "Epoch 32 - Current Learning Rate: 0.001000\n",
      "Model saved with Validation Loss: 0.38923121725811677\n"
     ]
    },
    {
     "name": "stderr",
     "output_type": "stream",
     "text": [
      "Epoch 33/300 - Training: 100%|██████████| 217/217 [01:05<00:00,  3.31it/s]\n"
     ]
    },
    {
     "name": "stdout",
     "output_type": "stream",
     "text": [
      "Epoch 33 - Training Loss: 0.3008\n"
     ]
    },
    {
     "name": "stderr",
     "output_type": "stream",
     "text": [
      "Epoch 33/300 - Validation: 100%|██████████| 17/17 [00:17<00:00,  1.01s/it]\n"
     ]
    },
    {
     "name": "stdout",
     "output_type": "stream",
     "text": [
      "Epoch 33 - Validation Loss: 0.4006\n",
      "Epoch 33 - Current Learning Rate: 0.001000\n"
     ]
    },
    {
     "name": "stderr",
     "output_type": "stream",
     "text": [
      "Epoch 34/300 - Training: 100%|██████████| 217/217 [01:09<00:00,  3.12it/s]\n"
     ]
    },
    {
     "name": "stdout",
     "output_type": "stream",
     "text": [
      "Epoch 34 - Training Loss: 0.2993\n"
     ]
    },
    {
     "name": "stderr",
     "output_type": "stream",
     "text": [
      "Epoch 34/300 - Validation: 100%|██████████| 17/17 [00:14<00:00,  1.17it/s]\n"
     ]
    },
    {
     "name": "stdout",
     "output_type": "stream",
     "text": [
      "Epoch 34 - Validation Loss: 0.4025\n",
      "Epoch 34 - Current Learning Rate: 0.001000\n"
     ]
    },
    {
     "name": "stderr",
     "output_type": "stream",
     "text": [
      "Epoch 35/300 - Training: 100%|██████████| 217/217 [01:06<00:00,  3.25it/s]\n"
     ]
    },
    {
     "name": "stdout",
     "output_type": "stream",
     "text": [
      "Epoch 35 - Training Loss: 0.2984\n"
     ]
    },
    {
     "name": "stderr",
     "output_type": "stream",
     "text": [
      "Epoch 35/300 - Validation: 100%|██████████| 17/17 [00:16<00:00,  1.01it/s]\n"
     ]
    },
    {
     "name": "stdout",
     "output_type": "stream",
     "text": [
      "Epoch 35 - Validation Loss: 0.4041\n",
      "Epoch 35 - Current Learning Rate: 0.001000\n"
     ]
    },
    {
     "name": "stderr",
     "output_type": "stream",
     "text": [
      "Epoch 36/300 - Training: 100%|██████████| 217/217 [01:05<00:00,  3.30it/s]\n"
     ]
    },
    {
     "name": "stdout",
     "output_type": "stream",
     "text": [
      "Epoch 36 - Training Loss: 0.2953\n"
     ]
    },
    {
     "name": "stderr",
     "output_type": "stream",
     "text": [
      "Epoch 36/300 - Validation: 100%|██████████| 17/17 [00:15<00:00,  1.07it/s]\n"
     ]
    },
    {
     "name": "stdout",
     "output_type": "stream",
     "text": [
      "Epoch 36 - Validation Loss: 0.3927\n",
      "Epoch 36 - Current Learning Rate: 0.001000\n"
     ]
    },
    {
     "name": "stderr",
     "output_type": "stream",
     "text": [
      "Epoch 37/300 - Training: 100%|██████████| 217/217 [01:10<00:00,  3.10it/s]\n"
     ]
    },
    {
     "name": "stdout",
     "output_type": "stream",
     "text": [
      "Epoch 37 - Training Loss: 0.2945\n"
     ]
    },
    {
     "name": "stderr",
     "output_type": "stream",
     "text": [
      "Epoch 37/300 - Validation: 100%|██████████| 17/17 [00:16<00:00,  1.02it/s]\n"
     ]
    },
    {
     "name": "stdout",
     "output_type": "stream",
     "text": [
      "Epoch 37 - Validation Loss: 0.3911\n",
      "Epoch 37 - Current Learning Rate: 0.001000\n"
     ]
    },
    {
     "name": "stderr",
     "output_type": "stream",
     "text": [
      "Epoch 38/300 - Training: 100%|██████████| 217/217 [01:09<00:00,  3.14it/s]\n"
     ]
    },
    {
     "name": "stdout",
     "output_type": "stream",
     "text": [
      "Epoch 38 - Training Loss: 0.2950\n"
     ]
    },
    {
     "name": "stderr",
     "output_type": "stream",
     "text": [
      "Epoch 38/300 - Validation: 100%|██████████| 17/17 [00:14<00:00,  1.21it/s]\n"
     ]
    },
    {
     "name": "stdout",
     "output_type": "stream",
     "text": [
      "Epoch 38 - Validation Loss: 0.3966\n",
      "Epoch 38 - Current Learning Rate: 0.000500\n"
     ]
    },
    {
     "name": "stderr",
     "output_type": "stream",
     "text": [
      "Epoch 39/300 - Training: 100%|██████████| 217/217 [01:10<00:00,  3.07it/s]\n"
     ]
    },
    {
     "name": "stdout",
     "output_type": "stream",
     "text": [
      "Epoch 39 - Training Loss: 0.2853\n"
     ]
    },
    {
     "name": "stderr",
     "output_type": "stream",
     "text": [
      "Epoch 39/300 - Validation: 100%|██████████| 17/17 [00:14<00:00,  1.20it/s]\n"
     ]
    },
    {
     "name": "stdout",
     "output_type": "stream",
     "text": [
      "Epoch 39 - Validation Loss: 0.3937\n",
      "Epoch 39 - Current Learning Rate: 0.000500\n"
     ]
    },
    {
     "name": "stderr",
     "output_type": "stream",
     "text": [
      "Epoch 40/300 - Training: 100%|██████████| 217/217 [01:05<00:00,  3.30it/s]\n"
     ]
    },
    {
     "name": "stdout",
     "output_type": "stream",
     "text": [
      "Epoch 40 - Training Loss: 0.2842\n"
     ]
    },
    {
     "name": "stderr",
     "output_type": "stream",
     "text": [
      "Epoch 40/300 - Validation: 100%|██████████| 17/17 [00:16<00:00,  1.03it/s]\n"
     ]
    },
    {
     "name": "stdout",
     "output_type": "stream",
     "text": [
      "Epoch 40 - Validation Loss: 0.3911\n",
      "Epoch 40 - Current Learning Rate: 0.000500\n"
     ]
    },
    {
     "name": "stderr",
     "output_type": "stream",
     "text": [
      "Epoch 41/300 - Training: 100%|██████████| 217/217 [01:06<00:00,  3.27it/s]\n"
     ]
    },
    {
     "name": "stdout",
     "output_type": "stream",
     "text": [
      "Epoch 41 - Training Loss: 0.2832\n"
     ]
    },
    {
     "name": "stderr",
     "output_type": "stream",
     "text": [
      "Epoch 41/300 - Validation: 100%|██████████| 17/17 [00:16<00:00,  1.05it/s]\n"
     ]
    },
    {
     "name": "stdout",
     "output_type": "stream",
     "text": [
      "Epoch 41 - Validation Loss: 0.4342\n",
      "Epoch 41 - Current Learning Rate: 0.000500\n"
     ]
    },
    {
     "name": "stderr",
     "output_type": "stream",
     "text": [
      "Epoch 42/300 - Training: 100%|██████████| 217/217 [01:09<00:00,  3.11it/s]\n"
     ]
    },
    {
     "name": "stdout",
     "output_type": "stream",
     "text": [
      "Epoch 42 - Training Loss: 0.2829\n"
     ]
    },
    {
     "name": "stderr",
     "output_type": "stream",
     "text": [
      "Epoch 42/300 - Validation: 100%|██████████| 17/17 [00:16<00:00,  1.04it/s]\n"
     ]
    },
    {
     "name": "stdout",
     "output_type": "stream",
     "text": [
      "Epoch 42 - Validation Loss: 0.3912\n",
      "Epoch 42 - Current Learning Rate: 0.000500\n"
     ]
    },
    {
     "name": "stderr",
     "output_type": "stream",
     "text": [
      "Epoch 43/300 - Training: 100%|██████████| 217/217 [01:09<00:00,  3.10it/s]\n"
     ]
    },
    {
     "name": "stdout",
     "output_type": "stream",
     "text": [
      "Epoch 43 - Training Loss: 0.2816\n"
     ]
    },
    {
     "name": "stderr",
     "output_type": "stream",
     "text": [
      "Epoch 43/300 - Validation: 100%|██████████| 17/17 [00:17<00:00,  1.01s/it]\n"
     ]
    },
    {
     "name": "stdout",
     "output_type": "stream",
     "text": [
      "Epoch 43 - Validation Loss: 0.3955\n",
      "Epoch 43 - Current Learning Rate: 0.000500\n"
     ]
    },
    {
     "name": "stderr",
     "output_type": "stream",
     "text": [
      "Epoch 44/300 - Training: 100%|██████████| 217/217 [01:06<00:00,  3.24it/s]\n"
     ]
    },
    {
     "name": "stdout",
     "output_type": "stream",
     "text": [
      "Epoch 44 - Training Loss: 0.2796\n"
     ]
    },
    {
     "name": "stderr",
     "output_type": "stream",
     "text": [
      "Epoch 44/300 - Validation: 100%|██████████| 17/17 [00:16<00:00,  1.03it/s]\n"
     ]
    },
    {
     "name": "stdout",
     "output_type": "stream",
     "text": [
      "Epoch 44 - Validation Loss: 0.3920\n",
      "Epoch 44 - Current Learning Rate: 0.000250\n"
     ]
    },
    {
     "name": "stderr",
     "output_type": "stream",
     "text": [
      "Epoch 45/300 - Training: 100%|██████████| 217/217 [01:07<00:00,  3.22it/s]\n"
     ]
    },
    {
     "name": "stdout",
     "output_type": "stream",
     "text": [
      "Epoch 45 - Training Loss: 0.2776\n"
     ]
    },
    {
     "name": "stderr",
     "output_type": "stream",
     "text": [
      "Epoch 45/300 - Validation: 100%|██████████| 17/17 [00:16<00:00,  1.03it/s]\n"
     ]
    },
    {
     "name": "stdout",
     "output_type": "stream",
     "text": [
      "Epoch 45 - Validation Loss: 0.3983\n",
      "Epoch 45 - Current Learning Rate: 0.000250\n"
     ]
    },
    {
     "name": "stderr",
     "output_type": "stream",
     "text": [
      "Epoch 46/300 - Training: 100%|██████████| 217/217 [01:06<00:00,  3.27it/s]\n"
     ]
    },
    {
     "name": "stdout",
     "output_type": "stream",
     "text": [
      "Epoch 46 - Training Loss: 0.2769\n"
     ]
    },
    {
     "name": "stderr",
     "output_type": "stream",
     "text": [
      "Epoch 46/300 - Validation: 100%|██████████| 17/17 [00:15<00:00,  1.12it/s]\n"
     ]
    },
    {
     "name": "stdout",
     "output_type": "stream",
     "text": [
      "Epoch 46 - Validation Loss: 0.4018\n",
      "Epoch 46 - Current Learning Rate: 0.000250\n"
     ]
    },
    {
     "name": "stderr",
     "output_type": "stream",
     "text": [
      "Epoch 47/300 - Training: 100%|██████████| 217/217 [01:08<00:00,  3.18it/s]\n"
     ]
    },
    {
     "name": "stdout",
     "output_type": "stream",
     "text": [
      "Epoch 47 - Training Loss: 0.2765\n"
     ]
    },
    {
     "name": "stderr",
     "output_type": "stream",
     "text": [
      "Epoch 47/300 - Validation: 100%|██████████| 17/17 [00:13<00:00,  1.27it/s]\n"
     ]
    },
    {
     "name": "stdout",
     "output_type": "stream",
     "text": [
      "Epoch 47 - Validation Loss: 0.4073\n",
      "Epoch 47 - Current Learning Rate: 0.000250\n"
     ]
    },
    {
     "name": "stderr",
     "output_type": "stream",
     "text": [
      "Epoch 48/300 - Training: 100%|██████████| 217/217 [01:07<00:00,  3.22it/s]\n"
     ]
    },
    {
     "name": "stdout",
     "output_type": "stream",
     "text": [
      "Epoch 48 - Training Loss: 0.2761\n"
     ]
    },
    {
     "name": "stderr",
     "output_type": "stream",
     "text": [
      "Epoch 48/300 - Validation: 100%|██████████| 17/17 [00:14<00:00,  1.16it/s]\n"
     ]
    },
    {
     "name": "stdout",
     "output_type": "stream",
     "text": [
      "Epoch 48 - Validation Loss: 0.4069\n",
      "Epoch 48 - Current Learning Rate: 0.000250\n"
     ]
    },
    {
     "name": "stderr",
     "output_type": "stream",
     "text": [
      "Epoch 49/300 - Training: 100%|██████████| 217/217 [01:10<00:00,  3.08it/s]\n"
     ]
    },
    {
     "name": "stdout",
     "output_type": "stream",
     "text": [
      "Epoch 49 - Training Loss: 0.2755\n"
     ]
    },
    {
     "name": "stderr",
     "output_type": "stream",
     "text": [
      "Epoch 49/300 - Validation: 100%|██████████| 17/17 [00:16<00:00,  1.03it/s]\n"
     ]
    },
    {
     "name": "stdout",
     "output_type": "stream",
     "text": [
      "Epoch 49 - Validation Loss: 0.3990\n",
      "Epoch 49 - Current Learning Rate: 0.000250\n"
     ]
    },
    {
     "name": "stderr",
     "output_type": "stream",
     "text": [
      "Epoch 50/300 - Training: 100%|██████████| 217/217 [01:10<00:00,  3.09it/s]\n"
     ]
    },
    {
     "name": "stdout",
     "output_type": "stream",
     "text": [
      "Epoch 50 - Training Loss: 0.2748\n"
     ]
    },
    {
     "name": "stderr",
     "output_type": "stream",
     "text": [
      "Epoch 50/300 - Validation: 100%|██████████| 17/17 [00:14<00:00,  1.16it/s]\n"
     ]
    },
    {
     "name": "stdout",
     "output_type": "stream",
     "text": [
      "Epoch 50 - Validation Loss: 0.3964\n",
      "Epoch 50 - Current Learning Rate: 0.000125\n"
     ]
    },
    {
     "name": "stderr",
     "output_type": "stream",
     "text": [
      "Epoch 51/300 - Training: 100%|██████████| 217/217 [01:07<00:00,  3.21it/s]\n"
     ]
    },
    {
     "name": "stdout",
     "output_type": "stream",
     "text": [
      "Epoch 51 - Training Loss: 0.2735\n"
     ]
    },
    {
     "name": "stderr",
     "output_type": "stream",
     "text": [
      "Epoch 51/300 - Validation: 100%|██████████| 17/17 [00:14<00:00,  1.17it/s]\n"
     ]
    },
    {
     "name": "stdout",
     "output_type": "stream",
     "text": [
      "Epoch 51 - Validation Loss: 0.4006\n",
      "Epoch 51 - Current Learning Rate: 0.000125\n"
     ]
    },
    {
     "name": "stderr",
     "output_type": "stream",
     "text": [
      "Epoch 52/300 - Training: 100%|██████████| 217/217 [01:10<00:00,  3.08it/s]\n"
     ]
    },
    {
     "name": "stdout",
     "output_type": "stream",
     "text": [
      "Epoch 52 - Training Loss: 0.2731\n"
     ]
    },
    {
     "name": "stderr",
     "output_type": "stream",
     "text": [
      "Epoch 52/300 - Validation: 100%|██████████| 17/17 [00:14<00:00,  1.15it/s]\n"
     ]
    },
    {
     "name": "stdout",
     "output_type": "stream",
     "text": [
      "Epoch 52 - Validation Loss: 0.4002\n",
      "Epoch 52 - Current Learning Rate: 0.000125\n"
     ]
    },
    {
     "name": "stderr",
     "output_type": "stream",
     "text": [
      "Epoch 53/300 - Training: 100%|██████████| 217/217 [01:04<00:00,  3.38it/s]\n"
     ]
    },
    {
     "name": "stdout",
     "output_type": "stream",
     "text": [
      "Epoch 53 - Training Loss: 0.2727\n"
     ]
    },
    {
     "name": "stderr",
     "output_type": "stream",
     "text": [
      "Epoch 53/300 - Validation: 100%|██████████| 17/17 [00:13<00:00,  1.25it/s]\n"
     ]
    },
    {
     "name": "stdout",
     "output_type": "stream",
     "text": [
      "Epoch 53 - Validation Loss: 0.4030\n",
      "Epoch 53 - Current Learning Rate: 0.000125\n"
     ]
    },
    {
     "name": "stderr",
     "output_type": "stream",
     "text": [
      "Epoch 54/300 - Training: 100%|██████████| 217/217 [01:06<00:00,  3.27it/s]\n"
     ]
    },
    {
     "name": "stdout",
     "output_type": "stream",
     "text": [
      "Epoch 54 - Training Loss: 0.2723\n"
     ]
    },
    {
     "name": "stderr",
     "output_type": "stream",
     "text": [
      "Epoch 54/300 - Validation: 100%|██████████| 17/17 [00:14<00:00,  1.18it/s]\n"
     ]
    },
    {
     "name": "stdout",
     "output_type": "stream",
     "text": [
      "Epoch 54 - Validation Loss: 0.4019\n",
      "Epoch 54 - Current Learning Rate: 0.000125\n"
     ]
    },
    {
     "name": "stderr",
     "output_type": "stream",
     "text": [
      "Epoch 55/300 - Training: 100%|██████████| 217/217 [01:08<00:00,  3.16it/s]\n"
     ]
    },
    {
     "name": "stdout",
     "output_type": "stream",
     "text": [
      "Epoch 55 - Training Loss: 0.2719\n"
     ]
    },
    {
     "name": "stderr",
     "output_type": "stream",
     "text": [
      "Epoch 55/300 - Validation: 100%|██████████| 17/17 [00:14<00:00,  1.19it/s]\n"
     ]
    },
    {
     "name": "stdout",
     "output_type": "stream",
     "text": [
      "Epoch 55 - Validation Loss: 0.4039\n",
      "Epoch 55 - Current Learning Rate: 0.000125\n"
     ]
    },
    {
     "name": "stderr",
     "output_type": "stream",
     "text": [
      "Epoch 56/300 - Training: 100%|██████████| 217/217 [01:05<00:00,  3.30it/s]\n"
     ]
    },
    {
     "name": "stdout",
     "output_type": "stream",
     "text": [
      "Epoch 56 - Training Loss: 0.2716\n"
     ]
    },
    {
     "name": "stderr",
     "output_type": "stream",
     "text": [
      "Epoch 56/300 - Validation: 100%|██████████| 17/17 [00:14<00:00,  1.20it/s]\n"
     ]
    },
    {
     "name": "stdout",
     "output_type": "stream",
     "text": [
      "Epoch 56 - Validation Loss: 0.4005\n",
      "Epoch 56 - Current Learning Rate: 0.000063\n"
     ]
    },
    {
     "name": "stderr",
     "output_type": "stream",
     "text": [
      "Epoch 57/300 - Training: 100%|██████████| 217/217 [01:05<00:00,  3.34it/s]\n"
     ]
    },
    {
     "name": "stdout",
     "output_type": "stream",
     "text": [
      "Epoch 57 - Training Loss: 0.2711\n"
     ]
    },
    {
     "name": "stderr",
     "output_type": "stream",
     "text": [
      "Epoch 57/300 - Validation: 100%|██████████| 17/17 [00:13<00:00,  1.22it/s]\n"
     ]
    },
    {
     "name": "stdout",
     "output_type": "stream",
     "text": [
      "Epoch 57 - Validation Loss: 0.4021\n",
      "Epoch 57 - Current Learning Rate: 0.000063\n"
     ]
    },
    {
     "name": "stderr",
     "output_type": "stream",
     "text": [
      "Epoch 58/300 - Training: 100%|██████████| 217/217 [01:05<00:00,  3.33it/s]\n"
     ]
    },
    {
     "name": "stdout",
     "output_type": "stream",
     "text": [
      "Epoch 58 - Training Loss: 0.2709\n"
     ]
    },
    {
     "name": "stderr",
     "output_type": "stream",
     "text": [
      "Epoch 58/300 - Validation: 100%|██████████| 17/17 [00:17<00:00,  1.02s/it]\n"
     ]
    },
    {
     "name": "stdout",
     "output_type": "stream",
     "text": [
      "Epoch 58 - Validation Loss: 0.4027\n",
      "Epoch 58 - Current Learning Rate: 0.000063\n"
     ]
    },
    {
     "name": "stderr",
     "output_type": "stream",
     "text": [
      "Epoch 59/300 - Training: 100%|██████████| 217/217 [01:11<00:00,  3.05it/s]\n"
     ]
    },
    {
     "name": "stdout",
     "output_type": "stream",
     "text": [
      "Epoch 59 - Training Loss: 0.2707\n"
     ]
    },
    {
     "name": "stderr",
     "output_type": "stream",
     "text": [
      "Epoch 59/300 - Validation: 100%|██████████| 17/17 [00:15<00:00,  1.08it/s]\n"
     ]
    },
    {
     "name": "stdout",
     "output_type": "stream",
     "text": [
      "Epoch 59 - Validation Loss: 0.4034\n",
      "Epoch 59 - Current Learning Rate: 0.000063\n"
     ]
    },
    {
     "name": "stderr",
     "output_type": "stream",
     "text": [
      "Epoch 60/300 - Training: 100%|██████████| 217/217 [01:07<00:00,  3.21it/s]\n"
     ]
    },
    {
     "name": "stdout",
     "output_type": "stream",
     "text": [
      "Epoch 60 - Training Loss: 0.2705\n"
     ]
    },
    {
     "name": "stderr",
     "output_type": "stream",
     "text": [
      "Epoch 60/300 - Validation: 100%|██████████| 17/17 [00:16<00:00,  1.00it/s]\n"
     ]
    },
    {
     "name": "stdout",
     "output_type": "stream",
     "text": [
      "Epoch 60 - Validation Loss: 0.4027\n",
      "Epoch 60 - Current Learning Rate: 0.000063\n"
     ]
    },
    {
     "name": "stderr",
     "output_type": "stream",
     "text": [
      "Epoch 61/300 - Training: 100%|██████████| 217/217 [01:05<00:00,  3.33it/s]\n"
     ]
    },
    {
     "name": "stdout",
     "output_type": "stream",
     "text": [
      "Epoch 61 - Training Loss: 0.2702\n"
     ]
    },
    {
     "name": "stderr",
     "output_type": "stream",
     "text": [
      "Epoch 61/300 - Validation: 100%|██████████| 17/17 [00:14<00:00,  1.15it/s]\n"
     ]
    },
    {
     "name": "stdout",
     "output_type": "stream",
     "text": [
      "Epoch 61 - Validation Loss: 0.4041\n",
      "Epoch 61 - Current Learning Rate: 0.000063\n"
     ]
    },
    {
     "name": "stderr",
     "output_type": "stream",
     "text": [
      "Epoch 62/300 - Training: 100%|██████████| 217/217 [01:05<00:00,  3.32it/s]\n"
     ]
    },
    {
     "name": "stdout",
     "output_type": "stream",
     "text": [
      "Epoch 62 - Training Loss: 0.2699\n"
     ]
    },
    {
     "name": "stderr",
     "output_type": "stream",
     "text": [
      "Epoch 62/300 - Validation: 100%|██████████| 17/17 [00:16<00:00,  1.03it/s]\n"
     ]
    },
    {
     "name": "stdout",
     "output_type": "stream",
     "text": [
      "Epoch 62 - Validation Loss: 0.4027\n",
      "Epoch 62 - Current Learning Rate: 0.000031\n"
     ]
    },
    {
     "name": "stderr",
     "output_type": "stream",
     "text": [
      "Epoch 63/300 - Training: 100%|██████████| 217/217 [01:08<00:00,  3.15it/s]\n"
     ]
    },
    {
     "name": "stdout",
     "output_type": "stream",
     "text": [
      "Epoch 63 - Training Loss: 0.2697\n"
     ]
    },
    {
     "name": "stderr",
     "output_type": "stream",
     "text": [
      "Epoch 63/300 - Validation: 100%|██████████| 17/17 [00:15<00:00,  1.12it/s]\n"
     ]
    },
    {
     "name": "stdout",
     "output_type": "stream",
     "text": [
      "Epoch 63 - Validation Loss: 0.4027\n",
      "Epoch 63 - Current Learning Rate: 0.000031\n"
     ]
    },
    {
     "name": "stderr",
     "output_type": "stream",
     "text": [
      "Epoch 64/300 - Training: 100%|██████████| 217/217 [01:06<00:00,  3.26it/s]\n"
     ]
    },
    {
     "name": "stdout",
     "output_type": "stream",
     "text": [
      "Epoch 64 - Training Loss: 0.2696\n"
     ]
    },
    {
     "name": "stderr",
     "output_type": "stream",
     "text": [
      "Epoch 64/300 - Validation: 100%|██████████| 17/17 [00:14<00:00,  1.21it/s]\n"
     ]
    },
    {
     "name": "stdout",
     "output_type": "stream",
     "text": [
      "Epoch 64 - Validation Loss: 0.4034\n",
      "Epoch 64 - Current Learning Rate: 0.000031\n"
     ]
    },
    {
     "name": "stderr",
     "output_type": "stream",
     "text": [
      "Epoch 65/300 - Training: 100%|██████████| 217/217 [01:09<00:00,  3.12it/s]\n"
     ]
    },
    {
     "name": "stdout",
     "output_type": "stream",
     "text": [
      "Epoch 65 - Training Loss: 0.2694\n"
     ]
    },
    {
     "name": "stderr",
     "output_type": "stream",
     "text": [
      "Epoch 65/300 - Validation: 100%|██████████| 17/17 [00:14<00:00,  1.21it/s]\n"
     ]
    },
    {
     "name": "stdout",
     "output_type": "stream",
     "text": [
      "Epoch 65 - Validation Loss: 0.4050\n",
      "Epoch 65 - Current Learning Rate: 0.000031\n"
     ]
    },
    {
     "name": "stderr",
     "output_type": "stream",
     "text": [
      "Epoch 66/300 - Training: 100%|██████████| 217/217 [01:10<00:00,  3.09it/s]\n"
     ]
    },
    {
     "name": "stdout",
     "output_type": "stream",
     "text": [
      "Epoch 66 - Training Loss: 0.2694\n"
     ]
    },
    {
     "name": "stderr",
     "output_type": "stream",
     "text": [
      "Epoch 66/300 - Validation: 100%|██████████| 17/17 [00:14<00:00,  1.17it/s]\n"
     ]
    },
    {
     "name": "stdout",
     "output_type": "stream",
     "text": [
      "Epoch 66 - Validation Loss: 0.4006\n",
      "Epoch 66 - Current Learning Rate: 0.000031\n"
     ]
    },
    {
     "name": "stderr",
     "output_type": "stream",
     "text": [
      "Epoch 67/300 - Training: 100%|██████████| 217/217 [01:05<00:00,  3.31it/s]\n"
     ]
    },
    {
     "name": "stdout",
     "output_type": "stream",
     "text": [
      "Epoch 67 - Training Loss: 0.2692\n"
     ]
    },
    {
     "name": "stderr",
     "output_type": "stream",
     "text": [
      "Epoch 67/300 - Validation: 100%|██████████| 17/17 [00:14<00:00,  1.17it/s]\n"
     ]
    },
    {
     "name": "stdout",
     "output_type": "stream",
     "text": [
      "Epoch 67 - Validation Loss: 0.4041\n",
      "Epoch 67 - Current Learning Rate: 0.000031\n"
     ]
    },
    {
     "name": "stderr",
     "output_type": "stream",
     "text": [
      "Epoch 68/300 - Training: 100%|██████████| 217/217 [01:08<00:00,  3.16it/s]\n"
     ]
    },
    {
     "name": "stdout",
     "output_type": "stream",
     "text": [
      "Epoch 68 - Training Loss: 0.2691\n"
     ]
    },
    {
     "name": "stderr",
     "output_type": "stream",
     "text": [
      "Epoch 68/300 - Validation: 100%|██████████| 17/17 [00:15<00:00,  1.07it/s]\n"
     ]
    },
    {
     "name": "stdout",
     "output_type": "stream",
     "text": [
      "Epoch 68 - Validation Loss: 0.4023\n",
      "Epoch 68 - Current Learning Rate: 0.000016\n"
     ]
    },
    {
     "name": "stderr",
     "output_type": "stream",
     "text": [
      "Epoch 69/300 - Training: 100%|██████████| 217/217 [01:07<00:00,  3.22it/s]\n"
     ]
    },
    {
     "name": "stdout",
     "output_type": "stream",
     "text": [
      "Epoch 69 - Training Loss: 0.2689\n"
     ]
    },
    {
     "name": "stderr",
     "output_type": "stream",
     "text": [
      "Epoch 69/300 - Validation: 100%|██████████| 17/17 [00:17<00:00,  1.02s/it]\n"
     ]
    },
    {
     "name": "stdout",
     "output_type": "stream",
     "text": [
      "Epoch 69 - Validation Loss: 0.4030\n",
      "Epoch 69 - Current Learning Rate: 0.000016\n"
     ]
    },
    {
     "name": "stderr",
     "output_type": "stream",
     "text": [
      "Epoch 70/300 - Training: 100%|██████████| 217/217 [01:09<00:00,  3.13it/s]\n"
     ]
    },
    {
     "name": "stdout",
     "output_type": "stream",
     "text": [
      "Epoch 70 - Training Loss: 0.2689\n"
     ]
    },
    {
     "name": "stderr",
     "output_type": "stream",
     "text": [
      "Epoch 70/300 - Validation: 100%|██████████| 17/17 [00:16<00:00,  1.02it/s]\n"
     ]
    },
    {
     "name": "stdout",
     "output_type": "stream",
     "text": [
      "Epoch 70 - Validation Loss: 0.4038\n",
      "Epoch 70 - Current Learning Rate: 0.000016\n"
     ]
    },
    {
     "name": "stderr",
     "output_type": "stream",
     "text": [
      "Epoch 71/300 - Training: 100%|██████████| 217/217 [01:10<00:00,  3.09it/s]\n"
     ]
    },
    {
     "name": "stdout",
     "output_type": "stream",
     "text": [
      "Epoch 71 - Training Loss: 0.2688\n"
     ]
    },
    {
     "name": "stderr",
     "output_type": "stream",
     "text": [
      "Epoch 71/300 - Validation: 100%|██████████| 17/17 [00:17<00:00,  1.02s/it]\n"
     ]
    },
    {
     "name": "stdout",
     "output_type": "stream",
     "text": [
      "Epoch 71 - Validation Loss: 0.4052\n",
      "Epoch 71 - Current Learning Rate: 0.000016\n"
     ]
    },
    {
     "name": "stderr",
     "output_type": "stream",
     "text": [
      "Epoch 72/300 - Training: 100%|██████████| 217/217 [01:10<00:00,  3.08it/s]\n"
     ]
    },
    {
     "name": "stdout",
     "output_type": "stream",
     "text": [
      "Epoch 72 - Training Loss: 0.2688\n"
     ]
    },
    {
     "name": "stderr",
     "output_type": "stream",
     "text": [
      "Epoch 72/300 - Validation: 100%|██████████| 17/17 [00:14<00:00,  1.13it/s]\n"
     ]
    },
    {
     "name": "stdout",
     "output_type": "stream",
     "text": [
      "Epoch 72 - Validation Loss: 0.4048\n",
      "Epoch 72 - Current Learning Rate: 0.000016\n"
     ]
    },
    {
     "name": "stderr",
     "output_type": "stream",
     "text": [
      "Epoch 73/300 - Training: 100%|██████████| 217/217 [01:08<00:00,  3.19it/s]\n"
     ]
    },
    {
     "name": "stdout",
     "output_type": "stream",
     "text": [
      "Epoch 73 - Training Loss: 0.2687\n"
     ]
    },
    {
     "name": "stderr",
     "output_type": "stream",
     "text": [
      "Epoch 73/300 - Validation: 100%|██████████| 17/17 [00:14<00:00,  1.21it/s]\n"
     ]
    },
    {
     "name": "stdout",
     "output_type": "stream",
     "text": [
      "Epoch 73 - Validation Loss: 0.4053\n",
      "Epoch 73 - Current Learning Rate: 0.000016\n"
     ]
    },
    {
     "name": "stderr",
     "output_type": "stream",
     "text": [
      "Epoch 74/300 - Training: 100%|██████████| 217/217 [01:06<00:00,  3.27it/s]\n"
     ]
    },
    {
     "name": "stdout",
     "output_type": "stream",
     "text": [
      "Epoch 74 - Training Loss: 0.2687\n"
     ]
    },
    {
     "name": "stderr",
     "output_type": "stream",
     "text": [
      "Epoch 74/300 - Validation: 100%|██████████| 17/17 [00:14<00:00,  1.19it/s]\n"
     ]
    },
    {
     "name": "stdout",
     "output_type": "stream",
     "text": [
      "Epoch 74 - Validation Loss: 0.4048\n",
      "Epoch 74 - Current Learning Rate: 0.000008\n"
     ]
    },
    {
     "name": "stderr",
     "output_type": "stream",
     "text": [
      "Epoch 75/300 - Training: 100%|██████████| 217/217 [01:04<00:00,  3.39it/s]\n"
     ]
    },
    {
     "name": "stdout",
     "output_type": "stream",
     "text": [
      "Epoch 75 - Training Loss: 0.2685\n"
     ]
    },
    {
     "name": "stderr",
     "output_type": "stream",
     "text": [
      "Epoch 75/300 - Validation: 100%|██████████| 17/17 [00:14<00:00,  1.20it/s]\n"
     ]
    },
    {
     "name": "stdout",
     "output_type": "stream",
     "text": [
      "Epoch 75 - Validation Loss: 0.4044\n",
      "Epoch 75 - Current Learning Rate: 0.000008\n"
     ]
    },
    {
     "name": "stderr",
     "output_type": "stream",
     "text": [
      "Epoch 76/300 - Training: 100%|██████████| 217/217 [01:06<00:00,  3.27it/s]\n"
     ]
    },
    {
     "name": "stdout",
     "output_type": "stream",
     "text": [
      "Epoch 76 - Training Loss: 0.2685\n"
     ]
    },
    {
     "name": "stderr",
     "output_type": "stream",
     "text": [
      "Epoch 76/300 - Validation: 100%|██████████| 17/17 [00:14<00:00,  1.18it/s]\n"
     ]
    },
    {
     "name": "stdout",
     "output_type": "stream",
     "text": [
      "Epoch 76 - Validation Loss: 0.4037\n",
      "Epoch 76 - Current Learning Rate: 0.000008\n"
     ]
    },
    {
     "name": "stderr",
     "output_type": "stream",
     "text": [
      "Epoch 77/300 - Training: 100%|██████████| 217/217 [01:06<00:00,  3.27it/s]\n"
     ]
    },
    {
     "name": "stdout",
     "output_type": "stream",
     "text": [
      "Epoch 77 - Training Loss: 0.2685\n"
     ]
    },
    {
     "name": "stderr",
     "output_type": "stream",
     "text": [
      "Epoch 77/300 - Validation: 100%|██████████| 17/17 [00:16<00:00,  1.02it/s]\n"
     ]
    },
    {
     "name": "stdout",
     "output_type": "stream",
     "text": [
      "Epoch 77 - Validation Loss: 0.4047\n",
      "Epoch 77 - Current Learning Rate: 0.000008\n"
     ]
    },
    {
     "name": "stderr",
     "output_type": "stream",
     "text": [
      "Epoch 78/300 - Training: 100%|██████████| 217/217 [01:06<00:00,  3.28it/s]\n"
     ]
    },
    {
     "name": "stdout",
     "output_type": "stream",
     "text": [
      "Epoch 78 - Training Loss: 0.2685\n"
     ]
    },
    {
     "name": "stderr",
     "output_type": "stream",
     "text": [
      "Epoch 78/300 - Validation: 100%|██████████| 17/17 [00:16<00:00,  1.02it/s]\n"
     ]
    },
    {
     "name": "stdout",
     "output_type": "stream",
     "text": [
      "Epoch 78 - Validation Loss: 0.4033\n",
      "Epoch 78 - Current Learning Rate: 0.000008\n"
     ]
    },
    {
     "name": "stderr",
     "output_type": "stream",
     "text": [
      "Epoch 79/300 - Training: 100%|██████████| 217/217 [01:12<00:00,  3.01it/s]\n"
     ]
    },
    {
     "name": "stdout",
     "output_type": "stream",
     "text": [
      "Epoch 79 - Training Loss: 0.2685\n"
     ]
    },
    {
     "name": "stderr",
     "output_type": "stream",
     "text": [
      "Epoch 79/300 - Validation: 100%|██████████| 17/17 [00:14<00:00,  1.20it/s]\n"
     ]
    },
    {
     "name": "stdout",
     "output_type": "stream",
     "text": [
      "Epoch 79 - Validation Loss: 0.4037\n",
      "Epoch 79 - Current Learning Rate: 0.000008\n"
     ]
    },
    {
     "name": "stderr",
     "output_type": "stream",
     "text": [
      "Epoch 80/300 - Training: 100%|██████████| 217/217 [01:08<00:00,  3.16it/s]\n"
     ]
    },
    {
     "name": "stdout",
     "output_type": "stream",
     "text": [
      "Epoch 80 - Training Loss: 0.2684\n"
     ]
    },
    {
     "name": "stderr",
     "output_type": "stream",
     "text": [
      "Epoch 80/300 - Validation: 100%|██████████| 17/17 [00:15<00:00,  1.07it/s]\n"
     ]
    },
    {
     "name": "stdout",
     "output_type": "stream",
     "text": [
      "Epoch 80 - Validation Loss: 0.4047\n",
      "Epoch 80 - Current Learning Rate: 0.000004\n"
     ]
    },
    {
     "name": "stderr",
     "output_type": "stream",
     "text": [
      "Epoch 81/300 - Training: 100%|██████████| 217/217 [01:11<00:00,  3.03it/s]\n"
     ]
    },
    {
     "name": "stdout",
     "output_type": "stream",
     "text": [
      "Epoch 81 - Training Loss: 0.2683\n"
     ]
    },
    {
     "name": "stderr",
     "output_type": "stream",
     "text": [
      "Epoch 81/300 - Validation: 100%|██████████| 17/17 [00:17<00:00,  1.04s/it]\n"
     ]
    },
    {
     "name": "stdout",
     "output_type": "stream",
     "text": [
      "Epoch 81 - Validation Loss: 0.4042\n",
      "Epoch 81 - Current Learning Rate: 0.000004\n"
     ]
    },
    {
     "name": "stderr",
     "output_type": "stream",
     "text": [
      "Epoch 82/300 - Training: 100%|██████████| 217/217 [01:07<00:00,  3.22it/s]\n"
     ]
    },
    {
     "name": "stdout",
     "output_type": "stream",
     "text": [
      "Epoch 82 - Training Loss: 0.2683\n"
     ]
    },
    {
     "name": "stderr",
     "output_type": "stream",
     "text": [
      "Epoch 82/300 - Validation: 100%|██████████| 17/17 [00:16<00:00,  1.01it/s]\n"
     ]
    },
    {
     "name": "stdout",
     "output_type": "stream",
     "text": [
      "Epoch 82 - Validation Loss: 0.4043\n",
      "Epoch 82 - Current Learning Rate: 0.000004\n"
     ]
    },
    {
     "name": "stderr",
     "output_type": "stream",
     "text": [
      "Epoch 83/300 - Training: 100%|██████████| 217/217 [01:08<00:00,  3.15it/s]\n"
     ]
    },
    {
     "name": "stdout",
     "output_type": "stream",
     "text": [
      "Epoch 83 - Training Loss: 0.2683\n"
     ]
    },
    {
     "name": "stderr",
     "output_type": "stream",
     "text": [
      "Epoch 83/300 - Validation: 100%|██████████| 17/17 [00:16<00:00,  1.06it/s]\n"
     ]
    },
    {
     "name": "stdout",
     "output_type": "stream",
     "text": [
      "Epoch 83 - Validation Loss: 0.4043\n",
      "Epoch 83 - Current Learning Rate: 0.000004\n"
     ]
    },
    {
     "name": "stderr",
     "output_type": "stream",
     "text": [
      "Epoch 84/300 - Training: 100%|██████████| 217/217 [01:10<00:00,  3.06it/s]\n"
     ]
    },
    {
     "name": "stdout",
     "output_type": "stream",
     "text": [
      "Epoch 84 - Training Loss: 0.2683\n"
     ]
    },
    {
     "name": "stderr",
     "output_type": "stream",
     "text": [
      "Epoch 84/300 - Validation: 100%|██████████| 17/17 [00:17<00:00,  1.03s/it]\n"
     ]
    },
    {
     "name": "stdout",
     "output_type": "stream",
     "text": [
      "Epoch 84 - Validation Loss: 0.4046\n",
      "Epoch 84 - Current Learning Rate: 0.000004\n"
     ]
    },
    {
     "name": "stderr",
     "output_type": "stream",
     "text": [
      "Epoch 85/300 - Training: 100%|██████████| 217/217 [01:09<00:00,  3.14it/s]\n"
     ]
    },
    {
     "name": "stdout",
     "output_type": "stream",
     "text": [
      "Epoch 85 - Training Loss: 0.2683\n"
     ]
    },
    {
     "name": "stderr",
     "output_type": "stream",
     "text": [
      "Epoch 85/300 - Validation: 100%|██████████| 17/17 [00:16<00:00,  1.05it/s]\n"
     ]
    },
    {
     "name": "stdout",
     "output_type": "stream",
     "text": [
      "Epoch 85 - Validation Loss: 0.4044\n",
      "Epoch 85 - Current Learning Rate: 0.000004\n"
     ]
    },
    {
     "name": "stderr",
     "output_type": "stream",
     "text": [
      "Epoch 86/300 - Training: 100%|██████████| 217/217 [01:08<00:00,  3.19it/s]\n"
     ]
    },
    {
     "name": "stdout",
     "output_type": "stream",
     "text": [
      "Epoch 86 - Training Loss: 0.2683\n"
     ]
    },
    {
     "name": "stderr",
     "output_type": "stream",
     "text": [
      "Epoch 86/300 - Validation: 100%|██████████| 17/17 [00:16<00:00,  1.05it/s]\n"
     ]
    },
    {
     "name": "stdout",
     "output_type": "stream",
     "text": [
      "Epoch 86 - Validation Loss: 0.4037\n",
      "Epoch 86 - Current Learning Rate: 0.000002\n"
     ]
    },
    {
     "name": "stderr",
     "output_type": "stream",
     "text": [
      "Epoch 87/300 - Training: 100%|██████████| 217/217 [01:11<00:00,  3.02it/s]\n"
     ]
    },
    {
     "name": "stdout",
     "output_type": "stream",
     "text": [
      "Epoch 87 - Training Loss: 0.2682\n"
     ]
    },
    {
     "name": "stderr",
     "output_type": "stream",
     "text": [
      "Epoch 87/300 - Validation: 100%|██████████| 17/17 [00:16<00:00,  1.02it/s]\n"
     ]
    },
    {
     "name": "stdout",
     "output_type": "stream",
     "text": [
      "Epoch 87 - Validation Loss: 0.4040\n",
      "Epoch 87 - Current Learning Rate: 0.000002\n"
     ]
    },
    {
     "name": "stderr",
     "output_type": "stream",
     "text": [
      "Epoch 88/300 - Training: 100%|██████████| 217/217 [01:06<00:00,  3.27it/s]\n"
     ]
    },
    {
     "name": "stdout",
     "output_type": "stream",
     "text": [
      "Epoch 88 - Training Loss: 0.2682\n"
     ]
    },
    {
     "name": "stderr",
     "output_type": "stream",
     "text": [
      "Epoch 88/300 - Validation: 100%|██████████| 17/17 [00:16<00:00,  1.05it/s]\n"
     ]
    },
    {
     "name": "stdout",
     "output_type": "stream",
     "text": [
      "Epoch 88 - Validation Loss: 0.4039\n",
      "Epoch 88 - Current Learning Rate: 0.000002\n"
     ]
    },
    {
     "name": "stderr",
     "output_type": "stream",
     "text": [
      "Epoch 89/300 - Training: 100%|██████████| 217/217 [01:10<00:00,  3.09it/s]\n"
     ]
    },
    {
     "name": "stdout",
     "output_type": "stream",
     "text": [
      "Epoch 89 - Training Loss: 0.2683\n"
     ]
    },
    {
     "name": "stderr",
     "output_type": "stream",
     "text": [
      "Epoch 89/300 - Validation: 100%|██████████| 17/17 [00:15<00:00,  1.08it/s]\n"
     ]
    },
    {
     "name": "stdout",
     "output_type": "stream",
     "text": [
      "Epoch 89 - Validation Loss: 0.4045\n",
      "Epoch 89 - Current Learning Rate: 0.000002\n"
     ]
    },
    {
     "name": "stderr",
     "output_type": "stream",
     "text": [
      "Epoch 90/300 - Training: 100%|██████████| 217/217 [01:10<00:00,  3.06it/s]\n"
     ]
    },
    {
     "name": "stdout",
     "output_type": "stream",
     "text": [
      "Epoch 90 - Training Loss: 0.2682\n"
     ]
    },
    {
     "name": "stderr",
     "output_type": "stream",
     "text": [
      "Epoch 90/300 - Validation: 100%|██████████| 17/17 [00:16<00:00,  1.04it/s]\n"
     ]
    },
    {
     "name": "stdout",
     "output_type": "stream",
     "text": [
      "Epoch 90 - Validation Loss: 0.4045\n",
      "Epoch 90 - Current Learning Rate: 0.000002\n"
     ]
    },
    {
     "name": "stderr",
     "output_type": "stream",
     "text": [
      "Epoch 91/300 - Training: 100%|██████████| 217/217 [01:08<00:00,  3.16it/s]\n"
     ]
    },
    {
     "name": "stdout",
     "output_type": "stream",
     "text": [
      "Epoch 91 - Training Loss: 0.2682\n"
     ]
    },
    {
     "name": "stderr",
     "output_type": "stream",
     "text": [
      "Epoch 91/300 - Validation: 100%|██████████| 17/17 [00:13<00:00,  1.24it/s]\n"
     ]
    },
    {
     "name": "stdout",
     "output_type": "stream",
     "text": [
      "Epoch 91 - Validation Loss: 0.4040\n",
      "Epoch 91 - Current Learning Rate: 0.000002\n"
     ]
    },
    {
     "name": "stderr",
     "output_type": "stream",
     "text": [
      "Epoch 92/300 - Training: 100%|██████████| 217/217 [01:10<00:00,  3.07it/s]\n"
     ]
    },
    {
     "name": "stdout",
     "output_type": "stream",
     "text": [
      "Epoch 92 - Training Loss: 0.2682\n"
     ]
    },
    {
     "name": "stderr",
     "output_type": "stream",
     "text": [
      "Epoch 92/300 - Validation: 100%|██████████| 17/17 [00:16<00:00,  1.06it/s]\n"
     ]
    },
    {
     "name": "stdout",
     "output_type": "stream",
     "text": [
      "Epoch 92 - Validation Loss: 0.4037\n",
      "Epoch 92 - Current Learning Rate: 0.000001\n"
     ]
    },
    {
     "name": "stderr",
     "output_type": "stream",
     "text": [
      "Epoch 93/300 - Training: 100%|██████████| 217/217 [01:11<00:00,  3.06it/s]\n"
     ]
    },
    {
     "name": "stdout",
     "output_type": "stream",
     "text": [
      "Epoch 93 - Training Loss: 0.2681\n"
     ]
    },
    {
     "name": "stderr",
     "output_type": "stream",
     "text": [
      "Epoch 93/300 - Validation: 100%|██████████| 17/17 [00:15<00:00,  1.07it/s]\n"
     ]
    },
    {
     "name": "stdout",
     "output_type": "stream",
     "text": [
      "Epoch 93 - Validation Loss: 0.4042\n",
      "Epoch 93 - Current Learning Rate: 0.000001\n"
     ]
    },
    {
     "name": "stderr",
     "output_type": "stream",
     "text": [
      "Epoch 94/300 - Training: 100%|██████████| 217/217 [01:07<00:00,  3.23it/s]\n"
     ]
    },
    {
     "name": "stdout",
     "output_type": "stream",
     "text": [
      "Epoch 94 - Training Loss: 0.2682\n"
     ]
    },
    {
     "name": "stderr",
     "output_type": "stream",
     "text": [
      "Epoch 94/300 - Validation: 100%|██████████| 17/17 [00:16<00:00,  1.05it/s]\n"
     ]
    },
    {
     "name": "stdout",
     "output_type": "stream",
     "text": [
      "Epoch 94 - Validation Loss: 0.4040\n",
      "Epoch 94 - Current Learning Rate: 0.000001\n"
     ]
    },
    {
     "name": "stderr",
     "output_type": "stream",
     "text": [
      "Epoch 95/300 - Training: 100%|██████████| 217/217 [01:07<00:00,  3.21it/s]\n"
     ]
    },
    {
     "name": "stdout",
     "output_type": "stream",
     "text": [
      "Epoch 95 - Training Loss: 0.2682\n"
     ]
    },
    {
     "name": "stderr",
     "output_type": "stream",
     "text": [
      "Epoch 95/300 - Validation: 100%|██████████| 17/17 [00:16<00:00,  1.06it/s]\n"
     ]
    },
    {
     "name": "stdout",
     "output_type": "stream",
     "text": [
      "Epoch 95 - Validation Loss: 0.4043\n",
      "Epoch 95 - Current Learning Rate: 0.000001\n"
     ]
    },
    {
     "name": "stderr",
     "output_type": "stream",
     "text": [
      "Epoch 96/300 - Training: 100%|██████████| 217/217 [01:09<00:00,  3.13it/s]\n"
     ]
    },
    {
     "name": "stdout",
     "output_type": "stream",
     "text": [
      "Epoch 96 - Training Loss: 0.2681\n"
     ]
    },
    {
     "name": "stderr",
     "output_type": "stream",
     "text": [
      "Epoch 96/300 - Validation: 100%|██████████| 17/17 [00:16<00:00,  1.03it/s]\n"
     ]
    },
    {
     "name": "stdout",
     "output_type": "stream",
     "text": [
      "Epoch 96 - Validation Loss: 0.4041\n",
      "Epoch 96 - Current Learning Rate: 0.000001\n"
     ]
    },
    {
     "name": "stderr",
     "output_type": "stream",
     "text": [
      "Epoch 97/300 - Training: 100%|██████████| 217/217 [01:13<00:00,  2.97it/s]\n"
     ]
    },
    {
     "name": "stdout",
     "output_type": "stream",
     "text": [
      "Epoch 97 - Training Loss: 0.2682\n"
     ]
    },
    {
     "name": "stderr",
     "output_type": "stream",
     "text": [
      "Epoch 97/300 - Validation: 100%|██████████| 17/17 [00:15<00:00,  1.11it/s]\n"
     ]
    },
    {
     "name": "stdout",
     "output_type": "stream",
     "text": [
      "Epoch 97 - Validation Loss: 0.4041\n",
      "Epoch 97 - Current Learning Rate: 0.000001\n"
     ]
    },
    {
     "name": "stderr",
     "output_type": "stream",
     "text": [
      "Epoch 98/300 - Training: 100%|██████████| 217/217 [01:08<00:00,  3.16it/s]\n"
     ]
    },
    {
     "name": "stdout",
     "output_type": "stream",
     "text": [
      "Epoch 98 - Training Loss: 0.2681\n"
     ]
    },
    {
     "name": "stderr",
     "output_type": "stream",
     "text": [
      "Epoch 98/300 - Validation: 100%|██████████| 17/17 [00:16<00:00,  1.04it/s]\n"
     ]
    },
    {
     "name": "stdout",
     "output_type": "stream",
     "text": [
      "Epoch 98 - Validation Loss: 0.4043\n",
      "Epoch 98 - Current Learning Rate: 0.000000\n"
     ]
    },
    {
     "name": "stderr",
     "output_type": "stream",
     "text": [
      "Epoch 99/300 - Training: 100%|██████████| 217/217 [01:08<00:00,  3.17it/s]\n"
     ]
    },
    {
     "name": "stdout",
     "output_type": "stream",
     "text": [
      "Epoch 99 - Training Loss: 0.2682\n"
     ]
    },
    {
     "name": "stderr",
     "output_type": "stream",
     "text": [
      "Epoch 99/300 - Validation: 100%|██████████| 17/17 [00:15<00:00,  1.09it/s]\n"
     ]
    },
    {
     "name": "stdout",
     "output_type": "stream",
     "text": [
      "Epoch 99 - Validation Loss: 0.4043\n",
      "Epoch 99 - Current Learning Rate: 0.000000\n"
     ]
    },
    {
     "name": "stderr",
     "output_type": "stream",
     "text": [
      "Epoch 100/300 - Training: 100%|██████████| 217/217 [01:07<00:00,  3.20it/s]\n"
     ]
    },
    {
     "name": "stdout",
     "output_type": "stream",
     "text": [
      "Epoch 100 - Training Loss: 0.2682\n"
     ]
    },
    {
     "name": "stderr",
     "output_type": "stream",
     "text": [
      "Epoch 100/300 - Validation: 100%|██████████| 17/17 [00:16<00:00,  1.05it/s]\n"
     ]
    },
    {
     "name": "stdout",
     "output_type": "stream",
     "text": [
      "Epoch 100 - Validation Loss: 0.4044\n",
      "Epoch 100 - Current Learning Rate: 0.000000\n"
     ]
    },
    {
     "name": "stderr",
     "output_type": "stream",
     "text": [
      "Epoch 101/300 - Training: 100%|██████████| 217/217 [01:10<00:00,  3.10it/s]\n"
     ]
    },
    {
     "name": "stdout",
     "output_type": "stream",
     "text": [
      "Epoch 101 - Training Loss: 0.2682\n"
     ]
    },
    {
     "name": "stderr",
     "output_type": "stream",
     "text": [
      "Epoch 101/300 - Validation: 100%|██████████| 17/17 [00:16<00:00,  1.01it/s]\n"
     ]
    },
    {
     "name": "stdout",
     "output_type": "stream",
     "text": [
      "Epoch 101 - Validation Loss: 0.4041\n",
      "Epoch 101 - Current Learning Rate: 0.000000\n"
     ]
    },
    {
     "name": "stderr",
     "output_type": "stream",
     "text": [
      "Epoch 102/300 - Training: 100%|██████████| 217/217 [01:10<00:00,  3.06it/s]\n"
     ]
    },
    {
     "name": "stdout",
     "output_type": "stream",
     "text": [
      "Epoch 102 - Training Loss: 0.2682\n"
     ]
    },
    {
     "name": "stderr",
     "output_type": "stream",
     "text": [
      "Epoch 102/300 - Validation: 100%|██████████| 17/17 [00:14<00:00,  1.16it/s]\n"
     ]
    },
    {
     "name": "stdout",
     "output_type": "stream",
     "text": [
      "Epoch 102 - Validation Loss: 0.4043\n",
      "Epoch 102 - Current Learning Rate: 0.000000\n"
     ]
    },
    {
     "name": "stderr",
     "output_type": "stream",
     "text": [
      "Epoch 103/300 - Training: 100%|██████████| 217/217 [01:11<00:00,  3.04it/s]\n"
     ]
    },
    {
     "name": "stdout",
     "output_type": "stream",
     "text": [
      "Epoch 103 - Training Loss: 0.2682\n"
     ]
    },
    {
     "name": "stderr",
     "output_type": "stream",
     "text": [
      "Epoch 103/300 - Validation: 100%|██████████| 17/17 [00:14<00:00,  1.18it/s]\n"
     ]
    },
    {
     "name": "stdout",
     "output_type": "stream",
     "text": [
      "Epoch 103 - Validation Loss: 0.4041\n",
      "Epoch 103 - Current Learning Rate: 0.000000\n"
     ]
    },
    {
     "name": "stderr",
     "output_type": "stream",
     "text": [
      "Epoch 104/300 - Training: 100%|██████████| 217/217 [01:09<00:00,  3.11it/s]\n"
     ]
    },
    {
     "name": "stdout",
     "output_type": "stream",
     "text": [
      "Epoch 104 - Training Loss: 0.2682\n"
     ]
    },
    {
     "name": "stderr",
     "output_type": "stream",
     "text": [
      "Epoch 104/300 - Validation: 100%|██████████| 17/17 [00:14<00:00,  1.18it/s]\n"
     ]
    },
    {
     "name": "stdout",
     "output_type": "stream",
     "text": [
      "Epoch 104 - Validation Loss: 0.4042\n",
      "Epoch 104 - Current Learning Rate: 0.000000\n"
     ]
    },
    {
     "name": "stderr",
     "output_type": "stream",
     "text": [
      "Epoch 105/300 - Training: 100%|██████████| 217/217 [01:06<00:00,  3.24it/s]\n"
     ]
    },
    {
     "name": "stdout",
     "output_type": "stream",
     "text": [
      "Epoch 105 - Training Loss: 0.2681\n"
     ]
    },
    {
     "name": "stderr",
     "output_type": "stream",
     "text": [
      "Epoch 105/300 - Validation: 100%|██████████| 17/17 [00:14<00:00,  1.14it/s]\n"
     ]
    },
    {
     "name": "stdout",
     "output_type": "stream",
     "text": [
      "Epoch 105 - Validation Loss: 0.4041\n",
      "Epoch 105 - Current Learning Rate: 0.000000\n"
     ]
    },
    {
     "name": "stderr",
     "output_type": "stream",
     "text": [
      "Epoch 106/300 - Training: 100%|██████████| 217/217 [01:06<00:00,  3.26it/s]\n"
     ]
    },
    {
     "name": "stdout",
     "output_type": "stream",
     "text": [
      "Epoch 106 - Training Loss: 0.2681\n"
     ]
    },
    {
     "name": "stderr",
     "output_type": "stream",
     "text": [
      "Epoch 106/300 - Validation: 100%|██████████| 17/17 [00:15<00:00,  1.13it/s]\n"
     ]
    },
    {
     "name": "stdout",
     "output_type": "stream",
     "text": [
      "Epoch 106 - Validation Loss: 0.4041\n",
      "Epoch 106 - Current Learning Rate: 0.000000\n"
     ]
    },
    {
     "name": "stderr",
     "output_type": "stream",
     "text": [
      "Epoch 107/300 - Training: 100%|██████████| 217/217 [01:11<00:00,  3.03it/s]\n"
     ]
    },
    {
     "name": "stdout",
     "output_type": "stream",
     "text": [
      "Epoch 107 - Training Loss: 0.2682\n"
     ]
    },
    {
     "name": "stderr",
     "output_type": "stream",
     "text": [
      "Epoch 107/300 - Validation: 100%|██████████| 17/17 [00:17<00:00,  1.02s/it]\n"
     ]
    },
    {
     "name": "stdout",
     "output_type": "stream",
     "text": [
      "Epoch 107 - Validation Loss: 0.4041\n",
      "Epoch 107 - Current Learning Rate: 0.000000\n"
     ]
    },
    {
     "name": "stderr",
     "output_type": "stream",
     "text": [
      "Epoch 108/300 - Training: 100%|██████████| 217/217 [01:10<00:00,  3.10it/s]\n"
     ]
    },
    {
     "name": "stdout",
     "output_type": "stream",
     "text": [
      "Epoch 108 - Training Loss: 0.2681\n"
     ]
    },
    {
     "name": "stderr",
     "output_type": "stream",
     "text": [
      "Epoch 108/300 - Validation: 100%|██████████| 17/17 [00:16<00:00,  1.02it/s]\n"
     ]
    },
    {
     "name": "stdout",
     "output_type": "stream",
     "text": [
      "Epoch 108 - Validation Loss: 0.4043\n",
      "Epoch 108 - Current Learning Rate: 0.000000\n"
     ]
    },
    {
     "name": "stderr",
     "output_type": "stream",
     "text": [
      "Epoch 109/300 - Training: 100%|██████████| 217/217 [01:12<00:00,  2.99it/s]\n"
     ]
    },
    {
     "name": "stdout",
     "output_type": "stream",
     "text": [
      "Epoch 109 - Training Loss: 0.2681\n"
     ]
    },
    {
     "name": "stderr",
     "output_type": "stream",
     "text": [
      "Epoch 109/300 - Validation: 100%|██████████| 17/17 [00:17<00:00,  1.00s/it]\n"
     ]
    },
    {
     "name": "stdout",
     "output_type": "stream",
     "text": [
      "Epoch 109 - Validation Loss: 0.4041\n",
      "Epoch 109 - Current Learning Rate: 0.000000\n"
     ]
    },
    {
     "name": "stderr",
     "output_type": "stream",
     "text": [
      "Epoch 110/300 - Training: 100%|██████████| 217/217 [01:06<00:00,  3.24it/s]\n"
     ]
    },
    {
     "name": "stdout",
     "output_type": "stream",
     "text": [
      "Epoch 110 - Training Loss: 0.2681\n"
     ]
    },
    {
     "name": "stderr",
     "output_type": "stream",
     "text": [
      "Epoch 110/300 - Validation: 100%|██████████| 17/17 [00:16<00:00,  1.05it/s]\n"
     ]
    },
    {
     "name": "stdout",
     "output_type": "stream",
     "text": [
      "Epoch 110 - Validation Loss: 0.4043\n",
      "Epoch 110 - Current Learning Rate: 0.000000\n"
     ]
    },
    {
     "name": "stderr",
     "output_type": "stream",
     "text": [
      "Epoch 111/300 - Training: 100%|██████████| 217/217 [01:11<00:00,  3.03it/s]\n"
     ]
    },
    {
     "name": "stdout",
     "output_type": "stream",
     "text": [
      "Epoch 111 - Training Loss: 0.2681\n"
     ]
    },
    {
     "name": "stderr",
     "output_type": "stream",
     "text": [
      "Epoch 111/300 - Validation: 100%|██████████| 17/17 [00:14<00:00,  1.15it/s]\n"
     ]
    },
    {
     "name": "stdout",
     "output_type": "stream",
     "text": [
      "Epoch 111 - Validation Loss: 0.4043\n",
      "Epoch 111 - Current Learning Rate: 0.000000\n"
     ]
    },
    {
     "name": "stderr",
     "output_type": "stream",
     "text": [
      "Epoch 112/300 - Training: 100%|██████████| 217/217 [01:10<00:00,  3.07it/s]\n"
     ]
    },
    {
     "name": "stdout",
     "output_type": "stream",
     "text": [
      "Epoch 112 - Training Loss: 0.2681\n"
     ]
    },
    {
     "name": "stderr",
     "output_type": "stream",
     "text": [
      "Epoch 112/300 - Validation: 100%|██████████| 17/17 [00:14<00:00,  1.16it/s]\n"
     ]
    },
    {
     "name": "stdout",
     "output_type": "stream",
     "text": [
      "Epoch 112 - Validation Loss: 0.4043\n",
      "Epoch 112 - Current Learning Rate: 0.000000\n"
     ]
    },
    {
     "name": "stderr",
     "output_type": "stream",
     "text": [
      "Epoch 113/300 - Training: 100%|██████████| 217/217 [01:08<00:00,  3.17it/s]\n"
     ]
    },
    {
     "name": "stdout",
     "output_type": "stream",
     "text": [
      "Epoch 113 - Training Loss: 0.2681\n"
     ]
    },
    {
     "name": "stderr",
     "output_type": "stream",
     "text": [
      "Epoch 113/300 - Validation: 100%|██████████| 17/17 [00:14<00:00,  1.20it/s]\n"
     ]
    },
    {
     "name": "stdout",
     "output_type": "stream",
     "text": [
      "Epoch 113 - Validation Loss: 0.4042\n",
      "Epoch 113 - Current Learning Rate: 0.000000\n"
     ]
    },
    {
     "name": "stderr",
     "output_type": "stream",
     "text": [
      "Epoch 114/300 - Training: 100%|██████████| 217/217 [01:09<00:00,  3.12it/s]\n"
     ]
    },
    {
     "name": "stdout",
     "output_type": "stream",
     "text": [
      "Epoch 114 - Training Loss: 0.2681\n"
     ]
    },
    {
     "name": "stderr",
     "output_type": "stream",
     "text": [
      "Epoch 114/300 - Validation: 100%|██████████| 17/17 [00:17<00:00,  1.01s/it]\n"
     ]
    },
    {
     "name": "stdout",
     "output_type": "stream",
     "text": [
      "Epoch 114 - Validation Loss: 0.4043\n",
      "Epoch 114 - Current Learning Rate: 0.000000\n"
     ]
    },
    {
     "name": "stderr",
     "output_type": "stream",
     "text": [
      "Epoch 115/300 - Training: 100%|██████████| 217/217 [01:07<00:00,  3.23it/s]\n"
     ]
    },
    {
     "name": "stdout",
     "output_type": "stream",
     "text": [
      "Epoch 115 - Training Loss: 0.2682\n"
     ]
    },
    {
     "name": "stderr",
     "output_type": "stream",
     "text": [
      "Epoch 115/300 - Validation: 100%|██████████| 17/17 [00:15<00:00,  1.08it/s]\n"
     ]
    },
    {
     "name": "stdout",
     "output_type": "stream",
     "text": [
      "Epoch 115 - Validation Loss: 0.4043\n",
      "Epoch 115 - Current Learning Rate: 0.000000\n"
     ]
    },
    {
     "name": "stderr",
     "output_type": "stream",
     "text": [
      "Epoch 116/300 - Training: 100%|██████████| 217/217 [01:09<00:00,  3.13it/s]\n"
     ]
    },
    {
     "name": "stdout",
     "output_type": "stream",
     "text": [
      "Epoch 116 - Training Loss: 0.2681\n"
     ]
    },
    {
     "name": "stderr",
     "output_type": "stream",
     "text": [
      "Epoch 116/300 - Validation: 100%|██████████| 17/17 [00:16<00:00,  1.05it/s]\n"
     ]
    },
    {
     "name": "stdout",
     "output_type": "stream",
     "text": [
      "Epoch 116 - Validation Loss: 0.4043\n",
      "Epoch 116 - Current Learning Rate: 0.000000\n"
     ]
    },
    {
     "name": "stderr",
     "output_type": "stream",
     "text": [
      "Epoch 117/300 - Training: 100%|██████████| 217/217 [01:11<00:00,  3.06it/s]\n"
     ]
    },
    {
     "name": "stdout",
     "output_type": "stream",
     "text": [
      "Epoch 117 - Training Loss: 0.2681\n"
     ]
    },
    {
     "name": "stderr",
     "output_type": "stream",
     "text": [
      "Epoch 117/300 - Validation: 100%|██████████| 17/17 [00:16<00:00,  1.02it/s]\n"
     ]
    },
    {
     "name": "stdout",
     "output_type": "stream",
     "text": [
      "Epoch 117 - Validation Loss: 0.4043\n",
      "Epoch 117 - Current Learning Rate: 0.000000\n"
     ]
    },
    {
     "name": "stderr",
     "output_type": "stream",
     "text": [
      "Epoch 118/300 - Training: 100%|██████████| 217/217 [01:09<00:00,  3.12it/s]\n"
     ]
    },
    {
     "name": "stdout",
     "output_type": "stream",
     "text": [
      "Epoch 118 - Training Loss: 0.2681\n"
     ]
    },
    {
     "name": "stderr",
     "output_type": "stream",
     "text": [
      "Epoch 118/300 - Validation: 100%|██████████| 17/17 [00:14<00:00,  1.15it/s]\n"
     ]
    },
    {
     "name": "stdout",
     "output_type": "stream",
     "text": [
      "Epoch 118 - Validation Loss: 0.4042\n",
      "Epoch 118 - Current Learning Rate: 0.000000\n"
     ]
    },
    {
     "name": "stderr",
     "output_type": "stream",
     "text": [
      "Epoch 119/300 - Training: 100%|██████████| 217/217 [01:10<00:00,  3.09it/s]\n"
     ]
    },
    {
     "name": "stdout",
     "output_type": "stream",
     "text": [
      "Epoch 119 - Training Loss: 0.2681\n"
     ]
    },
    {
     "name": "stderr",
     "output_type": "stream",
     "text": [
      "Epoch 119/300 - Validation: 100%|██████████| 17/17 [00:14<00:00,  1.21it/s]\n"
     ]
    },
    {
     "name": "stdout",
     "output_type": "stream",
     "text": [
      "Epoch 119 - Validation Loss: 0.4042\n",
      "Epoch 119 - Current Learning Rate: 0.000000\n"
     ]
    },
    {
     "name": "stderr",
     "output_type": "stream",
     "text": [
      "Epoch 120/300 - Training: 100%|██████████| 217/217 [01:06<00:00,  3.27it/s]\n"
     ]
    },
    {
     "name": "stdout",
     "output_type": "stream",
     "text": [
      "Epoch 120 - Training Loss: 0.2681\n"
     ]
    },
    {
     "name": "stderr",
     "output_type": "stream",
     "text": [
      "Epoch 120/300 - Validation: 100%|██████████| 17/17 [00:17<00:00,  1.00s/it]\n"
     ]
    },
    {
     "name": "stdout",
     "output_type": "stream",
     "text": [
      "Epoch 120 - Validation Loss: 0.4042\n",
      "Epoch 120 - Current Learning Rate: 0.000000\n"
     ]
    },
    {
     "name": "stderr",
     "output_type": "stream",
     "text": [
      "Epoch 121/300 - Training: 100%|██████████| 217/217 [01:09<00:00,  3.13it/s]\n"
     ]
    },
    {
     "name": "stdout",
     "output_type": "stream",
     "text": [
      "Epoch 121 - Training Loss: 0.2681\n"
     ]
    },
    {
     "name": "stderr",
     "output_type": "stream",
     "text": [
      "Epoch 121/300 - Validation: 100%|██████████| 17/17 [00:16<00:00,  1.03it/s]\n"
     ]
    },
    {
     "name": "stdout",
     "output_type": "stream",
     "text": [
      "Epoch 121 - Validation Loss: 0.4042\n",
      "Epoch 121 - Current Learning Rate: 0.000000\n"
     ]
    },
    {
     "name": "stderr",
     "output_type": "stream",
     "text": [
      "Epoch 122/300 - Training: 100%|██████████| 217/217 [01:08<00:00,  3.15it/s]\n"
     ]
    },
    {
     "name": "stdout",
     "output_type": "stream",
     "text": [
      "Epoch 122 - Training Loss: 0.2681\n"
     ]
    },
    {
     "name": "stderr",
     "output_type": "stream",
     "text": [
      "Epoch 122/300 - Validation: 100%|██████████| 17/17 [00:14<00:00,  1.15it/s]\n"
     ]
    },
    {
     "name": "stdout",
     "output_type": "stream",
     "text": [
      "Epoch 122 - Validation Loss: 0.4042\n",
      "Epoch 122 - Current Learning Rate: 0.000000\n"
     ]
    },
    {
     "name": "stderr",
     "output_type": "stream",
     "text": [
      "Epoch 123/300 - Training: 100%|██████████| 217/217 [01:09<00:00,  3.12it/s]\n"
     ]
    },
    {
     "name": "stdout",
     "output_type": "stream",
     "text": [
      "Epoch 123 - Training Loss: 0.2682\n"
     ]
    },
    {
     "name": "stderr",
     "output_type": "stream",
     "text": [
      "Epoch 123/300 - Validation: 100%|██████████| 17/17 [00:14<00:00,  1.19it/s]\n"
     ]
    },
    {
     "name": "stdout",
     "output_type": "stream",
     "text": [
      "Epoch 123 - Validation Loss: 0.4042\n",
      "Epoch 123 - Current Learning Rate: 0.000000\n"
     ]
    },
    {
     "name": "stderr",
     "output_type": "stream",
     "text": [
      "Epoch 124/300 - Training: 100%|██████████| 217/217 [01:09<00:00,  3.11it/s]\n"
     ]
    },
    {
     "name": "stdout",
     "output_type": "stream",
     "text": [
      "Epoch 124 - Training Loss: 0.2681\n"
     ]
    },
    {
     "name": "stderr",
     "output_type": "stream",
     "text": [
      "Epoch 124/300 - Validation: 100%|██████████| 17/17 [00:17<00:00,  1.01s/it]\n"
     ]
    },
    {
     "name": "stdout",
     "output_type": "stream",
     "text": [
      "Epoch 124 - Validation Loss: 0.4042\n",
      "Epoch 124 - Current Learning Rate: 0.000000\n"
     ]
    },
    {
     "name": "stderr",
     "output_type": "stream",
     "text": [
      "Epoch 125/300 - Training: 100%|██████████| 217/217 [01:10<00:00,  3.08it/s]\n"
     ]
    },
    {
     "name": "stdout",
     "output_type": "stream",
     "text": [
      "Epoch 125 - Training Loss: 0.2681\n"
     ]
    },
    {
     "name": "stderr",
     "output_type": "stream",
     "text": [
      "Epoch 125/300 - Validation: 100%|██████████| 17/17 [00:16<00:00,  1.03it/s]\n"
     ]
    },
    {
     "name": "stdout",
     "output_type": "stream",
     "text": [
      "Epoch 125 - Validation Loss: 0.4042\n",
      "Epoch 125 - Current Learning Rate: 0.000000\n"
     ]
    },
    {
     "name": "stderr",
     "output_type": "stream",
     "text": [
      "Epoch 126/300 - Training: 100%|██████████| 217/217 [01:12<00:00,  2.99it/s]\n"
     ]
    },
    {
     "name": "stdout",
     "output_type": "stream",
     "text": [
      "Epoch 126 - Training Loss: 0.2681\n"
     ]
    },
    {
     "name": "stderr",
     "output_type": "stream",
     "text": [
      "Epoch 126/300 - Validation: 100%|██████████| 17/17 [00:14<00:00,  1.16it/s]\n"
     ]
    },
    {
     "name": "stdout",
     "output_type": "stream",
     "text": [
      "Epoch 126 - Validation Loss: 0.4042\n",
      "Epoch 126 - Current Learning Rate: 0.000000\n"
     ]
    },
    {
     "name": "stderr",
     "output_type": "stream",
     "text": [
      "Epoch 127/300 - Training: 100%|██████████| 217/217 [01:09<00:00,  3.12it/s]\n"
     ]
    },
    {
     "name": "stdout",
     "output_type": "stream",
     "text": [
      "Epoch 127 - Training Loss: 0.2681\n"
     ]
    },
    {
     "name": "stderr",
     "output_type": "stream",
     "text": [
      "Epoch 127/300 - Validation: 100%|██████████| 17/17 [00:16<00:00,  1.01it/s]\n"
     ]
    },
    {
     "name": "stdout",
     "output_type": "stream",
     "text": [
      "Epoch 127 - Validation Loss: 0.4042\n",
      "Epoch 127 - Current Learning Rate: 0.000000\n"
     ]
    },
    {
     "name": "stderr",
     "output_type": "stream",
     "text": [
      "Epoch 128/300 - Training: 100%|██████████| 217/217 [01:12<00:00,  3.00it/s]\n"
     ]
    },
    {
     "name": "stdout",
     "output_type": "stream",
     "text": [
      "Epoch 128 - Training Loss: 0.2681\n"
     ]
    },
    {
     "name": "stderr",
     "output_type": "stream",
     "text": [
      "Epoch 128/300 - Validation: 100%|██████████| 17/17 [00:16<00:00,  1.00it/s]\n"
     ]
    },
    {
     "name": "stdout",
     "output_type": "stream",
     "text": [
      "Epoch 128 - Validation Loss: 0.4042\n",
      "Epoch 128 - Current Learning Rate: 0.000000\n"
     ]
    },
    {
     "name": "stderr",
     "output_type": "stream",
     "text": [
      "Epoch 129/300 - Training: 100%|██████████| 217/217 [01:09<00:00,  3.12it/s]\n"
     ]
    },
    {
     "name": "stdout",
     "output_type": "stream",
     "text": [
      "Epoch 129 - Training Loss: 0.2681\n"
     ]
    },
    {
     "name": "stderr",
     "output_type": "stream",
     "text": [
      "Epoch 129/300 - Validation: 100%|██████████| 17/17 [00:15<00:00,  1.06it/s]\n"
     ]
    },
    {
     "name": "stdout",
     "output_type": "stream",
     "text": [
      "Epoch 129 - Validation Loss: 0.4042\n",
      "Epoch 129 - Current Learning Rate: 0.000000\n"
     ]
    },
    {
     "name": "stderr",
     "output_type": "stream",
     "text": [
      "Epoch 130/300 - Training: 100%|██████████| 217/217 [01:09<00:00,  3.12it/s]\n"
     ]
    },
    {
     "name": "stdout",
     "output_type": "stream",
     "text": [
      "Epoch 130 - Training Loss: 0.2681\n"
     ]
    },
    {
     "name": "stderr",
     "output_type": "stream",
     "text": [
      "Epoch 130/300 - Validation: 100%|██████████| 17/17 [00:16<00:00,  1.05it/s]\n"
     ]
    },
    {
     "name": "stdout",
     "output_type": "stream",
     "text": [
      "Epoch 130 - Validation Loss: 0.4042\n",
      "Epoch 130 - Current Learning Rate: 0.000000\n"
     ]
    },
    {
     "name": "stderr",
     "output_type": "stream",
     "text": [
      "Epoch 131/300 - Training: 100%|██████████| 217/217 [01:09<00:00,  3.14it/s]\n"
     ]
    },
    {
     "name": "stdout",
     "output_type": "stream",
     "text": [
      "Epoch 131 - Training Loss: 0.2681\n"
     ]
    },
    {
     "name": "stderr",
     "output_type": "stream",
     "text": [
      "Epoch 131/300 - Validation: 100%|██████████| 17/17 [00:16<00:00,  1.02it/s]\n"
     ]
    },
    {
     "name": "stdout",
     "output_type": "stream",
     "text": [
      "Epoch 131 - Validation Loss: 0.4042\n",
      "Epoch 131 - Current Learning Rate: 0.000000\n"
     ]
    },
    {
     "name": "stderr",
     "output_type": "stream",
     "text": [
      "Epoch 132/300 - Training: 100%|██████████| 217/217 [01:10<00:00,  3.06it/s]\n"
     ]
    },
    {
     "name": "stdout",
     "output_type": "stream",
     "text": [
      "Epoch 132 - Training Loss: 0.2681\n"
     ]
    },
    {
     "name": "stderr",
     "output_type": "stream",
     "text": [
      "Epoch 132/300 - Validation: 100%|██████████| 17/17 [00:17<00:00,  1.01s/it]\n"
     ]
    },
    {
     "name": "stdout",
     "output_type": "stream",
     "text": [
      "Epoch 132 - Validation Loss: 0.4042\n",
      "Epoch 132 - Current Learning Rate: 0.000000\n"
     ]
    },
    {
     "name": "stderr",
     "output_type": "stream",
     "text": [
      "Epoch 133/300 - Training: 100%|██████████| 217/217 [01:08<00:00,  3.15it/s]\n"
     ]
    },
    {
     "name": "stdout",
     "output_type": "stream",
     "text": [
      "Epoch 133 - Training Loss: 0.2681\n"
     ]
    },
    {
     "name": "stderr",
     "output_type": "stream",
     "text": [
      "Epoch 133/300 - Validation: 100%|██████████| 17/17 [00:14<00:00,  1.18it/s]\n"
     ]
    },
    {
     "name": "stdout",
     "output_type": "stream",
     "text": [
      "Epoch 133 - Validation Loss: 0.4042\n",
      "Epoch 133 - Current Learning Rate: 0.000000\n"
     ]
    },
    {
     "name": "stderr",
     "output_type": "stream",
     "text": [
      "Epoch 134/300 - Training: 100%|██████████| 217/217 [01:06<00:00,  3.28it/s]\n"
     ]
    },
    {
     "name": "stdout",
     "output_type": "stream",
     "text": [
      "Epoch 134 - Training Loss: 0.2681\n"
     ]
    },
    {
     "name": "stderr",
     "output_type": "stream",
     "text": [
      "Epoch 134/300 - Validation: 100%|██████████| 17/17 [00:16<00:00,  1.02it/s]\n"
     ]
    },
    {
     "name": "stdout",
     "output_type": "stream",
     "text": [
      "Epoch 134 - Validation Loss: 0.4042\n",
      "Epoch 134 - Current Learning Rate: 0.000000\n"
     ]
    },
    {
     "name": "stderr",
     "output_type": "stream",
     "text": [
      "Epoch 135/300 - Training: 100%|██████████| 217/217 [01:09<00:00,  3.13it/s]\n"
     ]
    },
    {
     "name": "stdout",
     "output_type": "stream",
     "text": [
      "Epoch 135 - Training Loss: 0.2681\n"
     ]
    },
    {
     "name": "stderr",
     "output_type": "stream",
     "text": [
      "Epoch 135/300 - Validation: 100%|██████████| 17/17 [00:16<00:00,  1.06it/s]\n"
     ]
    },
    {
     "name": "stdout",
     "output_type": "stream",
     "text": [
      "Epoch 135 - Validation Loss: 0.4042\n",
      "Epoch 135 - Current Learning Rate: 0.000000\n"
     ]
    },
    {
     "name": "stderr",
     "output_type": "stream",
     "text": [
      "Epoch 136/300 - Training: 100%|██████████| 217/217 [01:09<00:00,  3.12it/s]\n"
     ]
    },
    {
     "name": "stdout",
     "output_type": "stream",
     "text": [
      "Epoch 136 - Training Loss: 0.2682\n"
     ]
    },
    {
     "name": "stderr",
     "output_type": "stream",
     "text": [
      "Epoch 136/300 - Validation: 100%|██████████| 17/17 [00:15<00:00,  1.11it/s]\n"
     ]
    },
    {
     "name": "stdout",
     "output_type": "stream",
     "text": [
      "Epoch 136 - Validation Loss: 0.4042\n",
      "Epoch 136 - Current Learning Rate: 0.000000\n"
     ]
    },
    {
     "name": "stderr",
     "output_type": "stream",
     "text": [
      "Epoch 137/300 - Training: 100%|██████████| 217/217 [01:08<00:00,  3.18it/s]\n"
     ]
    },
    {
     "name": "stdout",
     "output_type": "stream",
     "text": [
      "Epoch 137 - Training Loss: 0.2682\n"
     ]
    },
    {
     "name": "stderr",
     "output_type": "stream",
     "text": [
      "Epoch 137/300 - Validation: 100%|██████████| 17/17 [00:15<00:00,  1.07it/s]\n"
     ]
    },
    {
     "name": "stdout",
     "output_type": "stream",
     "text": [
      "Epoch 137 - Validation Loss: 0.4042\n",
      "Epoch 137 - Current Learning Rate: 0.000000\n"
     ]
    },
    {
     "name": "stderr",
     "output_type": "stream",
     "text": [
      "Epoch 138/300 - Training: 100%|██████████| 217/217 [01:08<00:00,  3.18it/s]\n"
     ]
    },
    {
     "name": "stdout",
     "output_type": "stream",
     "text": [
      "Epoch 138 - Training Loss: 0.2681\n"
     ]
    },
    {
     "name": "stderr",
     "output_type": "stream",
     "text": [
      "Epoch 138/300 - Validation: 100%|██████████| 17/17 [00:15<00:00,  1.07it/s]\n"
     ]
    },
    {
     "name": "stdout",
     "output_type": "stream",
     "text": [
      "Epoch 138 - Validation Loss: 0.4042\n",
      "Epoch 138 - Current Learning Rate: 0.000000\n"
     ]
    },
    {
     "name": "stderr",
     "output_type": "stream",
     "text": [
      "Epoch 139/300 - Training: 100%|██████████| 217/217 [01:09<00:00,  3.10it/s]\n"
     ]
    },
    {
     "name": "stdout",
     "output_type": "stream",
     "text": [
      "Epoch 139 - Training Loss: 0.2682\n"
     ]
    },
    {
     "name": "stderr",
     "output_type": "stream",
     "text": [
      "Epoch 139/300 - Validation: 100%|██████████| 17/17 [00:14<00:00,  1.21it/s]\n"
     ]
    },
    {
     "name": "stdout",
     "output_type": "stream",
     "text": [
      "Epoch 139 - Validation Loss: 0.4042\n",
      "Epoch 139 - Current Learning Rate: 0.000000\n"
     ]
    },
    {
     "name": "stderr",
     "output_type": "stream",
     "text": [
      "Epoch 140/300 - Training: 100%|██████████| 217/217 [01:10<00:00,  3.09it/s]\n"
     ]
    },
    {
     "name": "stdout",
     "output_type": "stream",
     "text": [
      "Epoch 140 - Training Loss: 0.2681\n"
     ]
    },
    {
     "name": "stderr",
     "output_type": "stream",
     "text": [
      "Epoch 140/300 - Validation: 100%|██████████| 17/17 [00:16<00:00,  1.04it/s]\n"
     ]
    },
    {
     "name": "stdout",
     "output_type": "stream",
     "text": [
      "Epoch 140 - Validation Loss: 0.4042\n",
      "Epoch 140 - Current Learning Rate: 0.000000\n"
     ]
    },
    {
     "name": "stderr",
     "output_type": "stream",
     "text": [
      "Epoch 141/300 - Training: 100%|██████████| 217/217 [01:07<00:00,  3.23it/s]\n"
     ]
    },
    {
     "name": "stdout",
     "output_type": "stream",
     "text": [
      "Epoch 141 - Training Loss: 0.2681\n"
     ]
    },
    {
     "name": "stderr",
     "output_type": "stream",
     "text": [
      "Epoch 141/300 - Validation: 100%|██████████| 17/17 [00:14<00:00,  1.15it/s]\n"
     ]
    },
    {
     "name": "stdout",
     "output_type": "stream",
     "text": [
      "Epoch 141 - Validation Loss: 0.4042\n",
      "Epoch 141 - Current Learning Rate: 0.000000\n"
     ]
    },
    {
     "name": "stderr",
     "output_type": "stream",
     "text": [
      "Epoch 142/300 - Training: 100%|██████████| 217/217 [01:07<00:00,  3.23it/s]\n"
     ]
    },
    {
     "name": "stdout",
     "output_type": "stream",
     "text": [
      "Epoch 142 - Training Loss: 0.2681\n"
     ]
    },
    {
     "name": "stderr",
     "output_type": "stream",
     "text": [
      "Epoch 142/300 - Validation: 100%|██████████| 17/17 [00:16<00:00,  1.02it/s]\n"
     ]
    },
    {
     "name": "stdout",
     "output_type": "stream",
     "text": [
      "Epoch 142 - Validation Loss: 0.4042\n",
      "Epoch 142 - Current Learning Rate: 0.000000\n"
     ]
    },
    {
     "name": "stderr",
     "output_type": "stream",
     "text": [
      "Epoch 143/300 - Training: 100%|██████████| 217/217 [01:13<00:00,  2.97it/s]\n"
     ]
    },
    {
     "name": "stdout",
     "output_type": "stream",
     "text": [
      "Epoch 143 - Training Loss: 0.2681\n"
     ]
    },
    {
     "name": "stderr",
     "output_type": "stream",
     "text": [
      "Epoch 143/300 - Validation: 100%|██████████| 17/17 [00:14<00:00,  1.20it/s]\n"
     ]
    },
    {
     "name": "stdout",
     "output_type": "stream",
     "text": [
      "Epoch 143 - Validation Loss: 0.4042\n",
      "Epoch 143 - Current Learning Rate: 0.000000\n"
     ]
    },
    {
     "name": "stderr",
     "output_type": "stream",
     "text": [
      "Epoch 144/300 - Training: 100%|██████████| 217/217 [01:09<00:00,  3.12it/s]\n"
     ]
    },
    {
     "name": "stdout",
     "output_type": "stream",
     "text": [
      "Epoch 144 - Training Loss: 0.2682\n"
     ]
    },
    {
     "name": "stderr",
     "output_type": "stream",
     "text": [
      "Epoch 144/300 - Validation: 100%|██████████| 17/17 [00:17<00:00,  1.04s/it]\n"
     ]
    },
    {
     "name": "stdout",
     "output_type": "stream",
     "text": [
      "Epoch 144 - Validation Loss: 0.4042\n",
      "Epoch 144 - Current Learning Rate: 0.000000\n"
     ]
    },
    {
     "name": "stderr",
     "output_type": "stream",
     "text": [
      "Epoch 145/300 - Training: 100%|██████████| 217/217 [01:12<00:00,  2.98it/s]\n"
     ]
    },
    {
     "name": "stdout",
     "output_type": "stream",
     "text": [
      "Epoch 145 - Training Loss: 0.2681\n"
     ]
    },
    {
     "name": "stderr",
     "output_type": "stream",
     "text": [
      "Epoch 145/300 - Validation: 100%|██████████| 17/17 [00:16<00:00,  1.02it/s]\n"
     ]
    },
    {
     "name": "stdout",
     "output_type": "stream",
     "text": [
      "Epoch 145 - Validation Loss: 0.4042\n",
      "Epoch 145 - Current Learning Rate: 0.000000\n"
     ]
    },
    {
     "name": "stderr",
     "output_type": "stream",
     "text": [
      "Epoch 146/300 - Training: 100%|██████████| 217/217 [01:08<00:00,  3.17it/s]\n"
     ]
    },
    {
     "name": "stdout",
     "output_type": "stream",
     "text": [
      "Epoch 146 - Training Loss: 0.2682\n"
     ]
    },
    {
     "name": "stderr",
     "output_type": "stream",
     "text": [
      "Epoch 146/300 - Validation: 100%|██████████| 17/17 [00:16<00:00,  1.00it/s]\n"
     ]
    },
    {
     "name": "stdout",
     "output_type": "stream",
     "text": [
      "Epoch 146 - Validation Loss: 0.4042\n",
      "Epoch 146 - Current Learning Rate: 0.000000\n"
     ]
    },
    {
     "name": "stderr",
     "output_type": "stream",
     "text": [
      "Epoch 147/300 - Training: 100%|██████████| 217/217 [01:08<00:00,  3.16it/s]\n"
     ]
    },
    {
     "name": "stdout",
     "output_type": "stream",
     "text": [
      "Epoch 147 - Training Loss: 0.2682\n"
     ]
    },
    {
     "name": "stderr",
     "output_type": "stream",
     "text": [
      "Epoch 147/300 - Validation: 100%|██████████| 17/17 [00:14<00:00,  1.20it/s]\n"
     ]
    },
    {
     "name": "stdout",
     "output_type": "stream",
     "text": [
      "Epoch 147 - Validation Loss: 0.4042\n",
      "Epoch 147 - Current Learning Rate: 0.000000\n"
     ]
    },
    {
     "name": "stderr",
     "output_type": "stream",
     "text": [
      "Epoch 148/300 - Training: 100%|██████████| 217/217 [01:06<00:00,  3.24it/s]\n"
     ]
    },
    {
     "name": "stdout",
     "output_type": "stream",
     "text": [
      "Epoch 148 - Training Loss: 0.2681\n"
     ]
    },
    {
     "name": "stderr",
     "output_type": "stream",
     "text": [
      "Epoch 148/300 - Validation: 100%|██████████| 17/17 [00:16<00:00,  1.01it/s]\n"
     ]
    },
    {
     "name": "stdout",
     "output_type": "stream",
     "text": [
      "Epoch 148 - Validation Loss: 0.4042\n",
      "Epoch 148 - Current Learning Rate: 0.000000\n"
     ]
    },
    {
     "name": "stderr",
     "output_type": "stream",
     "text": [
      "Epoch 149/300 - Training: 100%|██████████| 217/217 [01:07<00:00,  3.21it/s]\n"
     ]
    },
    {
     "name": "stdout",
     "output_type": "stream",
     "text": [
      "Epoch 149 - Training Loss: 0.2681\n"
     ]
    },
    {
     "name": "stderr",
     "output_type": "stream",
     "text": [
      "Epoch 149/300 - Validation: 100%|██████████| 17/17 [00:14<00:00,  1.19it/s]\n"
     ]
    },
    {
     "name": "stdout",
     "output_type": "stream",
     "text": [
      "Epoch 149 - Validation Loss: 0.4042\n",
      "Epoch 149 - Current Learning Rate: 0.000000\n"
     ]
    },
    {
     "name": "stderr",
     "output_type": "stream",
     "text": [
      "Epoch 150/300 - Training: 100%|██████████| 217/217 [01:09<00:00,  3.12it/s]\n"
     ]
    },
    {
     "name": "stdout",
     "output_type": "stream",
     "text": [
      "Epoch 150 - Training Loss: 0.2681\n"
     ]
    },
    {
     "name": "stderr",
     "output_type": "stream",
     "text": [
      "Epoch 150/300 - Validation: 100%|██████████| 17/17 [00:16<00:00,  1.02it/s]\n"
     ]
    },
    {
     "name": "stdout",
     "output_type": "stream",
     "text": [
      "Epoch 150 - Validation Loss: 0.4042\n",
      "Epoch 150 - Current Learning Rate: 0.000000\n"
     ]
    },
    {
     "name": "stderr",
     "output_type": "stream",
     "text": [
      "Epoch 151/300 - Training: 100%|██████████| 217/217 [01:09<00:00,  3.13it/s]\n"
     ]
    },
    {
     "name": "stdout",
     "output_type": "stream",
     "text": [
      "Epoch 151 - Training Loss: 0.2681\n"
     ]
    },
    {
     "name": "stderr",
     "output_type": "stream",
     "text": [
      "Epoch 151/300 - Validation: 100%|██████████| 17/17 [00:15<00:00,  1.10it/s]\n"
     ]
    },
    {
     "name": "stdout",
     "output_type": "stream",
     "text": [
      "Epoch 151 - Validation Loss: 0.4042\n",
      "Epoch 151 - Current Learning Rate: 0.000000\n"
     ]
    },
    {
     "name": "stderr",
     "output_type": "stream",
     "text": [
      "Epoch 152/300 - Training: 100%|██████████| 217/217 [01:08<00:00,  3.16it/s]\n"
     ]
    },
    {
     "name": "stdout",
     "output_type": "stream",
     "text": [
      "Epoch 152 - Training Loss: 0.2681\n"
     ]
    },
    {
     "name": "stderr",
     "output_type": "stream",
     "text": [
      "Epoch 152/300 - Validation: 100%|██████████| 17/17 [00:15<00:00,  1.06it/s]\n"
     ]
    },
    {
     "name": "stdout",
     "output_type": "stream",
     "text": [
      "Epoch 152 - Validation Loss: 0.4042\n",
      "Epoch 152 - Current Learning Rate: 0.000000\n"
     ]
    },
    {
     "name": "stderr",
     "output_type": "stream",
     "text": [
      "Epoch 153/300 - Training: 100%|██████████| 217/217 [01:09<00:00,  3.13it/s]\n"
     ]
    },
    {
     "name": "stdout",
     "output_type": "stream",
     "text": [
      "Epoch 153 - Training Loss: 0.2681\n"
     ]
    },
    {
     "name": "stderr",
     "output_type": "stream",
     "text": [
      "Epoch 153/300 - Validation: 100%|██████████| 17/17 [00:14<00:00,  1.20it/s]\n"
     ]
    },
    {
     "name": "stdout",
     "output_type": "stream",
     "text": [
      "Epoch 153 - Validation Loss: 0.4042\n",
      "Epoch 153 - Current Learning Rate: 0.000000\n"
     ]
    },
    {
     "name": "stderr",
     "output_type": "stream",
     "text": [
      "Epoch 154/300 - Training: 100%|██████████| 217/217 [01:06<00:00,  3.25it/s]\n"
     ]
    },
    {
     "name": "stdout",
     "output_type": "stream",
     "text": [
      "Epoch 154 - Training Loss: 0.2681\n"
     ]
    },
    {
     "name": "stderr",
     "output_type": "stream",
     "text": [
      "Epoch 154/300 - Validation: 100%|██████████| 17/17 [00:16<00:00,  1.03it/s]\n"
     ]
    },
    {
     "name": "stdout",
     "output_type": "stream",
     "text": [
      "Epoch 154 - Validation Loss: 0.4042\n",
      "Epoch 154 - Current Learning Rate: 0.000000\n"
     ]
    },
    {
     "name": "stderr",
     "output_type": "stream",
     "text": [
      "Epoch 155/300 - Training: 100%|██████████| 217/217 [01:10<00:00,  3.06it/s]\n"
     ]
    },
    {
     "name": "stdout",
     "output_type": "stream",
     "text": [
      "Epoch 155 - Training Loss: 0.2681\n"
     ]
    },
    {
     "name": "stderr",
     "output_type": "stream",
     "text": [
      "Epoch 155/300 - Validation: 100%|██████████| 17/17 [00:16<00:00,  1.03it/s]\n"
     ]
    },
    {
     "name": "stdout",
     "output_type": "stream",
     "text": [
      "Epoch 155 - Validation Loss: 0.4042\n",
      "Epoch 155 - Current Learning Rate: 0.000000\n"
     ]
    },
    {
     "name": "stderr",
     "output_type": "stream",
     "text": [
      "Epoch 156/300 - Training: 100%|██████████| 217/217 [01:09<00:00,  3.13it/s]\n"
     ]
    },
    {
     "name": "stdout",
     "output_type": "stream",
     "text": [
      "Epoch 156 - Training Loss: 0.2681\n"
     ]
    },
    {
     "name": "stderr",
     "output_type": "stream",
     "text": [
      "Epoch 156/300 - Validation: 100%|██████████| 17/17 [00:15<00:00,  1.11it/s]\n"
     ]
    },
    {
     "name": "stdout",
     "output_type": "stream",
     "text": [
      "Epoch 156 - Validation Loss: 0.4042\n",
      "Epoch 156 - Current Learning Rate: 0.000000\n"
     ]
    },
    {
     "name": "stderr",
     "output_type": "stream",
     "text": [
      "Epoch 157/300 - Training: 100%|██████████| 217/217 [01:05<00:00,  3.29it/s]\n"
     ]
    },
    {
     "name": "stdout",
     "output_type": "stream",
     "text": [
      "Epoch 157 - Training Loss: 0.2681\n"
     ]
    },
    {
     "name": "stderr",
     "output_type": "stream",
     "text": [
      "Epoch 157/300 - Validation: 100%|██████████| 17/17 [00:15<00:00,  1.13it/s]\n"
     ]
    },
    {
     "name": "stdout",
     "output_type": "stream",
     "text": [
      "Epoch 157 - Validation Loss: 0.4042\n",
      "Epoch 157 - Current Learning Rate: 0.000000\n"
     ]
    },
    {
     "name": "stderr",
     "output_type": "stream",
     "text": [
      "Epoch 158/300 - Training: 100%|██████████| 217/217 [01:08<00:00,  3.16it/s]\n"
     ]
    },
    {
     "name": "stdout",
     "output_type": "stream",
     "text": [
      "Epoch 158 - Training Loss: 0.2681\n"
     ]
    },
    {
     "name": "stderr",
     "output_type": "stream",
     "text": [
      "Epoch 158/300 - Validation: 100%|██████████| 17/17 [00:17<00:00,  1.01s/it]\n"
     ]
    },
    {
     "name": "stdout",
     "output_type": "stream",
     "text": [
      "Epoch 158 - Validation Loss: 0.4042\n",
      "Epoch 158 - Current Learning Rate: 0.000000\n"
     ]
    },
    {
     "name": "stderr",
     "output_type": "stream",
     "text": [
      "Epoch 159/300 - Training: 100%|██████████| 217/217 [01:07<00:00,  3.22it/s]\n"
     ]
    },
    {
     "name": "stdout",
     "output_type": "stream",
     "text": [
      "Epoch 159 - Training Loss: 0.2681\n"
     ]
    },
    {
     "name": "stderr",
     "output_type": "stream",
     "text": [
      "Epoch 159/300 - Validation: 100%|██████████| 17/17 [00:16<00:00,  1.03it/s]\n"
     ]
    },
    {
     "name": "stdout",
     "output_type": "stream",
     "text": [
      "Epoch 159 - Validation Loss: 0.4042\n",
      "Epoch 159 - Current Learning Rate: 0.000000\n"
     ]
    },
    {
     "name": "stderr",
     "output_type": "stream",
     "text": [
      "Epoch 160/300 - Training: 100%|██████████| 217/217 [01:11<00:00,  3.02it/s]\n"
     ]
    },
    {
     "name": "stdout",
     "output_type": "stream",
     "text": [
      "Epoch 160 - Training Loss: 0.2681\n"
     ]
    },
    {
     "name": "stderr",
     "output_type": "stream",
     "text": [
      "Epoch 160/300 - Validation: 100%|██████████| 17/17 [00:14<00:00,  1.15it/s]\n"
     ]
    },
    {
     "name": "stdout",
     "output_type": "stream",
     "text": [
      "Epoch 160 - Validation Loss: 0.4042\n",
      "Epoch 160 - Current Learning Rate: 0.000000\n"
     ]
    },
    {
     "name": "stderr",
     "output_type": "stream",
     "text": [
      "Epoch 161/300 - Training: 100%|██████████| 217/217 [01:07<00:00,  3.20it/s]\n"
     ]
    },
    {
     "name": "stdout",
     "output_type": "stream",
     "text": [
      "Epoch 161 - Training Loss: 0.2681\n"
     ]
    },
    {
     "name": "stderr",
     "output_type": "stream",
     "text": [
      "Epoch 161/300 - Validation: 100%|██████████| 17/17 [00:16<00:00,  1.04it/s]\n"
     ]
    },
    {
     "name": "stdout",
     "output_type": "stream",
     "text": [
      "Epoch 161 - Validation Loss: 0.4042\n",
      "Epoch 161 - Current Learning Rate: 0.000000\n"
     ]
    },
    {
     "name": "stderr",
     "output_type": "stream",
     "text": [
      "Epoch 162/300 - Training: 100%|██████████| 217/217 [01:07<00:00,  3.23it/s]\n"
     ]
    },
    {
     "name": "stdout",
     "output_type": "stream",
     "text": [
      "Epoch 162 - Training Loss: 0.2682\n"
     ]
    },
    {
     "name": "stderr",
     "output_type": "stream",
     "text": [
      "Epoch 162/300 - Validation: 100%|██████████| 17/17 [00:15<00:00,  1.08it/s]\n"
     ]
    },
    {
     "name": "stdout",
     "output_type": "stream",
     "text": [
      "Epoch 162 - Validation Loss: 0.4042\n",
      "Epoch 162 - Current Learning Rate: 0.000000\n"
     ]
    },
    {
     "name": "stderr",
     "output_type": "stream",
     "text": [
      "Epoch 163/300 - Training: 100%|██████████| 217/217 [01:09<00:00,  3.11it/s]\n"
     ]
    },
    {
     "name": "stdout",
     "output_type": "stream",
     "text": [
      "Epoch 163 - Training Loss: 0.2681\n"
     ]
    },
    {
     "name": "stderr",
     "output_type": "stream",
     "text": [
      "Epoch 163/300 - Validation: 100%|██████████| 17/17 [00:17<00:00,  1.00s/it]\n"
     ]
    },
    {
     "name": "stdout",
     "output_type": "stream",
     "text": [
      "Epoch 163 - Validation Loss: 0.4042\n",
      "Epoch 163 - Current Learning Rate: 0.000000\n"
     ]
    },
    {
     "name": "stderr",
     "output_type": "stream",
     "text": [
      "Epoch 164/300 - Training: 100%|██████████| 217/217 [01:10<00:00,  3.10it/s]\n"
     ]
    },
    {
     "name": "stdout",
     "output_type": "stream",
     "text": [
      "Epoch 164 - Training Loss: 0.2681\n"
     ]
    },
    {
     "name": "stderr",
     "output_type": "stream",
     "text": [
      "Epoch 164/300 - Validation: 100%|██████████| 17/17 [00:14<00:00,  1.21it/s]\n"
     ]
    },
    {
     "name": "stdout",
     "output_type": "stream",
     "text": [
      "Epoch 164 - Validation Loss: 0.4043\n",
      "Epoch 164 - Current Learning Rate: 0.000000\n"
     ]
    },
    {
     "name": "stderr",
     "output_type": "stream",
     "text": [
      "Epoch 165/300 - Training: 100%|██████████| 217/217 [01:10<00:00,  3.08it/s]\n"
     ]
    },
    {
     "name": "stdout",
     "output_type": "stream",
     "text": [
      "Epoch 165 - Training Loss: 0.2681\n"
     ]
    },
    {
     "name": "stderr",
     "output_type": "stream",
     "text": [
      "Epoch 165/300 - Validation: 100%|██████████| 17/17 [00:16<00:00,  1.03it/s]\n"
     ]
    },
    {
     "name": "stdout",
     "output_type": "stream",
     "text": [
      "Epoch 165 - Validation Loss: 0.4042\n",
      "Epoch 165 - Current Learning Rate: 0.000000\n"
     ]
    },
    {
     "name": "stderr",
     "output_type": "stream",
     "text": [
      "Epoch 166/300 - Training: 100%|██████████| 217/217 [01:09<00:00,  3.12it/s]\n"
     ]
    },
    {
     "name": "stdout",
     "output_type": "stream",
     "text": [
      "Epoch 166 - Training Loss: 0.2682\n"
     ]
    },
    {
     "name": "stderr",
     "output_type": "stream",
     "text": [
      "Epoch 166/300 - Validation: 100%|██████████| 17/17 [00:16<00:00,  1.04it/s]\n"
     ]
    },
    {
     "name": "stdout",
     "output_type": "stream",
     "text": [
      "Epoch 166 - Validation Loss: 0.4042\n",
      "Epoch 166 - Current Learning Rate: 0.000000\n"
     ]
    },
    {
     "name": "stderr",
     "output_type": "stream",
     "text": [
      "Epoch 167/300 - Training: 100%|██████████| 217/217 [01:10<00:00,  3.09it/s]\n"
     ]
    },
    {
     "name": "stdout",
     "output_type": "stream",
     "text": [
      "Epoch 167 - Training Loss: 0.2681\n"
     ]
    },
    {
     "name": "stderr",
     "output_type": "stream",
     "text": [
      "Epoch 167/300 - Validation: 100%|██████████| 17/17 [00:14<00:00,  1.19it/s]\n"
     ]
    },
    {
     "name": "stdout",
     "output_type": "stream",
     "text": [
      "Epoch 167 - Validation Loss: 0.4042\n",
      "Epoch 167 - Current Learning Rate: 0.000000\n"
     ]
    },
    {
     "name": "stderr",
     "output_type": "stream",
     "text": [
      "Epoch 168/300 - Training: 100%|██████████| 217/217 [01:10<00:00,  3.10it/s]\n"
     ]
    },
    {
     "name": "stdout",
     "output_type": "stream",
     "text": [
      "Epoch 168 - Training Loss: 0.2681\n"
     ]
    },
    {
     "name": "stderr",
     "output_type": "stream",
     "text": [
      "Epoch 168/300 - Validation: 100%|██████████| 17/17 [00:14<00:00,  1.18it/s]\n"
     ]
    },
    {
     "name": "stdout",
     "output_type": "stream",
     "text": [
      "Epoch 168 - Validation Loss: 0.4043\n",
      "Epoch 168 - Current Learning Rate: 0.000000\n"
     ]
    },
    {
     "name": "stderr",
     "output_type": "stream",
     "text": [
      "Epoch 169/300 - Training: 100%|██████████| 217/217 [01:04<00:00,  3.36it/s]\n"
     ]
    },
    {
     "name": "stdout",
     "output_type": "stream",
     "text": [
      "Epoch 169 - Training Loss: 0.2681\n"
     ]
    },
    {
     "name": "stderr",
     "output_type": "stream",
     "text": [
      "Epoch 169/300 - Validation: 100%|██████████| 17/17 [00:14<00:00,  1.17it/s]\n"
     ]
    },
    {
     "name": "stdout",
     "output_type": "stream",
     "text": [
      "Epoch 169 - Validation Loss: 0.4042\n",
      "Epoch 169 - Current Learning Rate: 0.000000\n"
     ]
    },
    {
     "name": "stderr",
     "output_type": "stream",
     "text": [
      "Epoch 170/300 - Training: 100%|██████████| 217/217 [01:06<00:00,  3.25it/s]\n"
     ]
    },
    {
     "name": "stdout",
     "output_type": "stream",
     "text": [
      "Epoch 170 - Training Loss: 0.2681\n"
     ]
    },
    {
     "name": "stderr",
     "output_type": "stream",
     "text": [
      "Epoch 170/300 - Validation: 100%|██████████| 17/17 [00:15<00:00,  1.12it/s]\n"
     ]
    },
    {
     "name": "stdout",
     "output_type": "stream",
     "text": [
      "Epoch 170 - Validation Loss: 0.4042\n",
      "Epoch 170 - Current Learning Rate: 0.000000\n"
     ]
    },
    {
     "name": "stderr",
     "output_type": "stream",
     "text": [
      "Epoch 171/300 - Training: 100%|██████████| 217/217 [01:07<00:00,  3.23it/s]\n"
     ]
    },
    {
     "name": "stdout",
     "output_type": "stream",
     "text": [
      "Epoch 171 - Training Loss: 0.2681\n"
     ]
    },
    {
     "name": "stderr",
     "output_type": "stream",
     "text": [
      "Epoch 171/300 - Validation: 100%|██████████| 17/17 [00:14<00:00,  1.19it/s]\n"
     ]
    },
    {
     "name": "stdout",
     "output_type": "stream",
     "text": [
      "Epoch 171 - Validation Loss: 0.4042\n",
      "Epoch 171 - Current Learning Rate: 0.000000\n"
     ]
    },
    {
     "name": "stderr",
     "output_type": "stream",
     "text": [
      "Epoch 172/300 - Training: 100%|██████████| 217/217 [01:10<00:00,  3.09it/s]\n"
     ]
    },
    {
     "name": "stdout",
     "output_type": "stream",
     "text": [
      "Epoch 172 - Training Loss: 0.2682\n"
     ]
    },
    {
     "name": "stderr",
     "output_type": "stream",
     "text": [
      "Epoch 172/300 - Validation: 100%|██████████| 17/17 [00:16<00:00,  1.05it/s]\n"
     ]
    },
    {
     "name": "stdout",
     "output_type": "stream",
     "text": [
      "Epoch 172 - Validation Loss: 0.4043\n",
      "Epoch 172 - Current Learning Rate: 0.000000\n"
     ]
    },
    {
     "name": "stderr",
     "output_type": "stream",
     "text": [
      "Epoch 173/300 - Training: 100%|██████████| 217/217 [01:05<00:00,  3.31it/s]\n"
     ]
    },
    {
     "name": "stdout",
     "output_type": "stream",
     "text": [
      "Epoch 173 - Training Loss: 0.2682\n"
     ]
    },
    {
     "name": "stderr",
     "output_type": "stream",
     "text": [
      "Epoch 173/300 - Validation: 100%|██████████| 17/17 [00:17<00:00,  1.00s/it]\n"
     ]
    },
    {
     "name": "stdout",
     "output_type": "stream",
     "text": [
      "Epoch 173 - Validation Loss: 0.4042\n",
      "Epoch 173 - Current Learning Rate: 0.000000\n"
     ]
    },
    {
     "name": "stderr",
     "output_type": "stream",
     "text": [
      "Epoch 174/300 - Training: 100%|██████████| 217/217 [01:08<00:00,  3.16it/s]\n"
     ]
    },
    {
     "name": "stdout",
     "output_type": "stream",
     "text": [
      "Epoch 174 - Training Loss: 0.2681\n"
     ]
    },
    {
     "name": "stderr",
     "output_type": "stream",
     "text": [
      "Epoch 174/300 - Validation: 100%|██████████| 17/17 [00:16<00:00,  1.01it/s]\n"
     ]
    },
    {
     "name": "stdout",
     "output_type": "stream",
     "text": [
      "Epoch 174 - Validation Loss: 0.4042\n",
      "Epoch 174 - Current Learning Rate: 0.000000\n"
     ]
    },
    {
     "name": "stderr",
     "output_type": "stream",
     "text": [
      "Epoch 175/300 - Training: 100%|██████████| 217/217 [01:11<00:00,  3.02it/s]\n"
     ]
    },
    {
     "name": "stdout",
     "output_type": "stream",
     "text": [
      "Epoch 175 - Training Loss: 0.2681\n"
     ]
    },
    {
     "name": "stderr",
     "output_type": "stream",
     "text": [
      "Epoch 175/300 - Validation: 100%|██████████| 17/17 [00:16<00:00,  1.03it/s]\n"
     ]
    },
    {
     "name": "stdout",
     "output_type": "stream",
     "text": [
      "Epoch 175 - Validation Loss: 0.4043\n",
      "Epoch 175 - Current Learning Rate: 0.000000\n"
     ]
    },
    {
     "name": "stderr",
     "output_type": "stream",
     "text": [
      "Epoch 176/300 - Training: 100%|██████████| 217/217 [01:09<00:00,  3.14it/s]\n"
     ]
    },
    {
     "name": "stdout",
     "output_type": "stream",
     "text": [
      "Epoch 176 - Training Loss: 0.2681\n"
     ]
    },
    {
     "name": "stderr",
     "output_type": "stream",
     "text": [
      "Epoch 176/300 - Validation: 100%|██████████| 17/17 [00:15<00:00,  1.10it/s]\n"
     ]
    },
    {
     "name": "stdout",
     "output_type": "stream",
     "text": [
      "Epoch 176 - Validation Loss: 0.4042\n",
      "Epoch 176 - Current Learning Rate: 0.000000\n"
     ]
    },
    {
     "name": "stderr",
     "output_type": "stream",
     "text": [
      "Epoch 177/300 - Training: 100%|██████████| 217/217 [01:10<00:00,  3.09it/s]\n"
     ]
    },
    {
     "name": "stdout",
     "output_type": "stream",
     "text": [
      "Epoch 177 - Training Loss: 0.2681\n"
     ]
    },
    {
     "name": "stderr",
     "output_type": "stream",
     "text": [
      "Epoch 177/300 - Validation: 100%|██████████| 17/17 [00:16<00:00,  1.05it/s]\n"
     ]
    },
    {
     "name": "stdout",
     "output_type": "stream",
     "text": [
      "Epoch 177 - Validation Loss: 0.4042\n",
      "Epoch 177 - Current Learning Rate: 0.000000\n"
     ]
    },
    {
     "name": "stderr",
     "output_type": "stream",
     "text": [
      "Epoch 178/300 - Training: 100%|██████████| 217/217 [01:09<00:00,  3.11it/s]\n"
     ]
    },
    {
     "name": "stdout",
     "output_type": "stream",
     "text": [
      "Epoch 178 - Training Loss: 0.2681\n"
     ]
    },
    {
     "name": "stderr",
     "output_type": "stream",
     "text": [
      "Epoch 178/300 - Validation: 100%|██████████| 17/17 [00:16<00:00,  1.01it/s]\n"
     ]
    },
    {
     "name": "stdout",
     "output_type": "stream",
     "text": [
      "Epoch 178 - Validation Loss: 0.4042\n",
      "Epoch 178 - Current Learning Rate: 0.000000\n"
     ]
    },
    {
     "name": "stderr",
     "output_type": "stream",
     "text": [
      "Epoch 179/300 - Training: 100%|██████████| 217/217 [01:08<00:00,  3.17it/s]\n"
     ]
    },
    {
     "name": "stdout",
     "output_type": "stream",
     "text": [
      "Epoch 179 - Training Loss: 0.2681\n"
     ]
    },
    {
     "name": "stderr",
     "output_type": "stream",
     "text": [
      "Epoch 179/300 - Validation: 100%|██████████| 17/17 [00:15<00:00,  1.12it/s]\n"
     ]
    },
    {
     "name": "stdout",
     "output_type": "stream",
     "text": [
      "Epoch 179 - Validation Loss: 0.4042\n",
      "Epoch 179 - Current Learning Rate: 0.000000\n"
     ]
    },
    {
     "name": "stderr",
     "output_type": "stream",
     "text": [
      "Epoch 180/300 - Training: 100%|██████████| 217/217 [01:08<00:00,  3.19it/s]\n"
     ]
    },
    {
     "name": "stdout",
     "output_type": "stream",
     "text": [
      "Epoch 180 - Training Loss: 0.2682\n"
     ]
    },
    {
     "name": "stderr",
     "output_type": "stream",
     "text": [
      "Epoch 180/300 - Validation: 100%|██████████| 17/17 [00:17<00:00,  1.00s/it]\n"
     ]
    },
    {
     "name": "stdout",
     "output_type": "stream",
     "text": [
      "Epoch 180 - Validation Loss: 0.4042\n",
      "Epoch 180 - Current Learning Rate: 0.000000\n"
     ]
    },
    {
     "name": "stderr",
     "output_type": "stream",
     "text": [
      "Epoch 181/300 - Training: 100%|██████████| 217/217 [01:09<00:00,  3.12it/s]\n"
     ]
    },
    {
     "name": "stdout",
     "output_type": "stream",
     "text": [
      "Epoch 181 - Training Loss: 0.2682\n"
     ]
    },
    {
     "name": "stderr",
     "output_type": "stream",
     "text": [
      "Epoch 181/300 - Validation: 100%|██████████| 17/17 [00:14<00:00,  1.17it/s]\n"
     ]
    },
    {
     "name": "stdout",
     "output_type": "stream",
     "text": [
      "Epoch 181 - Validation Loss: 0.4042\n",
      "Epoch 181 - Current Learning Rate: 0.000000\n"
     ]
    },
    {
     "name": "stderr",
     "output_type": "stream",
     "text": [
      "Epoch 182/300 - Training: 100%|██████████| 217/217 [01:10<00:00,  3.09it/s]\n"
     ]
    },
    {
     "name": "stdout",
     "output_type": "stream",
     "text": [
      "Epoch 182 - Training Loss: 0.2682\n"
     ]
    },
    {
     "name": "stderr",
     "output_type": "stream",
     "text": [
      "Epoch 182/300 - Validation: 100%|██████████| 17/17 [00:15<00:00,  1.08it/s]\n"
     ]
    },
    {
     "name": "stdout",
     "output_type": "stream",
     "text": [
      "Epoch 182 - Validation Loss: 0.4041\n",
      "Epoch 182 - Current Learning Rate: 0.000000\n"
     ]
    },
    {
     "name": "stderr",
     "output_type": "stream",
     "text": [
      "Epoch 183/300 - Training: 100%|██████████| 217/217 [01:09<00:00,  3.14it/s]\n"
     ]
    },
    {
     "name": "stdout",
     "output_type": "stream",
     "text": [
      "Epoch 183 - Training Loss: 0.2681\n"
     ]
    },
    {
     "name": "stderr",
     "output_type": "stream",
     "text": [
      "Epoch 183/300 - Validation: 100%|██████████| 17/17 [00:15<00:00,  1.13it/s]\n"
     ]
    },
    {
     "name": "stdout",
     "output_type": "stream",
     "text": [
      "Epoch 183 - Validation Loss: 0.4042\n",
      "Epoch 183 - Current Learning Rate: 0.000000\n"
     ]
    },
    {
     "name": "stderr",
     "output_type": "stream",
     "text": [
      "Epoch 184/300 - Training: 100%|██████████| 217/217 [01:09<00:00,  3.12it/s]\n"
     ]
    },
    {
     "name": "stdout",
     "output_type": "stream",
     "text": [
      "Epoch 184 - Training Loss: 0.2681\n"
     ]
    },
    {
     "name": "stderr",
     "output_type": "stream",
     "text": [
      "Epoch 184/300 - Validation: 100%|██████████| 17/17 [00:16<00:00,  1.01it/s]\n"
     ]
    },
    {
     "name": "stdout",
     "output_type": "stream",
     "text": [
      "Epoch 184 - Validation Loss: 0.4042\n",
      "Epoch 184 - Current Learning Rate: 0.000000\n"
     ]
    },
    {
     "name": "stderr",
     "output_type": "stream",
     "text": [
      "Epoch 185/300 - Training: 100%|██████████| 217/217 [01:10<00:00,  3.07it/s]\n"
     ]
    },
    {
     "name": "stdout",
     "output_type": "stream",
     "text": [
      "Epoch 185 - Training Loss: 0.2681\n"
     ]
    },
    {
     "name": "stderr",
     "output_type": "stream",
     "text": [
      "Epoch 185/300 - Validation: 100%|██████████| 17/17 [00:16<00:00,  1.03it/s]\n"
     ]
    },
    {
     "name": "stdout",
     "output_type": "stream",
     "text": [
      "Epoch 185 - Validation Loss: 0.4042\n",
      "Epoch 185 - Current Learning Rate: 0.000000\n"
     ]
    },
    {
     "name": "stderr",
     "output_type": "stream",
     "text": [
      "Epoch 186/300 - Training: 100%|██████████| 217/217 [01:09<00:00,  3.12it/s]\n"
     ]
    },
    {
     "name": "stdout",
     "output_type": "stream",
     "text": [
      "Epoch 186 - Training Loss: 0.2681\n"
     ]
    },
    {
     "name": "stderr",
     "output_type": "stream",
     "text": [
      "Epoch 186/300 - Validation: 100%|██████████| 17/17 [00:15<00:00,  1.06it/s]\n"
     ]
    },
    {
     "name": "stdout",
     "output_type": "stream",
     "text": [
      "Epoch 186 - Validation Loss: 0.4042\n",
      "Epoch 186 - Current Learning Rate: 0.000000\n"
     ]
    },
    {
     "name": "stderr",
     "output_type": "stream",
     "text": [
      "Epoch 187/300 - Training: 100%|██████████| 217/217 [01:09<00:00,  3.12it/s]\n"
     ]
    },
    {
     "name": "stdout",
     "output_type": "stream",
     "text": [
      "Epoch 187 - Training Loss: 0.2681\n"
     ]
    },
    {
     "name": "stderr",
     "output_type": "stream",
     "text": [
      "Epoch 187/300 - Validation: 100%|██████████| 17/17 [00:14<00:00,  1.18it/s]\n"
     ]
    },
    {
     "name": "stdout",
     "output_type": "stream",
     "text": [
      "Epoch 187 - Validation Loss: 0.4042\n",
      "Epoch 187 - Current Learning Rate: 0.000000\n"
     ]
    },
    {
     "name": "stderr",
     "output_type": "stream",
     "text": [
      "Epoch 188/300 - Training: 100%|██████████| 217/217 [01:07<00:00,  3.20it/s]\n"
     ]
    },
    {
     "name": "stdout",
     "output_type": "stream",
     "text": [
      "Epoch 188 - Training Loss: 0.2681\n"
     ]
    },
    {
     "name": "stderr",
     "output_type": "stream",
     "text": [
      "Epoch 188/300 - Validation: 100%|██████████| 17/17 [00:14<00:00,  1.20it/s]\n"
     ]
    },
    {
     "name": "stdout",
     "output_type": "stream",
     "text": [
      "Epoch 188 - Validation Loss: 0.4042\n",
      "Epoch 188 - Current Learning Rate: 0.000000\n"
     ]
    },
    {
     "name": "stderr",
     "output_type": "stream",
     "text": [
      "Epoch 189/300 - Training: 100%|██████████| 217/217 [01:10<00:00,  3.10it/s]\n"
     ]
    },
    {
     "name": "stdout",
     "output_type": "stream",
     "text": [
      "Epoch 189 - Training Loss: 0.2682\n"
     ]
    },
    {
     "name": "stderr",
     "output_type": "stream",
     "text": [
      "Epoch 189/300 - Validation: 100%|██████████| 17/17 [00:15<00:00,  1.09it/s]\n"
     ]
    },
    {
     "name": "stdout",
     "output_type": "stream",
     "text": [
      "Epoch 189 - Validation Loss: 0.4042\n",
      "Epoch 189 - Current Learning Rate: 0.000000\n"
     ]
    },
    {
     "name": "stderr",
     "output_type": "stream",
     "text": [
      "Epoch 190/300 - Training: 100%|██████████| 217/217 [01:09<00:00,  3.13it/s]\n"
     ]
    },
    {
     "name": "stdout",
     "output_type": "stream",
     "text": [
      "Epoch 190 - Training Loss: 0.2681\n"
     ]
    },
    {
     "name": "stderr",
     "output_type": "stream",
     "text": [
      "Epoch 190/300 - Validation: 100%|██████████| 17/17 [00:16<00:00,  1.03it/s]\n"
     ]
    },
    {
     "name": "stdout",
     "output_type": "stream",
     "text": [
      "Epoch 190 - Validation Loss: 0.4042\n",
      "Epoch 190 - Current Learning Rate: 0.000000\n"
     ]
    },
    {
     "name": "stderr",
     "output_type": "stream",
     "text": [
      "Epoch 191/300 - Training: 100%|██████████| 217/217 [01:10<00:00,  3.09it/s]\n"
     ]
    },
    {
     "name": "stdout",
     "output_type": "stream",
     "text": [
      "Epoch 191 - Training Loss: 0.2681\n"
     ]
    },
    {
     "name": "stderr",
     "output_type": "stream",
     "text": [
      "Epoch 191/300 - Validation: 100%|██████████| 17/17 [00:16<00:00,  1.05it/s]\n"
     ]
    },
    {
     "name": "stdout",
     "output_type": "stream",
     "text": [
      "Epoch 191 - Validation Loss: 0.4042\n",
      "Epoch 191 - Current Learning Rate: 0.000000\n"
     ]
    },
    {
     "name": "stderr",
     "output_type": "stream",
     "text": [
      "Epoch 192/300 - Training: 100%|██████████| 217/217 [01:09<00:00,  3.14it/s]\n"
     ]
    },
    {
     "name": "stdout",
     "output_type": "stream",
     "text": [
      "Epoch 192 - Training Loss: 0.2682\n"
     ]
    },
    {
     "name": "stderr",
     "output_type": "stream",
     "text": [
      "Epoch 192/300 - Validation: 100%|██████████| 17/17 [00:14<00:00,  1.16it/s]\n"
     ]
    },
    {
     "name": "stdout",
     "output_type": "stream",
     "text": [
      "Epoch 192 - Validation Loss: 0.4042\n",
      "Epoch 192 - Current Learning Rate: 0.000000\n"
     ]
    },
    {
     "name": "stderr",
     "output_type": "stream",
     "text": [
      "Epoch 193/300 - Training: 100%|██████████| 217/217 [01:04<00:00,  3.37it/s]\n"
     ]
    },
    {
     "name": "stdout",
     "output_type": "stream",
     "text": [
      "Epoch 193 - Training Loss: 0.2682\n"
     ]
    },
    {
     "name": "stderr",
     "output_type": "stream",
     "text": [
      "Epoch 193/300 - Validation: 100%|██████████| 17/17 [00:14<00:00,  1.16it/s]\n"
     ]
    },
    {
     "name": "stdout",
     "output_type": "stream",
     "text": [
      "Epoch 193 - Validation Loss: 0.4042\n",
      "Epoch 193 - Current Learning Rate: 0.000000\n"
     ]
    },
    {
     "name": "stderr",
     "output_type": "stream",
     "text": [
      "Epoch 194/300 - Training: 100%|██████████| 217/217 [01:10<00:00,  3.09it/s]\n"
     ]
    },
    {
     "name": "stdout",
     "output_type": "stream",
     "text": [
      "Epoch 194 - Training Loss: 0.2682\n"
     ]
    },
    {
     "name": "stderr",
     "output_type": "stream",
     "text": [
      "Epoch 194/300 - Validation: 100%|██████████| 17/17 [00:16<00:00,  1.03it/s]\n"
     ]
    },
    {
     "name": "stdout",
     "output_type": "stream",
     "text": [
      "Epoch 194 - Validation Loss: 0.4042\n",
      "Epoch 194 - Current Learning Rate: 0.000000\n"
     ]
    },
    {
     "name": "stderr",
     "output_type": "stream",
     "text": [
      "Epoch 195/300 - Training: 100%|██████████| 217/217 [01:11<00:00,  3.04it/s]\n"
     ]
    },
    {
     "name": "stdout",
     "output_type": "stream",
     "text": [
      "Epoch 195 - Training Loss: 0.2681\n"
     ]
    },
    {
     "name": "stderr",
     "output_type": "stream",
     "text": [
      "Epoch 195/300 - Validation: 100%|██████████| 17/17 [00:16<00:00,  1.05it/s]\n"
     ]
    },
    {
     "name": "stdout",
     "output_type": "stream",
     "text": [
      "Epoch 195 - Validation Loss: 0.4043\n",
      "Epoch 195 - Current Learning Rate: 0.000000\n"
     ]
    },
    {
     "name": "stderr",
     "output_type": "stream",
     "text": [
      "Epoch 196/300 - Training: 100%|██████████| 217/217 [01:11<00:00,  3.04it/s]\n"
     ]
    },
    {
     "name": "stdout",
     "output_type": "stream",
     "text": [
      "Epoch 196 - Training Loss: 0.2681\n"
     ]
    },
    {
     "name": "stderr",
     "output_type": "stream",
     "text": [
      "Epoch 196/300 - Validation: 100%|██████████| 17/17 [00:17<00:00,  1.01s/it]\n"
     ]
    },
    {
     "name": "stdout",
     "output_type": "stream",
     "text": [
      "Epoch 196 - Validation Loss: 0.4042\n",
      "Epoch 196 - Current Learning Rate: 0.000000\n"
     ]
    },
    {
     "name": "stderr",
     "output_type": "stream",
     "text": [
      "Epoch 197/300 - Training: 100%|██████████| 217/217 [01:10<00:00,  3.06it/s]\n"
     ]
    },
    {
     "name": "stdout",
     "output_type": "stream",
     "text": [
      "Epoch 197 - Training Loss: 0.2681\n"
     ]
    },
    {
     "name": "stderr",
     "output_type": "stream",
     "text": [
      "Epoch 197/300 - Validation: 100%|██████████| 17/17 [00:14<00:00,  1.14it/s]\n"
     ]
    },
    {
     "name": "stdout",
     "output_type": "stream",
     "text": [
      "Epoch 197 - Validation Loss: 0.4042\n",
      "Epoch 197 - Current Learning Rate: 0.000000\n"
     ]
    },
    {
     "name": "stderr",
     "output_type": "stream",
     "text": [
      "Epoch 198/300 - Training: 100%|██████████| 217/217 [01:07<00:00,  3.21it/s]\n"
     ]
    },
    {
     "name": "stdout",
     "output_type": "stream",
     "text": [
      "Epoch 198 - Training Loss: 0.2681\n"
     ]
    },
    {
     "name": "stderr",
     "output_type": "stream",
     "text": [
      "Epoch 198/300 - Validation: 100%|██████████| 17/17 [00:15<00:00,  1.11it/s]\n"
     ]
    },
    {
     "name": "stdout",
     "output_type": "stream",
     "text": [
      "Epoch 198 - Validation Loss: 0.4042\n",
      "Epoch 198 - Current Learning Rate: 0.000000\n"
     ]
    },
    {
     "name": "stderr",
     "output_type": "stream",
     "text": [
      "Epoch 199/300 - Training: 100%|██████████| 217/217 [01:03<00:00,  3.39it/s]\n"
     ]
    },
    {
     "name": "stdout",
     "output_type": "stream",
     "text": [
      "Epoch 199 - Training Loss: 0.2681\n"
     ]
    },
    {
     "name": "stderr",
     "output_type": "stream",
     "text": [
      "Epoch 199/300 - Validation: 100%|██████████| 17/17 [00:17<00:00,  1.02s/it]\n"
     ]
    },
    {
     "name": "stdout",
     "output_type": "stream",
     "text": [
      "Epoch 199 - Validation Loss: 0.4042\n",
      "Epoch 199 - Current Learning Rate: 0.000000\n"
     ]
    },
    {
     "name": "stderr",
     "output_type": "stream",
     "text": [
      "Epoch 200/300 - Training: 100%|██████████| 217/217 [01:08<00:00,  3.17it/s]\n"
     ]
    },
    {
     "name": "stdout",
     "output_type": "stream",
     "text": [
      "Epoch 200 - Training Loss: 0.2681\n"
     ]
    },
    {
     "name": "stderr",
     "output_type": "stream",
     "text": [
      "Epoch 200/300 - Validation: 100%|██████████| 17/17 [00:16<00:00,  1.05it/s]\n"
     ]
    },
    {
     "name": "stdout",
     "output_type": "stream",
     "text": [
      "Epoch 200 - Validation Loss: 0.4042\n",
      "Epoch 200 - Current Learning Rate: 0.000000\n"
     ]
    },
    {
     "name": "stderr",
     "output_type": "stream",
     "text": [
      "Epoch 201/300 - Training: 100%|██████████| 217/217 [01:07<00:00,  3.22it/s]\n"
     ]
    },
    {
     "name": "stdout",
     "output_type": "stream",
     "text": [
      "Epoch 201 - Training Loss: 0.2681\n"
     ]
    },
    {
     "name": "stderr",
     "output_type": "stream",
     "text": [
      "Epoch 201/300 - Validation: 100%|██████████| 17/17 [00:16<00:00,  1.01it/s]\n"
     ]
    },
    {
     "name": "stdout",
     "output_type": "stream",
     "text": [
      "Epoch 201 - Validation Loss: 0.4042\n",
      "Epoch 201 - Current Learning Rate: 0.000000\n"
     ]
    },
    {
     "name": "stderr",
     "output_type": "stream",
     "text": [
      "Epoch 202/300 - Training: 100%|██████████| 217/217 [01:06<00:00,  3.28it/s]\n"
     ]
    },
    {
     "name": "stdout",
     "output_type": "stream",
     "text": [
      "Epoch 202 - Training Loss: 0.2681\n"
     ]
    },
    {
     "name": "stderr",
     "output_type": "stream",
     "text": [
      "Epoch 202/300 - Validation: 100%|██████████| 17/17 [00:17<00:00,  1.04s/it]\n"
     ]
    },
    {
     "name": "stdout",
     "output_type": "stream",
     "text": [
      "Epoch 202 - Validation Loss: 0.4043\n",
      "Epoch 202 - Current Learning Rate: 0.000000\n"
     ]
    },
    {
     "name": "stderr",
     "output_type": "stream",
     "text": [
      "Epoch 203/300 - Training: 100%|██████████| 217/217 [01:11<00:00,  3.04it/s]\n"
     ]
    },
    {
     "name": "stdout",
     "output_type": "stream",
     "text": [
      "Epoch 203 - Training Loss: 0.2681\n"
     ]
    },
    {
     "name": "stderr",
     "output_type": "stream",
     "text": [
      "Epoch 203/300 - Validation: 100%|██████████| 17/17 [00:16<00:00,  1.02it/s]\n"
     ]
    },
    {
     "name": "stdout",
     "output_type": "stream",
     "text": [
      "Epoch 203 - Validation Loss: 0.4042\n",
      "Epoch 203 - Current Learning Rate: 0.000000\n"
     ]
    },
    {
     "name": "stderr",
     "output_type": "stream",
     "text": [
      "Epoch 204/300 - Training: 100%|██████████| 217/217 [01:06<00:00,  3.25it/s]\n"
     ]
    },
    {
     "name": "stdout",
     "output_type": "stream",
     "text": [
      "Epoch 204 - Training Loss: 0.2681\n"
     ]
    },
    {
     "name": "stderr",
     "output_type": "stream",
     "text": [
      "Epoch 204/300 - Validation: 100%|██████████| 17/17 [00:17<00:00,  1.01s/it]\n"
     ]
    },
    {
     "name": "stdout",
     "output_type": "stream",
     "text": [
      "Epoch 204 - Validation Loss: 0.4042\n",
      "Epoch 204 - Current Learning Rate: 0.000000\n"
     ]
    },
    {
     "name": "stderr",
     "output_type": "stream",
     "text": [
      "Epoch 205/300 - Training: 100%|██████████| 217/217 [01:09<00:00,  3.13it/s]\n"
     ]
    },
    {
     "name": "stdout",
     "output_type": "stream",
     "text": [
      "Epoch 205 - Training Loss: 0.2681\n"
     ]
    },
    {
     "name": "stderr",
     "output_type": "stream",
     "text": [
      "Epoch 205/300 - Validation: 100%|██████████| 17/17 [00:14<00:00,  1.18it/s]\n"
     ]
    },
    {
     "name": "stdout",
     "output_type": "stream",
     "text": [
      "Epoch 205 - Validation Loss: 0.4042\n",
      "Epoch 205 - Current Learning Rate: 0.000000\n"
     ]
    },
    {
     "name": "stderr",
     "output_type": "stream",
     "text": [
      "Epoch 206/300 - Training: 100%|██████████| 217/217 [01:08<00:00,  3.18it/s]\n"
     ]
    },
    {
     "name": "stdout",
     "output_type": "stream",
     "text": [
      "Epoch 206 - Training Loss: 0.2681\n"
     ]
    },
    {
     "name": "stderr",
     "output_type": "stream",
     "text": [
      "Epoch 206/300 - Validation: 100%|██████████| 17/17 [00:14<00:00,  1.14it/s]\n"
     ]
    },
    {
     "name": "stdout",
     "output_type": "stream",
     "text": [
      "Epoch 206 - Validation Loss: 0.4042\n",
      "Epoch 206 - Current Learning Rate: 0.000000\n"
     ]
    },
    {
     "name": "stderr",
     "output_type": "stream",
     "text": [
      "Epoch 207/300 - Training: 100%|██████████| 217/217 [01:06<00:00,  3.25it/s]\n"
     ]
    },
    {
     "name": "stdout",
     "output_type": "stream",
     "text": [
      "Epoch 207 - Training Loss: 0.2681\n"
     ]
    },
    {
     "name": "stderr",
     "output_type": "stream",
     "text": [
      "Epoch 207/300 - Validation: 100%|██████████| 17/17 [00:14<00:00,  1.14it/s]\n"
     ]
    },
    {
     "name": "stdout",
     "output_type": "stream",
     "text": [
      "Epoch 207 - Validation Loss: 0.4042\n",
      "Epoch 207 - Current Learning Rate: 0.000000\n"
     ]
    },
    {
     "name": "stderr",
     "output_type": "stream",
     "text": [
      "Epoch 208/300 - Training: 100%|██████████| 217/217 [01:08<00:00,  3.15it/s]\n"
     ]
    },
    {
     "name": "stdout",
     "output_type": "stream",
     "text": [
      "Epoch 208 - Training Loss: 0.2681\n"
     ]
    },
    {
     "name": "stderr",
     "output_type": "stream",
     "text": [
      "Epoch 208/300 - Validation: 100%|██████████| 17/17 [00:16<00:00,  1.01it/s]\n"
     ]
    },
    {
     "name": "stdout",
     "output_type": "stream",
     "text": [
      "Epoch 208 - Validation Loss: 0.4042\n",
      "Epoch 208 - Current Learning Rate: 0.000000\n"
     ]
    },
    {
     "name": "stderr",
     "output_type": "stream",
     "text": [
      "Epoch 209/300 - Training: 100%|██████████| 217/217 [01:07<00:00,  3.24it/s]\n"
     ]
    },
    {
     "name": "stdout",
     "output_type": "stream",
     "text": [
      "Epoch 209 - Training Loss: 0.2681\n"
     ]
    },
    {
     "name": "stderr",
     "output_type": "stream",
     "text": [
      "Epoch 209/300 - Validation: 100%|██████████| 17/17 [00:14<00:00,  1.15it/s]\n"
     ]
    },
    {
     "name": "stdout",
     "output_type": "stream",
     "text": [
      "Epoch 209 - Validation Loss: 0.4042\n",
      "Epoch 209 - Current Learning Rate: 0.000000\n"
     ]
    },
    {
     "name": "stderr",
     "output_type": "stream",
     "text": [
      "Epoch 210/300 - Training: 100%|██████████| 217/217 [01:05<00:00,  3.32it/s]\n"
     ]
    },
    {
     "name": "stdout",
     "output_type": "stream",
     "text": [
      "Epoch 210 - Training Loss: 0.2682\n"
     ]
    },
    {
     "name": "stderr",
     "output_type": "stream",
     "text": [
      "Epoch 210/300 - Validation: 100%|██████████| 17/17 [00:13<00:00,  1.21it/s]\n"
     ]
    },
    {
     "name": "stdout",
     "output_type": "stream",
     "text": [
      "Epoch 210 - Validation Loss: 0.4042\n",
      "Epoch 210 - Current Learning Rate: 0.000000\n"
     ]
    },
    {
     "name": "stderr",
     "output_type": "stream",
     "text": [
      "Epoch 211/300 - Training: 100%|██████████| 217/217 [01:08<00:00,  3.19it/s]\n"
     ]
    },
    {
     "name": "stdout",
     "output_type": "stream",
     "text": [
      "Epoch 211 - Training Loss: 0.2681\n"
     ]
    },
    {
     "name": "stderr",
     "output_type": "stream",
     "text": [
      "Epoch 211/300 - Validation: 100%|██████████| 17/17 [00:15<00:00,  1.11it/s]\n"
     ]
    },
    {
     "name": "stdout",
     "output_type": "stream",
     "text": [
      "Epoch 211 - Validation Loss: 0.4042\n",
      "Epoch 211 - Current Learning Rate: 0.000000\n"
     ]
    },
    {
     "name": "stderr",
     "output_type": "stream",
     "text": [
      "Epoch 212/300 - Training: 100%|██████████| 217/217 [01:08<00:00,  3.18it/s]\n"
     ]
    },
    {
     "name": "stdout",
     "output_type": "stream",
     "text": [
      "Epoch 212 - Training Loss: 0.2681\n"
     ]
    },
    {
     "name": "stderr",
     "output_type": "stream",
     "text": [
      "Epoch 212/300 - Validation: 100%|██████████| 17/17 [00:14<00:00,  1.14it/s]\n"
     ]
    },
    {
     "name": "stdout",
     "output_type": "stream",
     "text": [
      "Epoch 212 - Validation Loss: 0.4042\n",
      "Epoch 212 - Current Learning Rate: 0.000000\n"
     ]
    },
    {
     "name": "stderr",
     "output_type": "stream",
     "text": [
      "Epoch 213/300 - Training: 100%|██████████| 217/217 [01:06<00:00,  3.28it/s]\n"
     ]
    },
    {
     "name": "stdout",
     "output_type": "stream",
     "text": [
      "Epoch 213 - Training Loss: 0.2682\n"
     ]
    },
    {
     "name": "stderr",
     "output_type": "stream",
     "text": [
      "Epoch 213/300 - Validation: 100%|██████████| 17/17 [00:14<00:00,  1.19it/s]\n"
     ]
    },
    {
     "name": "stdout",
     "output_type": "stream",
     "text": [
      "Epoch 213 - Validation Loss: 0.4042\n",
      "Epoch 213 - Current Learning Rate: 0.000000\n"
     ]
    },
    {
     "name": "stderr",
     "output_type": "stream",
     "text": [
      "Epoch 214/300 - Training: 100%|██████████| 217/217 [01:05<00:00,  3.33it/s]\n"
     ]
    },
    {
     "name": "stdout",
     "output_type": "stream",
     "text": [
      "Epoch 214 - Training Loss: 0.2681\n"
     ]
    },
    {
     "name": "stderr",
     "output_type": "stream",
     "text": [
      "Epoch 214/300 - Validation: 100%|██████████| 17/17 [00:16<00:00,  1.03it/s]\n"
     ]
    },
    {
     "name": "stdout",
     "output_type": "stream",
     "text": [
      "Epoch 214 - Validation Loss: 0.4042\n",
      "Epoch 214 - Current Learning Rate: 0.000000\n"
     ]
    },
    {
     "name": "stderr",
     "output_type": "stream",
     "text": [
      "Epoch 215/300 - Training: 100%|██████████| 217/217 [01:11<00:00,  3.03it/s]\n"
     ]
    },
    {
     "name": "stdout",
     "output_type": "stream",
     "text": [
      "Epoch 215 - Training Loss: 0.2681\n"
     ]
    },
    {
     "name": "stderr",
     "output_type": "stream",
     "text": [
      "Epoch 215/300 - Validation: 100%|██████████| 17/17 [00:15<00:00,  1.12it/s]\n"
     ]
    },
    {
     "name": "stdout",
     "output_type": "stream",
     "text": [
      "Epoch 215 - Validation Loss: 0.4042\n",
      "Epoch 215 - Current Learning Rate: 0.000000\n"
     ]
    },
    {
     "name": "stderr",
     "output_type": "stream",
     "text": [
      "Epoch 216/300 - Training: 100%|██████████| 217/217 [01:09<00:00,  3.13it/s]\n"
     ]
    },
    {
     "name": "stdout",
     "output_type": "stream",
     "text": [
      "Epoch 216 - Training Loss: 0.2681\n"
     ]
    },
    {
     "name": "stderr",
     "output_type": "stream",
     "text": [
      "Epoch 216/300 - Validation: 100%|██████████| 17/17 [00:13<00:00,  1.23it/s]\n"
     ]
    },
    {
     "name": "stdout",
     "output_type": "stream",
     "text": [
      "Epoch 216 - Validation Loss: 0.4042\n",
      "Epoch 216 - Current Learning Rate: 0.000000\n"
     ]
    },
    {
     "name": "stderr",
     "output_type": "stream",
     "text": [
      "Epoch 217/300 - Training: 100%|██████████| 217/217 [01:05<00:00,  3.31it/s]\n"
     ]
    },
    {
     "name": "stdout",
     "output_type": "stream",
     "text": [
      "Epoch 217 - Training Loss: 0.2681\n"
     ]
    },
    {
     "name": "stderr",
     "output_type": "stream",
     "text": [
      "Epoch 217/300 - Validation: 100%|██████████| 17/17 [00:14<00:00,  1.16it/s]\n"
     ]
    },
    {
     "name": "stdout",
     "output_type": "stream",
     "text": [
      "Epoch 217 - Validation Loss: 0.4042\n",
      "Epoch 217 - Current Learning Rate: 0.000000\n"
     ]
    },
    {
     "name": "stderr",
     "output_type": "stream",
     "text": [
      "Epoch 218/300 - Training: 100%|██████████| 217/217 [01:08<00:00,  3.19it/s]\n"
     ]
    },
    {
     "name": "stdout",
     "output_type": "stream",
     "text": [
      "Epoch 218 - Training Loss: 0.2681\n"
     ]
    },
    {
     "name": "stderr",
     "output_type": "stream",
     "text": [
      "Epoch 218/300 - Validation: 100%|██████████| 17/17 [00:15<00:00,  1.12it/s]\n"
     ]
    },
    {
     "name": "stdout",
     "output_type": "stream",
     "text": [
      "Epoch 218 - Validation Loss: 0.4042\n",
      "Epoch 218 - Current Learning Rate: 0.000000\n"
     ]
    },
    {
     "name": "stderr",
     "output_type": "stream",
     "text": [
      "Epoch 219/300 - Training: 100%|██████████| 217/217 [01:06<00:00,  3.26it/s]\n"
     ]
    },
    {
     "name": "stdout",
     "output_type": "stream",
     "text": [
      "Epoch 219 - Training Loss: 0.2681\n"
     ]
    },
    {
     "name": "stderr",
     "output_type": "stream",
     "text": [
      "Epoch 219/300 - Validation: 100%|██████████| 17/17 [00:13<00:00,  1.21it/s]\n"
     ]
    },
    {
     "name": "stdout",
     "output_type": "stream",
     "text": [
      "Epoch 219 - Validation Loss: 0.4042\n",
      "Epoch 219 - Current Learning Rate: 0.000000\n"
     ]
    },
    {
     "name": "stderr",
     "output_type": "stream",
     "text": [
      "Epoch 220/300 - Training: 100%|██████████| 217/217 [01:10<00:00,  3.07it/s]\n"
     ]
    },
    {
     "name": "stdout",
     "output_type": "stream",
     "text": [
      "Epoch 220 - Training Loss: 0.2681\n"
     ]
    },
    {
     "name": "stderr",
     "output_type": "stream",
     "text": [
      "Epoch 220/300 - Validation: 100%|██████████| 17/17 [00:15<00:00,  1.11it/s]\n"
     ]
    },
    {
     "name": "stdout",
     "output_type": "stream",
     "text": [
      "Epoch 220 - Validation Loss: 0.4042\n",
      "Epoch 220 - Current Learning Rate: 0.000000\n"
     ]
    },
    {
     "name": "stderr",
     "output_type": "stream",
     "text": [
      "Epoch 221/300 - Training: 100%|██████████| 217/217 [01:11<00:00,  3.05it/s]\n"
     ]
    },
    {
     "name": "stdout",
     "output_type": "stream",
     "text": [
      "Epoch 221 - Training Loss: 0.2681\n"
     ]
    },
    {
     "name": "stderr",
     "output_type": "stream",
     "text": [
      "Epoch 221/300 - Validation: 100%|██████████| 17/17 [00:14<00:00,  1.17it/s]\n"
     ]
    },
    {
     "name": "stdout",
     "output_type": "stream",
     "text": [
      "Epoch 221 - Validation Loss: 0.4042\n",
      "Epoch 221 - Current Learning Rate: 0.000000\n"
     ]
    },
    {
     "name": "stderr",
     "output_type": "stream",
     "text": [
      "Epoch 222/300 - Training: 100%|██████████| 217/217 [01:08<00:00,  3.17it/s]\n"
     ]
    },
    {
     "name": "stdout",
     "output_type": "stream",
     "text": [
      "Epoch 222 - Training Loss: 0.2681\n"
     ]
    },
    {
     "name": "stderr",
     "output_type": "stream",
     "text": [
      "Epoch 222/300 - Validation: 100%|██████████| 17/17 [00:14<00:00,  1.16it/s]\n"
     ]
    },
    {
     "name": "stdout",
     "output_type": "stream",
     "text": [
      "Epoch 222 - Validation Loss: 0.4042\n",
      "Epoch 222 - Current Learning Rate: 0.000000\n"
     ]
    },
    {
     "name": "stderr",
     "output_type": "stream",
     "text": [
      "Epoch 223/300 - Training: 100%|██████████| 217/217 [01:05<00:00,  3.29it/s]\n"
     ]
    },
    {
     "name": "stdout",
     "output_type": "stream",
     "text": [
      "Epoch 223 - Training Loss: 0.2681\n"
     ]
    },
    {
     "name": "stderr",
     "output_type": "stream",
     "text": [
      "Epoch 223/300 - Validation: 100%|██████████| 17/17 [00:14<00:00,  1.16it/s]\n"
     ]
    },
    {
     "name": "stdout",
     "output_type": "stream",
     "text": [
      "Epoch 223 - Validation Loss: 0.4042\n",
      "Epoch 223 - Current Learning Rate: 0.000000\n"
     ]
    },
    {
     "name": "stderr",
     "output_type": "stream",
     "text": [
      "Epoch 224/300 - Training: 100%|██████████| 217/217 [01:08<00:00,  3.16it/s]\n"
     ]
    },
    {
     "name": "stdout",
     "output_type": "stream",
     "text": [
      "Epoch 224 - Training Loss: 0.2681\n"
     ]
    },
    {
     "name": "stderr",
     "output_type": "stream",
     "text": [
      "Epoch 224/300 - Validation: 100%|██████████| 17/17 [00:14<00:00,  1.19it/s]\n"
     ]
    },
    {
     "name": "stdout",
     "output_type": "stream",
     "text": [
      "Epoch 224 - Validation Loss: 0.4042\n",
      "Epoch 224 - Current Learning Rate: 0.000000\n"
     ]
    },
    {
     "name": "stderr",
     "output_type": "stream",
     "text": [
      "Epoch 225/300 - Training: 100%|██████████| 217/217 [01:04<00:00,  3.36it/s]\n"
     ]
    },
    {
     "name": "stdout",
     "output_type": "stream",
     "text": [
      "Epoch 225 - Training Loss: 0.2681\n"
     ]
    },
    {
     "name": "stderr",
     "output_type": "stream",
     "text": [
      "Epoch 225/300 - Validation: 100%|██████████| 17/17 [00:16<00:00,  1.01it/s]\n"
     ]
    },
    {
     "name": "stdout",
     "output_type": "stream",
     "text": [
      "Epoch 225 - Validation Loss: 0.4042\n",
      "Epoch 225 - Current Learning Rate: 0.000000\n"
     ]
    },
    {
     "name": "stderr",
     "output_type": "stream",
     "text": [
      "Epoch 226/300 - Training: 100%|██████████| 217/217 [01:07<00:00,  3.24it/s]\n"
     ]
    },
    {
     "name": "stdout",
     "output_type": "stream",
     "text": [
      "Epoch 226 - Training Loss: 0.2681\n"
     ]
    },
    {
     "name": "stderr",
     "output_type": "stream",
     "text": [
      "Epoch 226/300 - Validation: 100%|██████████| 17/17 [00:16<00:00,  1.04it/s]\n"
     ]
    },
    {
     "name": "stdout",
     "output_type": "stream",
     "text": [
      "Epoch 226 - Validation Loss: 0.4042\n",
      "Epoch 226 - Current Learning Rate: 0.000000\n"
     ]
    },
    {
     "name": "stderr",
     "output_type": "stream",
     "text": [
      "Epoch 227/300 - Training: 100%|██████████| 217/217 [01:11<00:00,  3.03it/s]\n"
     ]
    },
    {
     "name": "stdout",
     "output_type": "stream",
     "text": [
      "Epoch 227 - Training Loss: 0.2682\n"
     ]
    },
    {
     "name": "stderr",
     "output_type": "stream",
     "text": [
      "Epoch 227/300 - Validation: 100%|██████████| 17/17 [00:14<00:00,  1.16it/s]\n"
     ]
    },
    {
     "name": "stdout",
     "output_type": "stream",
     "text": [
      "Epoch 227 - Validation Loss: 0.4042\n",
      "Epoch 227 - Current Learning Rate: 0.000000\n"
     ]
    },
    {
     "name": "stderr",
     "output_type": "stream",
     "text": [
      "Epoch 228/300 - Training: 100%|██████████| 217/217 [01:10<00:00,  3.08it/s]\n"
     ]
    },
    {
     "name": "stdout",
     "output_type": "stream",
     "text": [
      "Epoch 228 - Training Loss: 0.2681\n"
     ]
    },
    {
     "name": "stderr",
     "output_type": "stream",
     "text": [
      "Epoch 228/300 - Validation: 100%|██████████| 17/17 [00:17<00:00,  1.00s/it]\n"
     ]
    },
    {
     "name": "stdout",
     "output_type": "stream",
     "text": [
      "Epoch 228 - Validation Loss: 0.4042\n",
      "Epoch 228 - Current Learning Rate: 0.000000\n"
     ]
    },
    {
     "name": "stderr",
     "output_type": "stream",
     "text": [
      "Epoch 229/300 - Training: 100%|██████████| 217/217 [01:07<00:00,  3.19it/s]\n"
     ]
    },
    {
     "name": "stdout",
     "output_type": "stream",
     "text": [
      "Epoch 229 - Training Loss: 0.2681\n"
     ]
    },
    {
     "name": "stderr",
     "output_type": "stream",
     "text": [
      "Epoch 229/300 - Validation: 100%|██████████| 17/17 [00:15<00:00,  1.12it/s]\n"
     ]
    },
    {
     "name": "stdout",
     "output_type": "stream",
     "text": [
      "Epoch 229 - Validation Loss: 0.4042\n",
      "Epoch 229 - Current Learning Rate: 0.000000\n"
     ]
    },
    {
     "name": "stderr",
     "output_type": "stream",
     "text": [
      "Epoch 230/300 - Training: 100%|██████████| 217/217 [01:08<00:00,  3.19it/s]\n"
     ]
    },
    {
     "name": "stdout",
     "output_type": "stream",
     "text": [
      "Epoch 230 - Training Loss: 0.2681\n"
     ]
    },
    {
     "name": "stderr",
     "output_type": "stream",
     "text": [
      "Epoch 230/300 - Validation: 100%|██████████| 17/17 [00:14<00:00,  1.15it/s]\n"
     ]
    },
    {
     "name": "stdout",
     "output_type": "stream",
     "text": [
      "Epoch 230 - Validation Loss: 0.4042\n",
      "Epoch 230 - Current Learning Rate: 0.000000\n"
     ]
    },
    {
     "name": "stderr",
     "output_type": "stream",
     "text": [
      "Epoch 231/300 - Training: 100%|██████████| 217/217 [01:07<00:00,  3.22it/s]\n"
     ]
    },
    {
     "name": "stdout",
     "output_type": "stream",
     "text": [
      "Epoch 231 - Training Loss: 0.2682\n"
     ]
    },
    {
     "name": "stderr",
     "output_type": "stream",
     "text": [
      "Epoch 231/300 - Validation: 100%|██████████| 17/17 [00:15<00:00,  1.11it/s]\n"
     ]
    },
    {
     "name": "stdout",
     "output_type": "stream",
     "text": [
      "Epoch 231 - Validation Loss: 0.4041\n",
      "Epoch 231 - Current Learning Rate: 0.000000\n"
     ]
    },
    {
     "name": "stderr",
     "output_type": "stream",
     "text": [
      "Epoch 232/300 - Training: 100%|██████████| 217/217 [01:12<00:00,  3.01it/s]\n"
     ]
    },
    {
     "name": "stdout",
     "output_type": "stream",
     "text": [
      "Epoch 232 - Training Loss: 0.2681\n"
     ]
    },
    {
     "name": "stderr",
     "output_type": "stream",
     "text": [
      "Epoch 232/300 - Validation: 100%|██████████| 17/17 [00:15<00:00,  1.07it/s]\n"
     ]
    },
    {
     "name": "stdout",
     "output_type": "stream",
     "text": [
      "Epoch 232 - Validation Loss: 0.4042\n",
      "Epoch 232 - Current Learning Rate: 0.000000\n"
     ]
    },
    {
     "name": "stderr",
     "output_type": "stream",
     "text": [
      "Epoch 233/300 - Training: 100%|██████████| 217/217 [01:10<00:00,  3.06it/s]\n"
     ]
    },
    {
     "name": "stdout",
     "output_type": "stream",
     "text": [
      "Epoch 233 - Training Loss: 0.2681\n"
     ]
    },
    {
     "name": "stderr",
     "output_type": "stream",
     "text": [
      "Epoch 233/300 - Validation: 100%|██████████| 17/17 [00:16<00:00,  1.06it/s]\n"
     ]
    },
    {
     "name": "stdout",
     "output_type": "stream",
     "text": [
      "Epoch 233 - Validation Loss: 0.4042\n",
      "Epoch 233 - Current Learning Rate: 0.000000\n"
     ]
    },
    {
     "name": "stderr",
     "output_type": "stream",
     "text": [
      "Epoch 234/300 - Training: 100%|██████████| 217/217 [01:12<00:00,  2.99it/s]\n"
     ]
    },
    {
     "name": "stdout",
     "output_type": "stream",
     "text": [
      "Epoch 234 - Training Loss: 0.2681\n"
     ]
    },
    {
     "name": "stderr",
     "output_type": "stream",
     "text": [
      "Epoch 234/300 - Validation: 100%|██████████| 17/17 [00:14<00:00,  1.19it/s]\n"
     ]
    },
    {
     "name": "stdout",
     "output_type": "stream",
     "text": [
      "Epoch 234 - Validation Loss: 0.4041\n",
      "Epoch 234 - Current Learning Rate: 0.000000\n"
     ]
    },
    {
     "name": "stderr",
     "output_type": "stream",
     "text": [
      "Epoch 235/300 - Training: 100%|██████████| 217/217 [01:08<00:00,  3.17it/s]\n"
     ]
    },
    {
     "name": "stdout",
     "output_type": "stream",
     "text": [
      "Epoch 235 - Training Loss: 0.2680\n"
     ]
    },
    {
     "name": "stderr",
     "output_type": "stream",
     "text": [
      "Epoch 235/300 - Validation: 100%|██████████| 17/17 [00:14<00:00,  1.15it/s]\n"
     ]
    },
    {
     "name": "stdout",
     "output_type": "stream",
     "text": [
      "Epoch 235 - Validation Loss: 0.4042\n",
      "Epoch 235 - Current Learning Rate: 0.000000\n"
     ]
    },
    {
     "name": "stderr",
     "output_type": "stream",
     "text": [
      "Epoch 236/300 - Training: 100%|██████████| 217/217 [01:05<00:00,  3.32it/s]\n"
     ]
    },
    {
     "name": "stdout",
     "output_type": "stream",
     "text": [
      "Epoch 236 - Training Loss: 0.2681\n"
     ]
    },
    {
     "name": "stderr",
     "output_type": "stream",
     "text": [
      "Epoch 236/300 - Validation: 100%|██████████| 17/17 [00:13<00:00,  1.22it/s]\n"
     ]
    },
    {
     "name": "stdout",
     "output_type": "stream",
     "text": [
      "Epoch 236 - Validation Loss: 0.4042\n",
      "Epoch 236 - Current Learning Rate: 0.000000\n"
     ]
    },
    {
     "name": "stderr",
     "output_type": "stream",
     "text": [
      "Epoch 237/300 - Training: 100%|██████████| 217/217 [01:09<00:00,  3.14it/s]\n"
     ]
    },
    {
     "name": "stdout",
     "output_type": "stream",
     "text": [
      "Epoch 237 - Training Loss: 0.2681\n"
     ]
    },
    {
     "name": "stderr",
     "output_type": "stream",
     "text": [
      "Epoch 237/300 - Validation: 100%|██████████| 17/17 [00:15<00:00,  1.13it/s]\n"
     ]
    },
    {
     "name": "stdout",
     "output_type": "stream",
     "text": [
      "Epoch 237 - Validation Loss: 0.4043\n",
      "Epoch 237 - Current Learning Rate: 0.000000\n"
     ]
    },
    {
     "name": "stderr",
     "output_type": "stream",
     "text": [
      "Epoch 238/300 - Training: 100%|██████████| 217/217 [01:08<00:00,  3.16it/s]\n"
     ]
    },
    {
     "name": "stdout",
     "output_type": "stream",
     "text": [
      "Epoch 238 - Training Loss: 0.2681\n"
     ]
    },
    {
     "name": "stderr",
     "output_type": "stream",
     "text": [
      "Epoch 238/300 - Validation: 100%|██████████| 17/17 [00:13<00:00,  1.23it/s]\n"
     ]
    },
    {
     "name": "stdout",
     "output_type": "stream",
     "text": [
      "Epoch 238 - Validation Loss: 0.4042\n",
      "Epoch 238 - Current Learning Rate: 0.000000\n"
     ]
    },
    {
     "name": "stderr",
     "output_type": "stream",
     "text": [
      "Epoch 239/300 - Training: 100%|██████████| 217/217 [01:05<00:00,  3.31it/s]\n"
     ]
    },
    {
     "name": "stdout",
     "output_type": "stream",
     "text": [
      "Epoch 239 - Training Loss: 0.2681\n"
     ]
    },
    {
     "name": "stderr",
     "output_type": "stream",
     "text": [
      "Epoch 239/300 - Validation: 100%|██████████| 17/17 [00:14<00:00,  1.18it/s]\n"
     ]
    },
    {
     "name": "stdout",
     "output_type": "stream",
     "text": [
      "Epoch 239 - Validation Loss: 0.4042\n",
      "Epoch 239 - Current Learning Rate: 0.000000\n"
     ]
    },
    {
     "name": "stderr",
     "output_type": "stream",
     "text": [
      "Epoch 240/300 - Training: 100%|██████████| 217/217 [01:09<00:00,  3.13it/s]\n"
     ]
    },
    {
     "name": "stdout",
     "output_type": "stream",
     "text": [
      "Epoch 240 - Training Loss: 0.2682\n"
     ]
    },
    {
     "name": "stderr",
     "output_type": "stream",
     "text": [
      "Epoch 240/300 - Validation: 100%|██████████| 17/17 [00:14<00:00,  1.21it/s]\n"
     ]
    },
    {
     "name": "stdout",
     "output_type": "stream",
     "text": [
      "Epoch 240 - Validation Loss: 0.4042\n",
      "Epoch 240 - Current Learning Rate: 0.000000\n"
     ]
    },
    {
     "name": "stderr",
     "output_type": "stream",
     "text": [
      "Epoch 241/300 - Training: 100%|██████████| 217/217 [01:05<00:00,  3.31it/s]\n"
     ]
    },
    {
     "name": "stdout",
     "output_type": "stream",
     "text": [
      "Epoch 241 - Training Loss: 0.2682\n"
     ]
    },
    {
     "name": "stderr",
     "output_type": "stream",
     "text": [
      "Epoch 241/300 - Validation: 100%|██████████| 17/17 [00:14<00:00,  1.18it/s]\n"
     ]
    },
    {
     "name": "stdout",
     "output_type": "stream",
     "text": [
      "Epoch 241 - Validation Loss: 0.4042\n",
      "Epoch 241 - Current Learning Rate: 0.000000\n"
     ]
    },
    {
     "name": "stderr",
     "output_type": "stream",
     "text": [
      "Epoch 242/300 - Training: 100%|██████████| 217/217 [01:10<00:00,  3.09it/s]\n"
     ]
    },
    {
     "name": "stdout",
     "output_type": "stream",
     "text": [
      "Epoch 242 - Training Loss: 0.2681\n"
     ]
    },
    {
     "name": "stderr",
     "output_type": "stream",
     "text": [
      "Epoch 242/300 - Validation: 100%|██████████| 17/17 [00:14<00:00,  1.17it/s]\n"
     ]
    },
    {
     "name": "stdout",
     "output_type": "stream",
     "text": [
      "Epoch 242 - Validation Loss: 0.4042\n",
      "Epoch 242 - Current Learning Rate: 0.000000\n"
     ]
    },
    {
     "name": "stderr",
     "output_type": "stream",
     "text": [
      "Epoch 243/300 - Training: 100%|██████████| 217/217 [01:05<00:00,  3.32it/s]\n"
     ]
    },
    {
     "name": "stdout",
     "output_type": "stream",
     "text": [
      "Epoch 243 - Training Loss: 0.2681\n"
     ]
    },
    {
     "name": "stderr",
     "output_type": "stream",
     "text": [
      "Epoch 243/300 - Validation: 100%|██████████| 17/17 [00:16<00:00,  1.04it/s]\n"
     ]
    },
    {
     "name": "stdout",
     "output_type": "stream",
     "text": [
      "Epoch 243 - Validation Loss: 0.4042\n",
      "Epoch 243 - Current Learning Rate: 0.000000\n"
     ]
    },
    {
     "name": "stderr",
     "output_type": "stream",
     "text": [
      "Epoch 244/300 - Training: 100%|██████████| 217/217 [01:10<00:00,  3.06it/s]\n"
     ]
    },
    {
     "name": "stdout",
     "output_type": "stream",
     "text": [
      "Epoch 244 - Training Loss: 0.2681\n"
     ]
    },
    {
     "name": "stderr",
     "output_type": "stream",
     "text": [
      "Epoch 244/300 - Validation: 100%|██████████| 17/17 [00:16<00:00,  1.02it/s]\n"
     ]
    },
    {
     "name": "stdout",
     "output_type": "stream",
     "text": [
      "Epoch 244 - Validation Loss: 0.4042\n",
      "Epoch 244 - Current Learning Rate: 0.000000\n"
     ]
    },
    {
     "name": "stderr",
     "output_type": "stream",
     "text": [
      "Epoch 245/300 - Training: 100%|██████████| 217/217 [01:10<00:00,  3.07it/s]\n"
     ]
    },
    {
     "name": "stdout",
     "output_type": "stream",
     "text": [
      "Epoch 245 - Training Loss: 0.2681\n"
     ]
    },
    {
     "name": "stderr",
     "output_type": "stream",
     "text": [
      "Epoch 245/300 - Validation: 100%|██████████| 17/17 [00:16<00:00,  1.05it/s]\n"
     ]
    },
    {
     "name": "stdout",
     "output_type": "stream",
     "text": [
      "Epoch 245 - Validation Loss: 0.4042\n",
      "Epoch 245 - Current Learning Rate: 0.000000\n"
     ]
    },
    {
     "name": "stderr",
     "output_type": "stream",
     "text": [
      "Epoch 246/300 - Training: 100%|██████████| 217/217 [01:09<00:00,  3.13it/s]\n"
     ]
    },
    {
     "name": "stdout",
     "output_type": "stream",
     "text": [
      "Epoch 246 - Training Loss: 0.2681\n"
     ]
    },
    {
     "name": "stderr",
     "output_type": "stream",
     "text": [
      "Epoch 246/300 - Validation: 100%|██████████| 17/17 [00:16<00:00,  1.04it/s]\n"
     ]
    },
    {
     "name": "stdout",
     "output_type": "stream",
     "text": [
      "Epoch 246 - Validation Loss: 0.4042\n",
      "Epoch 246 - Current Learning Rate: 0.000000\n"
     ]
    },
    {
     "name": "stderr",
     "output_type": "stream",
     "text": [
      "Epoch 247/300 - Training: 100%|██████████| 217/217 [01:08<00:00,  3.17it/s]\n"
     ]
    },
    {
     "name": "stdout",
     "output_type": "stream",
     "text": [
      "Epoch 247 - Training Loss: 0.2682\n"
     ]
    },
    {
     "name": "stderr",
     "output_type": "stream",
     "text": [
      "Epoch 247/300 - Validation: 100%|██████████| 17/17 [00:17<00:00,  1.00s/it]\n"
     ]
    },
    {
     "name": "stdout",
     "output_type": "stream",
     "text": [
      "Epoch 247 - Validation Loss: 0.4042\n",
      "Epoch 247 - Current Learning Rate: 0.000000\n"
     ]
    },
    {
     "name": "stderr",
     "output_type": "stream",
     "text": [
      "Epoch 248/300 - Training: 100%|██████████| 217/217 [01:10<00:00,  3.07it/s]\n"
     ]
    },
    {
     "name": "stdout",
     "output_type": "stream",
     "text": [
      "Epoch 248 - Training Loss: 0.2681\n"
     ]
    },
    {
     "name": "stderr",
     "output_type": "stream",
     "text": [
      "Epoch 248/300 - Validation: 100%|██████████| 17/17 [00:15<00:00,  1.07it/s]\n"
     ]
    },
    {
     "name": "stdout",
     "output_type": "stream",
     "text": [
      "Epoch 248 - Validation Loss: 0.4042\n",
      "Epoch 248 - Current Learning Rate: 0.000000\n"
     ]
    },
    {
     "name": "stderr",
     "output_type": "stream",
     "text": [
      "Epoch 249/300 - Training: 100%|██████████| 217/217 [01:12<00:00,  3.00it/s]\n"
     ]
    },
    {
     "name": "stdout",
     "output_type": "stream",
     "text": [
      "Epoch 249 - Training Loss: 0.2681\n"
     ]
    },
    {
     "name": "stderr",
     "output_type": "stream",
     "text": [
      "Epoch 249/300 - Validation: 100%|██████████| 17/17 [00:14<00:00,  1.18it/s]\n"
     ]
    },
    {
     "name": "stdout",
     "output_type": "stream",
     "text": [
      "Epoch 249 - Validation Loss: 0.4042\n",
      "Epoch 249 - Current Learning Rate: 0.000000\n"
     ]
    },
    {
     "name": "stderr",
     "output_type": "stream",
     "text": [
      "Epoch 250/300 - Training: 100%|██████████| 217/217 [01:08<00:00,  3.19it/s]\n"
     ]
    },
    {
     "name": "stdout",
     "output_type": "stream",
     "text": [
      "Epoch 250 - Training Loss: 0.2681\n"
     ]
    },
    {
     "name": "stderr",
     "output_type": "stream",
     "text": [
      "Epoch 250/300 - Validation: 100%|██████████| 17/17 [00:16<00:00,  1.02it/s]\n"
     ]
    },
    {
     "name": "stdout",
     "output_type": "stream",
     "text": [
      "Epoch 250 - Validation Loss: 0.4042\n",
      "Epoch 250 - Current Learning Rate: 0.000000\n"
     ]
    },
    {
     "name": "stderr",
     "output_type": "stream",
     "text": [
      "Epoch 251/300 - Training: 100%|██████████| 217/217 [01:08<00:00,  3.16it/s]\n"
     ]
    },
    {
     "name": "stdout",
     "output_type": "stream",
     "text": [
      "Epoch 251 - Training Loss: 0.2682\n"
     ]
    },
    {
     "name": "stderr",
     "output_type": "stream",
     "text": [
      "Epoch 251/300 - Validation: 100%|██████████| 17/17 [00:13<00:00,  1.22it/s]\n"
     ]
    },
    {
     "name": "stdout",
     "output_type": "stream",
     "text": [
      "Epoch 251 - Validation Loss: 0.4042\n",
      "Epoch 251 - Current Learning Rate: 0.000000\n"
     ]
    },
    {
     "name": "stderr",
     "output_type": "stream",
     "text": [
      "Epoch 252/300 - Training: 100%|██████████| 217/217 [01:05<00:00,  3.33it/s]\n"
     ]
    },
    {
     "name": "stdout",
     "output_type": "stream",
     "text": [
      "Epoch 252 - Training Loss: 0.2681\n"
     ]
    },
    {
     "name": "stderr",
     "output_type": "stream",
     "text": [
      "Epoch 252/300 - Validation: 100%|██████████| 17/17 [00:17<00:00,  1.01s/it]\n"
     ]
    },
    {
     "name": "stdout",
     "output_type": "stream",
     "text": [
      "Epoch 252 - Validation Loss: 0.4042\n",
      "Epoch 252 - Current Learning Rate: 0.000000\n"
     ]
    },
    {
     "name": "stderr",
     "output_type": "stream",
     "text": [
      "Epoch 253/300 - Training: 100%|██████████| 217/217 [01:08<00:00,  3.18it/s]\n"
     ]
    },
    {
     "name": "stdout",
     "output_type": "stream",
     "text": [
      "Epoch 253 - Training Loss: 0.2681\n"
     ]
    },
    {
     "name": "stderr",
     "output_type": "stream",
     "text": [
      "Epoch 253/300 - Validation: 100%|██████████| 17/17 [00:14<00:00,  1.16it/s]\n"
     ]
    },
    {
     "name": "stdout",
     "output_type": "stream",
     "text": [
      "Epoch 253 - Validation Loss: 0.4042\n",
      "Epoch 253 - Current Learning Rate: 0.000000\n"
     ]
    },
    {
     "name": "stderr",
     "output_type": "stream",
     "text": [
      "Epoch 254/300 - Training: 100%|██████████| 217/217 [01:05<00:00,  3.31it/s]\n"
     ]
    },
    {
     "name": "stdout",
     "output_type": "stream",
     "text": [
      "Epoch 254 - Training Loss: 0.2681\n"
     ]
    },
    {
     "name": "stderr",
     "output_type": "stream",
     "text": [
      "Epoch 254/300 - Validation: 100%|██████████| 17/17 [00:15<00:00,  1.12it/s]\n"
     ]
    },
    {
     "name": "stdout",
     "output_type": "stream",
     "text": [
      "Epoch 254 - Validation Loss: 0.4042\n",
      "Epoch 254 - Current Learning Rate: 0.000000\n"
     ]
    },
    {
     "name": "stderr",
     "output_type": "stream",
     "text": [
      "Epoch 255/300 - Training: 100%|██████████| 217/217 [01:07<00:00,  3.21it/s]\n"
     ]
    },
    {
     "name": "stdout",
     "output_type": "stream",
     "text": [
      "Epoch 255 - Training Loss: 0.2681\n"
     ]
    },
    {
     "name": "stderr",
     "output_type": "stream",
     "text": [
      "Epoch 255/300 - Validation: 100%|██████████| 17/17 [00:14<00:00,  1.21it/s]\n"
     ]
    },
    {
     "name": "stdout",
     "output_type": "stream",
     "text": [
      "Epoch 255 - Validation Loss: 0.4042\n",
      "Epoch 255 - Current Learning Rate: 0.000000\n"
     ]
    },
    {
     "name": "stderr",
     "output_type": "stream",
     "text": [
      "Epoch 256/300 - Training: 100%|██████████| 217/217 [01:03<00:00,  3.40it/s]\n"
     ]
    },
    {
     "name": "stdout",
     "output_type": "stream",
     "text": [
      "Epoch 256 - Training Loss: 0.2681\n"
     ]
    },
    {
     "name": "stderr",
     "output_type": "stream",
     "text": [
      "Epoch 256/300 - Validation: 100%|██████████| 17/17 [00:14<00:00,  1.14it/s]\n"
     ]
    },
    {
     "name": "stdout",
     "output_type": "stream",
     "text": [
      "Epoch 256 - Validation Loss: 0.4042\n",
      "Epoch 256 - Current Learning Rate: 0.000000\n"
     ]
    },
    {
     "name": "stderr",
     "output_type": "stream",
     "text": [
      "Epoch 257/300 - Training: 100%|██████████| 217/217 [01:09<00:00,  3.10it/s]\n"
     ]
    },
    {
     "name": "stdout",
     "output_type": "stream",
     "text": [
      "Epoch 257 - Training Loss: 0.2681\n"
     ]
    },
    {
     "name": "stderr",
     "output_type": "stream",
     "text": [
      "Epoch 257/300 - Validation: 100%|██████████| 17/17 [00:14<00:00,  1.21it/s]\n"
     ]
    },
    {
     "name": "stdout",
     "output_type": "stream",
     "text": [
      "Epoch 257 - Validation Loss: 0.4042\n",
      "Epoch 257 - Current Learning Rate: 0.000000\n"
     ]
    },
    {
     "name": "stderr",
     "output_type": "stream",
     "text": [
      "Epoch 258/300 - Training: 100%|██████████| 217/217 [01:08<00:00,  3.18it/s]\n"
     ]
    },
    {
     "name": "stdout",
     "output_type": "stream",
     "text": [
      "Epoch 258 - Training Loss: 0.2681\n"
     ]
    },
    {
     "name": "stderr",
     "output_type": "stream",
     "text": [
      "Epoch 258/300 - Validation: 100%|██████████| 17/17 [00:16<00:00,  1.01it/s]\n"
     ]
    },
    {
     "name": "stdout",
     "output_type": "stream",
     "text": [
      "Epoch 258 - Validation Loss: 0.4042\n",
      "Epoch 258 - Current Learning Rate: 0.000000\n"
     ]
    },
    {
     "name": "stderr",
     "output_type": "stream",
     "text": [
      "Epoch 259/300 - Training: 100%|██████████| 217/217 [01:08<00:00,  3.16it/s]\n"
     ]
    },
    {
     "name": "stdout",
     "output_type": "stream",
     "text": [
      "Epoch 259 - Training Loss: 0.2682\n"
     ]
    },
    {
     "name": "stderr",
     "output_type": "stream",
     "text": [
      "Epoch 259/300 - Validation: 100%|██████████| 17/17 [00:16<00:00,  1.05it/s]\n"
     ]
    },
    {
     "name": "stdout",
     "output_type": "stream",
     "text": [
      "Epoch 259 - Validation Loss: 0.4042\n",
      "Epoch 259 - Current Learning Rate: 0.000000\n"
     ]
    },
    {
     "name": "stderr",
     "output_type": "stream",
     "text": [
      "Epoch 260/300 - Training: 100%|██████████| 217/217 [01:08<00:00,  3.19it/s]\n"
     ]
    },
    {
     "name": "stdout",
     "output_type": "stream",
     "text": [
      "Epoch 260 - Training Loss: 0.2681\n"
     ]
    },
    {
     "name": "stderr",
     "output_type": "stream",
     "text": [
      "Epoch 260/300 - Validation: 100%|██████████| 17/17 [00:14<00:00,  1.19it/s]\n"
     ]
    },
    {
     "name": "stdout",
     "output_type": "stream",
     "text": [
      "Epoch 260 - Validation Loss: 0.4042\n",
      "Epoch 260 - Current Learning Rate: 0.000000\n"
     ]
    },
    {
     "name": "stderr",
     "output_type": "stream",
     "text": [
      "Epoch 261/300 - Training: 100%|██████████| 217/217 [01:06<00:00,  3.25it/s]\n"
     ]
    },
    {
     "name": "stdout",
     "output_type": "stream",
     "text": [
      "Epoch 261 - Training Loss: 0.2681\n"
     ]
    },
    {
     "name": "stderr",
     "output_type": "stream",
     "text": [
      "Epoch 261/300 - Validation: 100%|██████████| 17/17 [00:15<00:00,  1.10it/s]\n"
     ]
    },
    {
     "name": "stdout",
     "output_type": "stream",
     "text": [
      "Epoch 261 - Validation Loss: 0.4042\n",
      "Epoch 261 - Current Learning Rate: 0.000000\n"
     ]
    },
    {
     "name": "stderr",
     "output_type": "stream",
     "text": [
      "Epoch 262/300 - Training: 100%|██████████| 217/217 [01:06<00:00,  3.26it/s]\n"
     ]
    },
    {
     "name": "stdout",
     "output_type": "stream",
     "text": [
      "Epoch 262 - Training Loss: 0.2681\n"
     ]
    },
    {
     "name": "stderr",
     "output_type": "stream",
     "text": [
      "Epoch 262/300 - Validation: 100%|██████████| 17/17 [00:17<00:00,  1.01s/it]\n"
     ]
    },
    {
     "name": "stdout",
     "output_type": "stream",
     "text": [
      "Epoch 262 - Validation Loss: 0.4042\n",
      "Epoch 262 - Current Learning Rate: 0.000000\n"
     ]
    },
    {
     "name": "stderr",
     "output_type": "stream",
     "text": [
      "Epoch 263/300 - Training: 100%|██████████| 217/217 [01:09<00:00,  3.11it/s]\n"
     ]
    },
    {
     "name": "stdout",
     "output_type": "stream",
     "text": [
      "Epoch 263 - Training Loss: 0.2682\n"
     ]
    },
    {
     "name": "stderr",
     "output_type": "stream",
     "text": [
      "Epoch 263/300 - Validation: 100%|██████████| 17/17 [00:15<00:00,  1.13it/s]\n"
     ]
    },
    {
     "name": "stdout",
     "output_type": "stream",
     "text": [
      "Epoch 263 - Validation Loss: 0.4042\n",
      "Epoch 263 - Current Learning Rate: 0.000000\n"
     ]
    },
    {
     "name": "stderr",
     "output_type": "stream",
     "text": [
      "Epoch 264/300 - Training: 100%|██████████| 217/217 [01:05<00:00,  3.30it/s]\n"
     ]
    },
    {
     "name": "stdout",
     "output_type": "stream",
     "text": [
      "Epoch 264 - Training Loss: 0.2681\n"
     ]
    },
    {
     "name": "stderr",
     "output_type": "stream",
     "text": [
      "Epoch 264/300 - Validation: 100%|██████████| 17/17 [00:15<00:00,  1.11it/s]\n"
     ]
    },
    {
     "name": "stdout",
     "output_type": "stream",
     "text": [
      "Epoch 264 - Validation Loss: 0.4042\n",
      "Epoch 264 - Current Learning Rate: 0.000000\n"
     ]
    },
    {
     "name": "stderr",
     "output_type": "stream",
     "text": [
      "Epoch 265/300 - Training: 100%|██████████| 217/217 [01:08<00:00,  3.15it/s]\n"
     ]
    },
    {
     "name": "stdout",
     "output_type": "stream",
     "text": [
      "Epoch 265 - Training Loss: 0.2681\n"
     ]
    },
    {
     "name": "stderr",
     "output_type": "stream",
     "text": [
      "Epoch 265/300 - Validation: 100%|██████████| 17/17 [00:16<00:00,  1.06it/s]\n"
     ]
    },
    {
     "name": "stdout",
     "output_type": "stream",
     "text": [
      "Epoch 265 - Validation Loss: 0.4042\n",
      "Epoch 265 - Current Learning Rate: 0.000000\n"
     ]
    },
    {
     "name": "stderr",
     "output_type": "stream",
     "text": [
      "Epoch 266/300 - Training: 100%|██████████| 217/217 [01:07<00:00,  3.22it/s]\n"
     ]
    },
    {
     "name": "stdout",
     "output_type": "stream",
     "text": [
      "Epoch 266 - Training Loss: 0.2681\n"
     ]
    },
    {
     "name": "stderr",
     "output_type": "stream",
     "text": [
      "Epoch 266/300 - Validation: 100%|██████████| 17/17 [00:15<00:00,  1.06it/s]\n"
     ]
    },
    {
     "name": "stdout",
     "output_type": "stream",
     "text": [
      "Epoch 266 - Validation Loss: 0.4042\n",
      "Epoch 266 - Current Learning Rate: 0.000000\n"
     ]
    },
    {
     "name": "stderr",
     "output_type": "stream",
     "text": [
      "Epoch 267/300 - Training: 100%|██████████| 217/217 [01:09<00:00,  3.13it/s]\n"
     ]
    },
    {
     "name": "stdout",
     "output_type": "stream",
     "text": [
      "Epoch 267 - Training Loss: 0.2681\n"
     ]
    },
    {
     "name": "stderr",
     "output_type": "stream",
     "text": [
      "Epoch 267/300 - Validation: 100%|██████████| 17/17 [00:16<00:00,  1.01it/s]\n"
     ]
    },
    {
     "name": "stdout",
     "output_type": "stream",
     "text": [
      "Epoch 267 - Validation Loss: 0.4042\n",
      "Epoch 267 - Current Learning Rate: 0.000000\n"
     ]
    },
    {
     "name": "stderr",
     "output_type": "stream",
     "text": [
      "Epoch 268/300 - Training: 100%|██████████| 217/217 [01:09<00:00,  3.11it/s]\n"
     ]
    },
    {
     "name": "stdout",
     "output_type": "stream",
     "text": [
      "Epoch 268 - Training Loss: 0.2681\n"
     ]
    },
    {
     "name": "stderr",
     "output_type": "stream",
     "text": [
      "Epoch 268/300 - Validation: 100%|██████████| 17/17 [00:16<00:00,  1.03it/s]\n"
     ]
    },
    {
     "name": "stdout",
     "output_type": "stream",
     "text": [
      "Epoch 268 - Validation Loss: 0.4042\n",
      "Epoch 268 - Current Learning Rate: 0.000000\n"
     ]
    },
    {
     "name": "stderr",
     "output_type": "stream",
     "text": [
      "Epoch 269/300 - Training: 100%|██████████| 217/217 [01:10<00:00,  3.07it/s]\n"
     ]
    },
    {
     "name": "stdout",
     "output_type": "stream",
     "text": [
      "Epoch 269 - Training Loss: 0.2681\n"
     ]
    },
    {
     "name": "stderr",
     "output_type": "stream",
     "text": [
      "Epoch 269/300 - Validation: 100%|██████████| 17/17 [00:14<00:00,  1.18it/s]\n"
     ]
    },
    {
     "name": "stdout",
     "output_type": "stream",
     "text": [
      "Epoch 269 - Validation Loss: 0.4042\n",
      "Epoch 269 - Current Learning Rate: 0.000000\n"
     ]
    },
    {
     "name": "stderr",
     "output_type": "stream",
     "text": [
      "Epoch 270/300 - Training: 100%|██████████| 217/217 [01:09<00:00,  3.11it/s]\n"
     ]
    },
    {
     "name": "stdout",
     "output_type": "stream",
     "text": [
      "Epoch 270 - Training Loss: 0.2681\n"
     ]
    },
    {
     "name": "stderr",
     "output_type": "stream",
     "text": [
      "Epoch 270/300 - Validation: 100%|██████████| 17/17 [00:15<00:00,  1.11it/s]\n"
     ]
    },
    {
     "name": "stdout",
     "output_type": "stream",
     "text": [
      "Epoch 270 - Validation Loss: 0.4042\n",
      "Epoch 270 - Current Learning Rate: 0.000000\n"
     ]
    },
    {
     "name": "stderr",
     "output_type": "stream",
     "text": [
      "Epoch 271/300 - Training: 100%|██████████| 217/217 [01:06<00:00,  3.26it/s]\n"
     ]
    },
    {
     "name": "stdout",
     "output_type": "stream",
     "text": [
      "Epoch 271 - Training Loss: 0.2681\n"
     ]
    },
    {
     "name": "stderr",
     "output_type": "stream",
     "text": [
      "Epoch 271/300 - Validation: 100%|██████████| 17/17 [00:16<00:00,  1.04it/s]\n"
     ]
    },
    {
     "name": "stdout",
     "output_type": "stream",
     "text": [
      "Epoch 271 - Validation Loss: 0.4042\n",
      "Epoch 271 - Current Learning Rate: 0.000000\n"
     ]
    },
    {
     "name": "stderr",
     "output_type": "stream",
     "text": [
      "Epoch 272/300 - Training: 100%|██████████| 217/217 [01:10<00:00,  3.09it/s]\n"
     ]
    },
    {
     "name": "stdout",
     "output_type": "stream",
     "text": [
      "Epoch 272 - Training Loss: 0.2682\n"
     ]
    },
    {
     "name": "stderr",
     "output_type": "stream",
     "text": [
      "Epoch 272/300 - Validation: 100%|██████████| 17/17 [00:16<00:00,  1.01it/s]\n"
     ]
    },
    {
     "name": "stdout",
     "output_type": "stream",
     "text": [
      "Epoch 272 - Validation Loss: 0.4042\n",
      "Epoch 272 - Current Learning Rate: 0.000000\n"
     ]
    },
    {
     "name": "stderr",
     "output_type": "stream",
     "text": [
      "Epoch 273/300 - Training: 100%|██████████| 217/217 [01:08<00:00,  3.15it/s]\n"
     ]
    },
    {
     "name": "stdout",
     "output_type": "stream",
     "text": [
      "Epoch 273 - Training Loss: 0.2681\n"
     ]
    },
    {
     "name": "stderr",
     "output_type": "stream",
     "text": [
      "Epoch 273/300 - Validation: 100%|██████████| 17/17 [00:14<00:00,  1.16it/s]\n"
     ]
    },
    {
     "name": "stdout",
     "output_type": "stream",
     "text": [
      "Epoch 273 - Validation Loss: 0.4042\n",
      "Epoch 273 - Current Learning Rate: 0.000000\n"
     ]
    },
    {
     "name": "stderr",
     "output_type": "stream",
     "text": [
      "Epoch 274/300 - Training: 100%|██████████| 217/217 [01:07<00:00,  3.23it/s]\n"
     ]
    },
    {
     "name": "stdout",
     "output_type": "stream",
     "text": [
      "Epoch 274 - Training Loss: 0.2681\n"
     ]
    },
    {
     "name": "stderr",
     "output_type": "stream",
     "text": [
      "Epoch 274/300 - Validation: 100%|██████████| 17/17 [00:14<00:00,  1.21it/s]\n"
     ]
    },
    {
     "name": "stdout",
     "output_type": "stream",
     "text": [
      "Epoch 274 - Validation Loss: 0.4042\n",
      "Epoch 274 - Current Learning Rate: 0.000000\n"
     ]
    },
    {
     "name": "stderr",
     "output_type": "stream",
     "text": [
      "Epoch 275/300 - Training: 100%|██████████| 217/217 [01:11<00:00,  3.05it/s]\n"
     ]
    },
    {
     "name": "stdout",
     "output_type": "stream",
     "text": [
      "Epoch 275 - Training Loss: 0.2681\n"
     ]
    },
    {
     "name": "stderr",
     "output_type": "stream",
     "text": [
      "Epoch 275/300 - Validation: 100%|██████████| 17/17 [00:14<00:00,  1.21it/s]\n"
     ]
    },
    {
     "name": "stdout",
     "output_type": "stream",
     "text": [
      "Epoch 275 - Validation Loss: 0.4042\n",
      "Epoch 275 - Current Learning Rate: 0.000000\n"
     ]
    },
    {
     "name": "stderr",
     "output_type": "stream",
     "text": [
      "Epoch 276/300 - Training: 100%|██████████| 217/217 [01:05<00:00,  3.32it/s]\n"
     ]
    },
    {
     "name": "stdout",
     "output_type": "stream",
     "text": [
      "Epoch 276 - Training Loss: 0.2681\n"
     ]
    },
    {
     "name": "stderr",
     "output_type": "stream",
     "text": [
      "Epoch 276/300 - Validation: 100%|██████████| 17/17 [00:14<00:00,  1.15it/s]\n"
     ]
    },
    {
     "name": "stdout",
     "output_type": "stream",
     "text": [
      "Epoch 276 - Validation Loss: 0.4042\n",
      "Epoch 276 - Current Learning Rate: 0.000000\n"
     ]
    },
    {
     "name": "stderr",
     "output_type": "stream",
     "text": [
      "Epoch 277/300 - Training: 100%|██████████| 217/217 [01:08<00:00,  3.18it/s]\n"
     ]
    },
    {
     "name": "stdout",
     "output_type": "stream",
     "text": [
      "Epoch 277 - Training Loss: 0.2681\n"
     ]
    },
    {
     "name": "stderr",
     "output_type": "stream",
     "text": [
      "Epoch 277/300 - Validation: 100%|██████████| 17/17 [00:17<00:00,  1.01s/it]\n"
     ]
    },
    {
     "name": "stdout",
     "output_type": "stream",
     "text": [
      "Epoch 277 - Validation Loss: 0.4042\n",
      "Epoch 277 - Current Learning Rate: 0.000000\n"
     ]
    },
    {
     "name": "stderr",
     "output_type": "stream",
     "text": [
      "Epoch 278/300 - Training: 100%|██████████| 217/217 [01:09<00:00,  3.12it/s]\n"
     ]
    },
    {
     "name": "stdout",
     "output_type": "stream",
     "text": [
      "Epoch 278 - Training Loss: 0.2681\n"
     ]
    },
    {
     "name": "stderr",
     "output_type": "stream",
     "text": [
      "Epoch 278/300 - Validation: 100%|██████████| 17/17 [00:14<00:00,  1.20it/s]\n"
     ]
    },
    {
     "name": "stdout",
     "output_type": "stream",
     "text": [
      "Epoch 278 - Validation Loss: 0.4042\n",
      "Epoch 278 - Current Learning Rate: 0.000000\n"
     ]
    },
    {
     "name": "stderr",
     "output_type": "stream",
     "text": [
      "Epoch 279/300 - Training: 100%|██████████| 217/217 [01:07<00:00,  3.22it/s]\n"
     ]
    },
    {
     "name": "stdout",
     "output_type": "stream",
     "text": [
      "Epoch 279 - Training Loss: 0.2681\n"
     ]
    },
    {
     "name": "stderr",
     "output_type": "stream",
     "text": [
      "Epoch 279/300 - Validation: 100%|██████████| 17/17 [00:17<00:00,  1.01s/it]\n"
     ]
    },
    {
     "name": "stdout",
     "output_type": "stream",
     "text": [
      "Epoch 279 - Validation Loss: 0.4041\n",
      "Epoch 279 - Current Learning Rate: 0.000000\n"
     ]
    },
    {
     "name": "stderr",
     "output_type": "stream",
     "text": [
      "Epoch 280/300 - Training: 100%|██████████| 217/217 [01:10<00:00,  3.08it/s]\n"
     ]
    },
    {
     "name": "stdout",
     "output_type": "stream",
     "text": [
      "Epoch 280 - Training Loss: 0.2681\n"
     ]
    },
    {
     "name": "stderr",
     "output_type": "stream",
     "text": [
      "Epoch 280/300 - Validation: 100%|██████████| 17/17 [00:14<00:00,  1.15it/s]\n"
     ]
    },
    {
     "name": "stdout",
     "output_type": "stream",
     "text": [
      "Epoch 280 - Validation Loss: 0.4042\n",
      "Epoch 280 - Current Learning Rate: 0.000000\n"
     ]
    },
    {
     "name": "stderr",
     "output_type": "stream",
     "text": [
      "Epoch 281/300 - Training: 100%|██████████| 217/217 [01:08<00:00,  3.19it/s]\n"
     ]
    },
    {
     "name": "stdout",
     "output_type": "stream",
     "text": [
      "Epoch 281 - Training Loss: 0.2682\n"
     ]
    },
    {
     "name": "stderr",
     "output_type": "stream",
     "text": [
      "Epoch 281/300 - Validation: 100%|██████████| 17/17 [00:14<00:00,  1.17it/s]\n"
     ]
    },
    {
     "name": "stdout",
     "output_type": "stream",
     "text": [
      "Epoch 281 - Validation Loss: 0.4042\n",
      "Epoch 281 - Current Learning Rate: 0.000000\n"
     ]
    },
    {
     "name": "stderr",
     "output_type": "stream",
     "text": [
      "Epoch 282/300 - Training: 100%|██████████| 217/217 [01:07<00:00,  3.19it/s]\n"
     ]
    },
    {
     "name": "stdout",
     "output_type": "stream",
     "text": [
      "Epoch 282 - Training Loss: 0.2681\n"
     ]
    },
    {
     "name": "stderr",
     "output_type": "stream",
     "text": [
      "Epoch 282/300 - Validation: 100%|██████████| 17/17 [00:16<00:00,  1.03it/s]\n"
     ]
    },
    {
     "name": "stdout",
     "output_type": "stream",
     "text": [
      "Epoch 282 - Validation Loss: 0.4042\n",
      "Epoch 282 - Current Learning Rate: 0.000000\n"
     ]
    },
    {
     "name": "stderr",
     "output_type": "stream",
     "text": [
      "Epoch 283/300 - Training: 100%|██████████| 217/217 [01:12<00:00,  3.00it/s]\n"
     ]
    },
    {
     "name": "stdout",
     "output_type": "stream",
     "text": [
      "Epoch 283 - Training Loss: 0.2681\n"
     ]
    },
    {
     "name": "stderr",
     "output_type": "stream",
     "text": [
      "Epoch 283/300 - Validation: 100%|██████████| 17/17 [00:14<00:00,  1.14it/s]\n"
     ]
    },
    {
     "name": "stdout",
     "output_type": "stream",
     "text": [
      "Epoch 283 - Validation Loss: 0.4042\n",
      "Epoch 283 - Current Learning Rate: 0.000000\n"
     ]
    },
    {
     "name": "stderr",
     "output_type": "stream",
     "text": [
      "Epoch 284/300 - Training: 100%|██████████| 217/217 [01:08<00:00,  3.16it/s]\n"
     ]
    },
    {
     "name": "stdout",
     "output_type": "stream",
     "text": [
      "Epoch 284 - Training Loss: 0.2681\n"
     ]
    },
    {
     "name": "stderr",
     "output_type": "stream",
     "text": [
      "Epoch 284/300 - Validation: 100%|██████████| 17/17 [00:13<00:00,  1.24it/s]\n"
     ]
    },
    {
     "name": "stdout",
     "output_type": "stream",
     "text": [
      "Epoch 284 - Validation Loss: 0.4042\n",
      "Epoch 284 - Current Learning Rate: 0.000000\n"
     ]
    },
    {
     "name": "stderr",
     "output_type": "stream",
     "text": [
      "Epoch 285/300 - Training: 100%|██████████| 217/217 [01:04<00:00,  3.34it/s]\n"
     ]
    },
    {
     "name": "stdout",
     "output_type": "stream",
     "text": [
      "Epoch 285 - Training Loss: 0.2681\n"
     ]
    },
    {
     "name": "stderr",
     "output_type": "stream",
     "text": [
      "Epoch 285/300 - Validation: 100%|██████████| 17/17 [00:14<00:00,  1.16it/s]\n"
     ]
    },
    {
     "name": "stdout",
     "output_type": "stream",
     "text": [
      "Epoch 285 - Validation Loss: 0.4042\n",
      "Epoch 285 - Current Learning Rate: 0.000000\n"
     ]
    },
    {
     "name": "stderr",
     "output_type": "stream",
     "text": [
      "Epoch 286/300 - Training: 100%|██████████| 217/217 [01:04<00:00,  3.35it/s]\n"
     ]
    },
    {
     "name": "stdout",
     "output_type": "stream",
     "text": [
      "Epoch 286 - Training Loss: 0.2681\n"
     ]
    },
    {
     "name": "stderr",
     "output_type": "stream",
     "text": [
      "Epoch 286/300 - Validation: 100%|██████████| 17/17 [00:14<00:00,  1.21it/s]\n"
     ]
    },
    {
     "name": "stdout",
     "output_type": "stream",
     "text": [
      "Epoch 286 - Validation Loss: 0.4042\n",
      "Epoch 286 - Current Learning Rate: 0.000000\n"
     ]
    },
    {
     "name": "stderr",
     "output_type": "stream",
     "text": [
      "Epoch 287/300 - Training: 100%|██████████| 217/217 [01:04<00:00,  3.36it/s]\n"
     ]
    },
    {
     "name": "stdout",
     "output_type": "stream",
     "text": [
      "Epoch 287 - Training Loss: 0.2681\n"
     ]
    },
    {
     "name": "stderr",
     "output_type": "stream",
     "text": [
      "Epoch 287/300 - Validation: 100%|██████████| 17/17 [00:16<00:00,  1.00it/s]\n"
     ]
    },
    {
     "name": "stdout",
     "output_type": "stream",
     "text": [
      "Epoch 287 - Validation Loss: 0.4042\n",
      "Epoch 287 - Current Learning Rate: 0.000000\n"
     ]
    },
    {
     "name": "stderr",
     "output_type": "stream",
     "text": [
      "Epoch 288/300 - Training: 100%|██████████| 217/217 [01:08<00:00,  3.18it/s]\n"
     ]
    },
    {
     "name": "stdout",
     "output_type": "stream",
     "text": [
      "Epoch 288 - Training Loss: 0.2682\n"
     ]
    },
    {
     "name": "stderr",
     "output_type": "stream",
     "text": [
      "Epoch 288/300 - Validation: 100%|██████████| 17/17 [00:16<00:00,  1.01it/s]\n"
     ]
    },
    {
     "name": "stdout",
     "output_type": "stream",
     "text": [
      "Epoch 288 - Validation Loss: 0.4042\n",
      "Epoch 288 - Current Learning Rate: 0.000000\n"
     ]
    },
    {
     "name": "stderr",
     "output_type": "stream",
     "text": [
      "Epoch 289/300 - Training: 100%|██████████| 217/217 [01:11<00:00,  3.01it/s]\n"
     ]
    },
    {
     "name": "stdout",
     "output_type": "stream",
     "text": [
      "Epoch 289 - Training Loss: 0.2682\n"
     ]
    },
    {
     "name": "stderr",
     "output_type": "stream",
     "text": [
      "Epoch 289/300 - Validation: 100%|██████████| 17/17 [00:15<00:00,  1.12it/s]\n"
     ]
    },
    {
     "name": "stdout",
     "output_type": "stream",
     "text": [
      "Epoch 289 - Validation Loss: 0.4042\n",
      "Epoch 289 - Current Learning Rate: 0.000000\n"
     ]
    },
    {
     "name": "stderr",
     "output_type": "stream",
     "text": [
      "Epoch 290/300 - Training: 100%|██████████| 217/217 [01:06<00:00,  3.25it/s]\n"
     ]
    },
    {
     "name": "stdout",
     "output_type": "stream",
     "text": [
      "Epoch 290 - Training Loss: 0.2681\n"
     ]
    },
    {
     "name": "stderr",
     "output_type": "stream",
     "text": [
      "Epoch 290/300 - Validation: 100%|██████████| 17/17 [00:14<00:00,  1.16it/s]\n"
     ]
    },
    {
     "name": "stdout",
     "output_type": "stream",
     "text": [
      "Epoch 290 - Validation Loss: 0.4042\n",
      "Epoch 290 - Current Learning Rate: 0.000000\n"
     ]
    },
    {
     "name": "stderr",
     "output_type": "stream",
     "text": [
      "Epoch 291/300 - Training: 100%|██████████| 217/217 [01:12<00:00,  3.00it/s]\n"
     ]
    },
    {
     "name": "stdout",
     "output_type": "stream",
     "text": [
      "Epoch 291 - Training Loss: 0.2681\n"
     ]
    },
    {
     "name": "stderr",
     "output_type": "stream",
     "text": [
      "Epoch 291/300 - Validation: 100%|██████████| 17/17 [00:13<00:00,  1.22it/s]\n"
     ]
    },
    {
     "name": "stdout",
     "output_type": "stream",
     "text": [
      "Epoch 291 - Validation Loss: 0.4042\n",
      "Epoch 291 - Current Learning Rate: 0.000000\n"
     ]
    },
    {
     "name": "stderr",
     "output_type": "stream",
     "text": [
      "Epoch 292/300 - Training: 100%|██████████| 217/217 [01:07<00:00,  3.21it/s]\n"
     ]
    },
    {
     "name": "stdout",
     "output_type": "stream",
     "text": [
      "Epoch 292 - Training Loss: 0.2681\n"
     ]
    },
    {
     "name": "stderr",
     "output_type": "stream",
     "text": [
      "Epoch 292/300 - Validation: 100%|██████████| 17/17 [00:16<00:00,  1.06it/s]\n"
     ]
    },
    {
     "name": "stdout",
     "output_type": "stream",
     "text": [
      "Epoch 292 - Validation Loss: 0.4042\n",
      "Epoch 292 - Current Learning Rate: 0.000000\n"
     ]
    },
    {
     "name": "stderr",
     "output_type": "stream",
     "text": [
      "Epoch 293/300 - Training: 100%|██████████| 217/217 [01:10<00:00,  3.07it/s]\n"
     ]
    },
    {
     "name": "stdout",
     "output_type": "stream",
     "text": [
      "Epoch 293 - Training Loss: 0.2681\n"
     ]
    },
    {
     "name": "stderr",
     "output_type": "stream",
     "text": [
      "Epoch 293/300 - Validation: 100%|██████████| 17/17 [00:15<00:00,  1.07it/s]\n"
     ]
    },
    {
     "name": "stdout",
     "output_type": "stream",
     "text": [
      "Epoch 293 - Validation Loss: 0.4042\n",
      "Epoch 293 - Current Learning Rate: 0.000000\n"
     ]
    },
    {
     "name": "stderr",
     "output_type": "stream",
     "text": [
      "Epoch 294/300 - Training: 100%|██████████| 217/217 [01:11<00:00,  3.03it/s]\n"
     ]
    },
    {
     "name": "stdout",
     "output_type": "stream",
     "text": [
      "Epoch 294 - Training Loss: 0.2681\n"
     ]
    },
    {
     "name": "stderr",
     "output_type": "stream",
     "text": [
      "Epoch 294/300 - Validation: 100%|██████████| 17/17 [00:15<00:00,  1.09it/s]\n"
     ]
    },
    {
     "name": "stdout",
     "output_type": "stream",
     "text": [
      "Epoch 294 - Validation Loss: 0.4042\n",
      "Epoch 294 - Current Learning Rate: 0.000000\n"
     ]
    },
    {
     "name": "stderr",
     "output_type": "stream",
     "text": [
      "Epoch 295/300 - Training: 100%|██████████| 217/217 [01:11<00:00,  3.02it/s]\n"
     ]
    },
    {
     "name": "stdout",
     "output_type": "stream",
     "text": [
      "Epoch 295 - Training Loss: 0.2681\n"
     ]
    },
    {
     "name": "stderr",
     "output_type": "stream",
     "text": [
      "Epoch 295/300 - Validation: 100%|██████████| 17/17 [00:15<00:00,  1.07it/s]\n"
     ]
    },
    {
     "name": "stdout",
     "output_type": "stream",
     "text": [
      "Epoch 295 - Validation Loss: 0.4042\n",
      "Epoch 295 - Current Learning Rate: 0.000000\n"
     ]
    },
    {
     "name": "stderr",
     "output_type": "stream",
     "text": [
      "Epoch 296/300 - Training: 100%|██████████| 217/217 [01:09<00:00,  3.14it/s]\n"
     ]
    },
    {
     "name": "stdout",
     "output_type": "stream",
     "text": [
      "Epoch 296 - Training Loss: 0.2682\n"
     ]
    },
    {
     "name": "stderr",
     "output_type": "stream",
     "text": [
      "Epoch 296/300 - Validation: 100%|██████████| 17/17 [00:16<00:00,  1.00it/s]\n"
     ]
    },
    {
     "name": "stdout",
     "output_type": "stream",
     "text": [
      "Epoch 296 - Validation Loss: 0.4042\n",
      "Epoch 296 - Current Learning Rate: 0.000000\n"
     ]
    },
    {
     "name": "stderr",
     "output_type": "stream",
     "text": [
      "Epoch 297/300 - Training: 100%|██████████| 217/217 [01:07<00:00,  3.22it/s]\n"
     ]
    },
    {
     "name": "stdout",
     "output_type": "stream",
     "text": [
      "Epoch 297 - Training Loss: 0.2681\n"
     ]
    },
    {
     "name": "stderr",
     "output_type": "stream",
     "text": [
      "Epoch 297/300 - Validation: 100%|██████████| 17/17 [00:16<00:00,  1.04it/s]\n"
     ]
    },
    {
     "name": "stdout",
     "output_type": "stream",
     "text": [
      "Epoch 297 - Validation Loss: 0.4042\n",
      "Epoch 297 - Current Learning Rate: 0.000000\n"
     ]
    },
    {
     "name": "stderr",
     "output_type": "stream",
     "text": [
      "Epoch 298/300 - Training: 100%|██████████| 217/217 [01:06<00:00,  3.29it/s]\n"
     ]
    },
    {
     "name": "stdout",
     "output_type": "stream",
     "text": [
      "Epoch 298 - Training Loss: 0.2681\n"
     ]
    },
    {
     "name": "stderr",
     "output_type": "stream",
     "text": [
      "Epoch 298/300 - Validation: 100%|██████████| 17/17 [00:15<00:00,  1.11it/s]\n"
     ]
    },
    {
     "name": "stdout",
     "output_type": "stream",
     "text": [
      "Epoch 298 - Validation Loss: 0.4042\n",
      "Epoch 298 - Current Learning Rate: 0.000000\n"
     ]
    },
    {
     "name": "stderr",
     "output_type": "stream",
     "text": [
      "Epoch 299/300 - Training: 100%|██████████| 217/217 [01:08<00:00,  3.17it/s]\n"
     ]
    },
    {
     "name": "stdout",
     "output_type": "stream",
     "text": [
      "Epoch 299 - Training Loss: 0.2681\n"
     ]
    },
    {
     "name": "stderr",
     "output_type": "stream",
     "text": [
      "Epoch 299/300 - Validation: 100%|██████████| 17/17 [00:14<00:00,  1.16it/s]\n"
     ]
    },
    {
     "name": "stdout",
     "output_type": "stream",
     "text": [
      "Epoch 299 - Validation Loss: 0.4042\n",
      "Epoch 299 - Current Learning Rate: 0.000000\n"
     ]
    },
    {
     "name": "stderr",
     "output_type": "stream",
     "text": [
      "Epoch 300/300 - Training: 100%|██████████| 217/217 [01:09<00:00,  3.14it/s]\n"
     ]
    },
    {
     "name": "stdout",
     "output_type": "stream",
     "text": [
      "Epoch 300 - Training Loss: 0.2681\n"
     ]
    },
    {
     "name": "stderr",
     "output_type": "stream",
     "text": [
      "Epoch 300/300 - Validation: 100%|██████████| 17/17 [00:17<00:00,  1.03s/it]"
     ]
    },
    {
     "name": "stdout",
     "output_type": "stream",
     "text": [
      "Epoch 300 - Validation Loss: 0.4042\n",
      "Epoch 300 - Current Learning Rate: 0.000000\n"
     ]
    },
    {
     "name": "stderr",
     "output_type": "stream",
     "text": [
      "\n"
     ]
    }
   ],
   "source": [
    "# 参数和超参数设置\n",
    "device = torch.device(\"cuda\" if torch.cuda.is_available() else \"cpu\")\n",
    "learning_rate = 1e-4\n",
    "num_epochs = 100\n",
    "hidden_dims = [512, 256, 128]\n",
    "\n",
    "# 使用之前完成的数据加载\n",
    "\n",
    "# 模型、损失函数和优化器\n",
    "model = SeismicMLP(input_dim=510, output_dim=301, hidden_dims=hidden_dims)\n",
    "criterion = AmplitudeWeightedMSELoss(epsilon=1e-6, a=0.8)  # 使用自定义的相对均方误差损失\n",
    "optimizer = optim.Adam(model.parameters(), lr=learning_rate)\n",
    "scheduler = torch.optim.lr_scheduler.ReduceLROnPlateau(optimizer, mode='min', factor=0.5, patience=5, verbose=True)\n",
    "\n",
    "# 训练模型\n",
    "train_losses, val_losses = train_model(model, train_loader, valid_loader, num_epochs, criterion, optimizer, device, scheduler)\n"
   ]
  },
  {
   "cell_type": "code",
   "execution_count": 8,
   "metadata": {},
   "outputs": [
    {
     "data": {
      "image/png": "[encoded data removed]",
      "text/plain": [
       "<Figure size 1000x600 with 1 Axes>"
      ]
     },
     "metadata": {},
     "output_type": "display_data"
    }
   ],
   "source": [
    "visualize_loss(train_losses, val_losses)"
   ]
  }
 ],
 "metadata": {
  "kernelspec": {
   "display_name": "deeplearning",
   "language": "python",
   "name": "python3"
  },
  "language_info": {
   "codemirror_mode": {
    "name": "ipython",
    "version": 3
   },
   "file_extension": ".py",
   "mimetype": "text/x-python",
   "name": "python",
   "nbconvert_exporter": "python",
   "pygments_lexer": "ipython3",
   "version": "3.10.16"
  }
 },
 "nbformat": 4,
 "nbformat_minor": 2
}
